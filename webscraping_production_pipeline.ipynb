{
 "cells": [
  {
   "cell_type": "markdown",
   "id": "508f8853",
   "metadata": {},
   "source": [
    "# Part-1 CODE-BLOCK\n",
    "- Do not make any changes in the 'CODE-BLOCK'\n",
    "- Execute all cells in sequence\n",
    "- Test-Blocks are disabled but for safety do not try to execute any cell marked as Test-Block"
   ]
  },
  {
   "cell_type": "code",
   "execution_count": 32,
   "id": "f42a824b",
   "metadata": {},
   "outputs": [
    {
     "name": "stderr",
     "output_type": "stream",
     "text": [
      "[WDM] - Downloading: 100%|████████████████████████████████████████████████████████| 6.78M/6.78M [00:00<00:00, 11.4MB/s]\n"
     ]
    }
   ],
   "source": [
    "# import necessary libraries\n",
    "import time\n",
    "import requests\n",
    "import re\n",
    "import numpy as np\n",
    "import pandas as pd\n",
    "from contextlib import suppress\n",
    "from selenium import webdriver\n",
    "from selenium.webdriver.chrome.service import Service as ChromeService\n",
    "from webdriver_manager.chrome import ChromeDriverManager\n",
    "from selenium.webdriver.support.wait import WebDriverWait \n",
    "from selenium.webdriver.chrome.options import Options\n",
    "from selenium.webdriver.support import expected_conditions as EC\n",
    "from selenium.webdriver.common.by import By\n",
    "\n",
    "# Install webdriver manager to automatically detect driver location\n",
    "service = ChromeService(executable_path=ChromeDriverManager().install())\n",
    "\n",
    "# Set up ChromeDriver options\n",
    "chrome_options = Options()\n",
    "chrome_options.add_argument('--headless') # Run in headless mode to avoid opening a new browser window\n"
   ]
  },
  {
   "cell_type": "code",
   "execution_count": 2,
   "id": "6dfe6572",
   "metadata": {},
   "outputs": [],
   "source": [
    "def extract_hrefs(n=2, sleep = 15):\n",
    "    \"\"\"\n",
    "    Extracts all hrefs from a paginated web url as a list \n",
    "    Args:\n",
    "        n = number of paginated web urls from which hrefs are to be extracted, default = 5\n",
    "        sleep = time in seconds to sleep before quitting the driver, default = 15 sec\n",
    "        url = paginated url from which data is to be extracted\n",
    "    Returns:\n",
    "        (list) containining the hrefs found on each page \n",
    "    \n",
    "    \"\"\"\n",
    "    \n",
    "        # Initialize empty list to store results\n",
    "    all_hrefs = []\n",
    "\n",
    "    \n",
    "    # Loop over n list pages\n",
    "    for i in range(1, n+1):\n",
    "        # Build URL for current list pages having links to company profiles\n",
    "        # Don't uncomment following line of code\n",
    "        url = f\"https://wirmarket.wir.ch/de/members/list/?page={i}&resultAmount=100\"\n",
    "        \n",
    "\n",
    "        # Launch ChromeDriver and load websites\n",
    "        # In order to disable browser windows opening for websites amend the code of the following line:\n",
    "        # driver = webdriver.Chrome(service=service, options = chrome_options)\n",
    "        driver = webdriver.Chrome(service=service)\n",
    "\n",
    "        # Don't uncomment the code on the following line, it is for testing\n",
    "        #   driver.implicitly_wait(20) # seconds\n",
    "        driver.get(url)\n",
    "\n",
    "        # Wait for all anchor elements to be present\n",
    "        # WebDriverWait(driver, 180).until(EC.visiblity_of_all_elements_located((By.CSS_SELECTOR, \"a\")))\n",
    "        # Due to intermittent functionality of WebDriverWait, we introduce sleep() function to get all anchors\n",
    "        # This value is presently set at 15 secs but you may change it depending upon internet speed\n",
    "        time.sleep(sleep)\n",
    "        # Extract hrefs from all anchor elements on current website\n",
    "        hrefs = [a.get_attribute('href') for a in driver.find_elements(By.CSS_SELECTOR, \"a\")]\n",
    "\n",
    "        # Add hrefs to the list of all hrefs\n",
    "        all_hrefs.extend(hrefs) # extend flattens the list so that it is no longer a list of lists\n",
    "\n",
    "        # Close the current browser window\n",
    "        driver.quit()\n",
    "    return all_hrefs\n"
   ]
  },
  {
   "cell_type": "code",
   "execution_count": 33,
   "id": "afd515ac",
   "metadata": {},
   "outputs": [],
   "source": [
    "### Test Block ! DO NOT EXECUTE\n",
    "# url = f\"https://wirmarket.wir.ch/de/members/list/?page={i}&resultAmount=100\"\n",
    "# all_hrefs_list = extract_hrefs(n=2, sleep = 15, \n",
    "#                          url = url)\n",
    "                          \n",
    "# # Check the length of all_hrefs list\n",
    "# # Each list link contains between 400-500 hrefs\n",
    "# print(len(all_hrefs_list))\n",
    "# # Check for duplicates\n",
    "# print(len(set(all_hrefs_list)))\n",
    "\n",
    "# # Test for function extract_hrefs passed"
   ]
  },
  {
   "cell_type": "code",
   "execution_count": 34,
   "id": "9956773f",
   "metadata": {},
   "outputs": [],
   "source": [
    "def unique_urls(urls_list):\n",
    "    \"\"\"\n",
    "    Removes repeated entries of urls in a list which might occur due to use of regex or multiple occurences on a page\n",
    "    Args:\n",
    "        urls_list: list containing urls which might be repetitive entries\n",
    "    Returns: list containing unique urls\n",
    "    \"\"\"\n",
    "    # convert to set\n",
    "    urls_set = set(urls_list)\n",
    "    # convert back to list\n",
    "    unique_urls_list = list(urls_set)\n",
    "    \n",
    "    return unique_urls_list\n"
   ]
  },
  {
   "cell_type": "code",
   "execution_count": null,
   "id": "d1d716de",
   "metadata": {},
   "outputs": [],
   "source": [
    "# ## Test-Block !DO NOT EXECUTE\n",
    "# unique_hrefs = unique_urls(all_hrefs_list)\n",
    "# print(len(unique_hrefs))\n",
    "\n",
    "# # Test for function unique_urls passed"
   ]
  },
  {
   "cell_type": "code",
   "execution_count": 35,
   "id": "7ccca824",
   "metadata": {},
   "outputs": [],
   "source": [
    "def regex_pattern_urls(pattern, hrefs_list): \n",
    "    \"\"\"\n",
    "    Uses a regex pattern to extract urls of interest out of a list of urls\n",
    "    pattern: regex pattern used for extracting urls from a list of urls\n",
    "    hrefs_list: list of hrefs required to be filtered according to the regex pattern\n",
    "    returns:urls_of_interest a list of urls filtered according to regex pattern provided\n",
    "        \n",
    "    \"\"\"\n",
    "    # Filter the list 'all_hrefs' to keep only the company profile page urls\n",
    "\n",
    "    #import regex library\n",
    "    import re\n",
    "    # regex pattern for company profile pages\n",
    "    # Do not uncomment following line of code\n",
    "#     pattern = r'https:\\/\\/\\w+\\.wir\\.ch\\/de\\/companyProfile\\/profile\\/[0-9A-F]{32}\\/info\\/\\?promo=false$'\n",
    "\n",
    "    urls_of_interest = []\n",
    "\n",
    "    # loop over all_hrefs list extracted above with Selenium to extract company profile urls\n",
    "    for href in hrefs_list:\n",
    "        match = re.search(pattern, str(href))\n",
    "        if match:\n",
    "            url = (match.group())\n",
    "            urls_of_interest.append(url)\n",
    "    return urls_of_interest        "
   ]
  },
  {
   "cell_type": "code",
   "execution_count": null,
   "id": "970ddf9e",
   "metadata": {},
   "outputs": [],
   "source": [
    "# ## Test-Block !DO NOT EXECUTE\n",
    "\n",
    "# pattern = r'https:\\/\\/\\w+\\.wir\\.ch\\/de\\/companyProfile\\/profile\\/[0-9A-F]{32}\\/info\\/\\?promo=false$'\n",
    "# company_profile_urls =  regex_pattern_urls(pattern, unique_hrefs)\n",
    "# print(len(company_profile_urls))\n",
    "# unique_company_profile_urls = unique_urls(company_profile_urls)\n",
    "# print(len(unique_company_profile_urls)) # should be 200 (slight variation of up to 5% is acceptable due to variation in internet speed)\n",
    "# print(unique_company_profile_urls[:10]) #must contain the string \"info\" in them\n",
    "\n",
    "# # Test for regex_pattern_urls passed"
   ]
  },
  {
   "cell_type": "code",
   "execution_count": 80,
   "id": "9d76f4bd",
   "metadata": {},
   "outputs": [],
   "source": [
    "def extract_info_of_interest(url_list, batch_size = 1000, batch_start_index = 0, sleep=10):\n",
    "    \"\"\"\n",
    "    Extracts all the relevant information from the given unique pages using selenium web driver finders and locators\n",
    "    Args:\n",
    "    url_list: list of the pages from where info is to be extracted\n",
    "    batch_size (int): Number of pages to be processed at a time. It is recommended to process large number of pages in batches of 1000\n",
    "    batch_start_index(int): index of the url_list from where parsing should start\n",
    "    sleep(int): seconds to wait for page to load before info can be parsed. It overrides WebDriverWait() function\n",
    "    Returns:\n",
    "    list of list of extracted data where each list contains data from a single page\n",
    "    \"\"\"\n",
    "    # Dont't uncomment following line of code, it is for troubleshooting\n",
    "#   from contextlib import suppress\n",
    "\n",
    "    # prepare the urls batch to be processed\n",
    "    batch = url_list[batch_start_index:batch_start_index+batch_size+1]\n",
    "\n",
    "    company_data = [] # initialize a list to contain lists of all companies' info\n",
    "\n",
    "\n",
    "    count = 0\n",
    "\n",
    "    for url in batch:\n",
    "        company_info = [] # initialize a list to contain one company's info\n",
    "\n",
    "\n",
    "        # driver control block\n",
    "        driver = webdriver.Chrome(service=service)\n",
    "        driver.get(url)\n",
    "        time.sleep(sleep) # We are using sleep to avoid errors of WebDriverWait though it is timewise costly\n",
    "\n",
    "\n",
    "    # Using suppress context to ignore known exceptions\n",
    "    # Do not uncomment following line of code as it may lead to execution errors it is for testing\n",
    "    #     with suppress(Exception): \n",
    "\n",
    "        # Get company names\n",
    "\n",
    "        try:\n",
    "    #         WebDriverWait(driver, 10).until(EC.presence_of_element_located((By.ID, \"71-lnk\")))\n",
    "\n",
    "            h3_headings = driver.find_elements(By.CLASS_NAME, \"inline-block\") # find all elements with class = \"inline-block\"\n",
    "            h3_list = []\n",
    "            for heading in h3_headings: #loop through the list obtained\n",
    "                h3_list.append(heading.text) # get text of all h3 headings\n",
    "            company_name = h3_list[0] # company name is the first item in the list\n",
    "            company_info.append(company_name)   \n",
    "        except:\n",
    "            company_info.append('NA')\n",
    "        finally:\n",
    "                pass\n",
    "\n",
    "\n",
    "        # Get company industry\n",
    "\n",
    "        try:\n",
    "\n",
    "            uls = driver.find_elements(By.CLASS_NAME, \"default\")\n",
    "            list_items = driver.find_elements(By.TAG_NAME,\"li\")   \n",
    "            li_list = []\n",
    "            for li in list_items:\n",
    "                li_list.append(li.text)\n",
    "            industry_name = li_list[20] # industry name is the twenty first item in the list\n",
    "            company_info.append(industry_name)   \n",
    "        except:\n",
    "            company_info.append('NA')\n",
    "        finally:\n",
    "                pass\n",
    "\n",
    "        # Get company website if present         \n",
    "        try:\n",
    "    #       WebDriverWait(driver, 10).until(EC.presence_of_element_located((By.ID, \"68-lnk\")))\n",
    "            anchor = driver.find_element(By.ID, \"68-lnk\")\n",
    "            website = anchor.get_attribute('href')\n",
    "            company_info.append(website)\n",
    "        except:\n",
    "                company_info.append('NA')\n",
    "        finally:\n",
    "                pass\n",
    "\n",
    "        # Get company telephoone if available\n",
    "        try:\n",
    "    #         WebDriverWait(driver, 10).until(EC.presence_of_element_located((By.ID, \"66-lnk\")))\n",
    "            anchor = driver.find_element(By.ID, \"66-lnk\")\n",
    "            company_telephone = anchor.get_attribute('href')\n",
    "            company_info.append(company_telephone)\n",
    "        except:\n",
    "            company_info.append('NA')\n",
    "        finally:\n",
    "                pass\n",
    "        # Get company fax if available\n",
    "        try:\n",
    "    #         WebDriverWait(driver, 10).until(EC.presence_of_element_located((By.ID, \"fax-lnk\")))\n",
    "            anchor = driver.find_element(By.ID, \"fax-lnk\")\n",
    "            company_fax_no = anchor.get_attribute('href')\n",
    "            company_info.append(company_fax_no)\n",
    "        except:\n",
    "            company_info.append('NA')\n",
    "        finally: \n",
    "                pass\n",
    "\n",
    "       # Get company address and address google map link\n",
    "        try:\n",
    "    #       WebDriverWait(driver, 10).until(EC.presence_of_element_located((By.ID, \"6-lnk\")))\n",
    "            anchor = driver.find_element(By.ID, \"6-lnk\")\n",
    "            address = anchor.text\n",
    "            address_map_link = anchor.get_attribute('href')\n",
    "            company_info.append(address)\n",
    "            company_info.append(address_map_link)\n",
    "\n",
    "        except:\n",
    "                company_info.append('NA')\n",
    "        finally:\n",
    "                pass\n",
    "\n",
    "\n",
    "        company_data.append(company_info)\n",
    "        company_info = [] # reinitialize company_info\n",
    "        \n",
    "        count+=1\n",
    "        print(\"count\", count)\n",
    "\n",
    "        driver.quit()\n",
    "    return company_data\n"
   ]
  },
  {
   "cell_type": "code",
   "execution_count": null,
   "id": "a8b743f8",
   "metadata": {},
   "outputs": [],
   "source": [
    "# ## Test-Block !DO NOT Execute\n",
    "# company_data_lists = extract_info_of_interest(url_list = unique_company_profile_urls, batch_size = 200, batch_start_index = 0, sleep=10)"
   ]
  },
  {
   "cell_type": "code",
   "execution_count": null,
   "id": "84f699e2",
   "metadata": {},
   "outputs": [],
   "source": [
    "# # Test-Block !Do Not Execute\n",
    "# print(len(company_data_lists)) # should be equal to batch size i.e. 200\n",
    "# # test for extract_info_of_interest passed"
   ]
  },
  {
   "cell_type": "code",
   "execution_count": null,
   "id": "d0360962",
   "metadata": {},
   "outputs": [],
   "source": [
    "# # Test-Block !DO NOT ExECUTE\n",
    "# print(len(company_data_lists[-1]))\n",
    "# print(company_data_lists[:5]) \n",
    "# # Should be a list of lists\n",
    "# # Each list should have seven items\n",
    "# # First item in each list should be 'company name', second: 'industry', third: website, \n",
    "# # fourth: 'tel', fifth 'fax', sixth: 'address', seventh: 'address maplink'\n",
    "# # data not available should be represented by appropriate remarks\n",
    "\n",
    "# # test for extract_info_of_interest_passed"
   ]
  },
  {
   "cell_type": "code",
   "execution_count": 37,
   "id": "9613e545",
   "metadata": {},
   "outputs": [],
   "source": [
    "# Extract emails from websites\n",
    "\n",
    "def extract_emails_from_websites(info_list, pattern = r'\\b[A-Za-z0-9._%+-]+@[A-Za-z0-9.-]+\\.[A-Z|a-z]{2,}\\b', index=2):\n",
    "    \"\"\"Extracts emails from a list of lists containing a referred website address using a regex pattern\n",
    "        Args:\n",
    "        info_list: list of lists containing extracted info including website address\n",
    "        pattern: regex pattern to cover all possible formats of email addresses\n",
    "        index(int): index number in the lists where website address is located, default=2\n",
    "        Returns: info_list_with_emails a list with email addresses appended to info_list\n",
    "    \"\"\"\n",
    "    \n",
    "    import requests\n",
    "    import re\n",
    "#     pattern = r'\\b[A-Za-z0-9._%+-]+@[A-Za-z0-9.-]+\\.[A-Z|a-z]{2,}\\b'\n",
    "\n",
    "    info_list_with_emails = info_list.copy() # make a copy to avoid overwriting original list\n",
    "    for page in info_list_with_emails:\n",
    "        try:\n",
    "            response = requests.get(str(page[index]))\n",
    "\n",
    "            if response.status_code == 200:\n",
    "                emails = re.findall(pattern, response.text)\n",
    "                if emails:\n",
    "                    unique_emails = set(emails)\n",
    "                    unique_emails_list = list(unique_emails)\n",
    "                    page.append(unique_emails_list[0])\n",
    "                else:\n",
    "                    page.append('email not found on website')\n",
    "            else:\n",
    "                page.append('bad/broken link to website')\n",
    "        except:\n",
    "                page.append('website does not exist')\n",
    "    return info_list_with_emails\n",
    "\n"
   ]
  },
  {
   "cell_type": "code",
   "execution_count": null,
   "id": "1f7d05cc",
   "metadata": {},
   "outputs": [],
   "source": [
    "# ## Test_Bloack !DO NOT EXECUTE\n",
    "# company_data_lists_with_emails = extract_emails_from_websites(company_data_lists)"
   ]
  },
  {
   "cell_type": "code",
   "execution_count": null,
   "id": "a24d3e14",
   "metadata": {},
   "outputs": [],
   "source": [
    "# ## Test_Block !DO NOT EXECUTE\n",
    "# print(len(company_data_lists_with_emails)) # should be same as company_data_lists i.e. 200\n",
    "# print(len(company_data_lists_with_emails[-1])) # should be 8\n",
    "# print(company_data_lists_with_emails[-5:]) #should have 8 items in each list with emails or remarks added\n",
    "\n",
    "# # Test for extract_emails_from_websites passed"
   ]
  },
  {
   "cell_type": "code",
   "execution_count": null,
   "id": "dd6e725d",
   "metadata": {},
   "outputs": [],
   "source": [
    "# ## Test-Block !DO NOT EXECUTE\n",
    "# # Convert to Dataframe first 100 items\n",
    "# columns=['company_name', 'industry', 'website', 'telephone', 'fax', 'address', 'address_maplink', 'email']\n",
    "\n",
    "# df1 = pd.DataFrame(company_data_lists_with_emails[:100], columns=columns)\n",
    " "
   ]
  },
  {
   "cell_type": "code",
   "execution_count": null,
   "id": "c1ec8126",
   "metadata": {},
   "outputs": [],
   "source": [
    "# ## Test-Block !DO NOT EXECUTE\n",
    "# df1.info()"
   ]
  },
  {
   "cell_type": "code",
   "execution_count": null,
   "id": "a4591f26",
   "metadata": {},
   "outputs": [],
   "source": [
    "# ## Test_Block !DO NOT EXECUTE\n",
    "# df1.head()"
   ]
  },
  {
   "cell_type": "code",
   "execution_count": null,
   "id": "d48b0f28",
   "metadata": {},
   "outputs": [],
   "source": [
    "# ## Test-Block !DO NOT EXECUTE\n",
    "# # Convert to DataFrame next 100 items\n",
    "# columns=['company_name', 'industry', 'website', 'telephone', 'fax', 'address', 'address_maplink', 'email']\n",
    "\n",
    "# df2 = pd.DataFrame(company_data_lists_with_emails[101:200], columns=columns)\n"
   ]
  },
  {
   "cell_type": "code",
   "execution_count": null,
   "id": "5e92d51e",
   "metadata": {},
   "outputs": [],
   "source": [
    "# ## Test-Block !DO NOT EXECUTE\n",
    "# df2.info()"
   ]
  },
  {
   "cell_type": "code",
   "execution_count": null,
   "id": "989dc46d",
   "metadata": {
    "scrolled": true
   },
   "outputs": [],
   "source": [
    "# ## Test_Block !DO NOT EXECUTE\n",
    "# df2.head()"
   ]
  },
  {
   "cell_type": "code",
   "execution_count": null,
   "id": "87eecb29",
   "metadata": {},
   "outputs": [],
   "source": [
    "# ## Test_Block !DO NOT EXECUTE\n",
    "# df2.tail()"
   ]
  },
  {
   "cell_type": "code",
   "execution_count": null,
   "id": "9d835917",
   "metadata": {},
   "outputs": [],
   "source": [
    "# # Test-Block !DO nOT EXECUTE\n",
    "# # Join both Dataframes\n",
    "# df = pd.concat([df1, df2])"
   ]
  },
  {
   "cell_type": "code",
   "execution_count": null,
   "id": "63b05885",
   "metadata": {},
   "outputs": [],
   "source": [
    "## Test-Block DO NOT EXECUTE\n",
    "# df.info()"
   ]
  },
  {
   "cell_type": "code",
   "execution_count": null,
   "id": "b176084c",
   "metadata": {},
   "outputs": [],
   "source": [
    "# ## Test_Block !DO NOT EXECUTE\n",
    "# df.head()==df1.head() # should be same as df1.head()\n",
    "# # test passed"
   ]
  },
  {
   "cell_type": "code",
   "execution_count": null,
   "id": "67dad03f",
   "metadata": {},
   "outputs": [],
   "source": [
    "# ## Test_Block !DO NOT EXECUTE\n",
    "# df.tail()==df2.tail() # should be same as df2.tail()\n",
    "# # test passed"
   ]
  },
  {
   "cell_type": "markdown",
   "id": "9209261e",
   "metadata": {},
   "source": [
    "### xxxxxxxxxxxxxxxxxxxxxx END OF CODE BLOCKXXXXXXXXXXXXXXXXXXXXXXXX"
   ]
  },
  {
   "cell_type": "markdown",
   "id": "dd50e5e2",
   "metadata": {},
   "source": [
    "## XXXXXXXXXXXXX START OF EXECUTION BLOCXXXXXXXXXXXXXX"
   ]
  },
  {
   "cell_type": "markdown",
   "id": "b2291625",
   "metadata": {},
   "source": [
    "### Part-I Extract links to all company profile pages"
   ]
  },
  {
   "cell_type": "code",
   "execution_count": 7,
   "id": "5dff63f1",
   "metadata": {},
   "outputs": [
    {
     "name": "stdout",
     "output_type": "stream",
     "text": [
      "execution_time:  7432.664510250092\n"
     ]
    }
   ],
   "source": [
    "# extract all_hrefs from 224 list pages on the site \n",
    "start_time = time.time()\n",
    "# url = f\"https://wirmarket.wir.ch/de/members/list/?page={i}&resultAmount=25\"\n",
    "all_hrefs = extract_hrefs( n=224, sleep = 17)\n",
    "\n",
    "end_time = time.time()\n",
    "execution_time = end_time - start_time\n",
    "print(\"execution_time: \", execution_time)\n"
   ]
  },
  {
   "cell_type": "code",
   "execution_count": 8,
   "id": "b7a31a28",
   "metadata": {
    "scrolled": true
   },
   "outputs": [
    {
     "name": "stdout",
     "output_type": "stream",
     "text": [
      "104806\n"
     ]
    }
   ],
   "source": [
    "print(len(all_hrefs))"
   ]
  },
  {
   "cell_type": "code",
   "execution_count": 61,
   "id": "29d9f309",
   "metadata": {},
   "outputs": [],
   "source": [
    "all_hrefs_dict = {\"hrefs\": all_hrefs}\n",
    "all_hrefs_df = pd.DataFrame(all_hrefs)\n",
    "all_hrefs_df.to_csv(\"all_hrefs.csv\", index = False)"
   ]
  },
  {
   "cell_type": "code",
   "execution_count": 9,
   "id": "85ea6024",
   "metadata": {},
   "outputs": [],
   "source": [
    "# Remove duplicate or repeated entries from the all_hrefs\n",
    "all_hrefs_unique = unique_urls(all_hrefs) "
   ]
  },
  {
   "cell_type": "code",
   "execution_count": 10,
   "id": "8e09615e",
   "metadata": {},
   "outputs": [
    {
     "name": "stdout",
     "output_type": "stream",
     "text": [
      "29124\n"
     ]
    }
   ],
   "source": [
    "print(len(all_hrefs_unique))"
   ]
  },
  {
   "cell_type": "code",
   "execution_count": 11,
   "id": "90cf8bd8",
   "metadata": {},
   "outputs": [],
   "source": [
    "# Extract company profile page urls from all unique hrefs\n",
    "pattern = r'https:\\/\\/\\w+\\.wir\\.ch\\/de\\/companyProfile\\/profile\\/[0-9A-F]{32}\\/info\\/\\?promo=false$'\n",
    "company_profile_urls = regex_pattern_urls(pattern = pattern, hrefs_list = all_hrefs_unique)"
   ]
  },
  {
   "cell_type": "code",
   "execution_count": 12,
   "id": "d31e83a3",
   "metadata": {},
   "outputs": [
    {
     "name": "stdout",
     "output_type": "stream",
     "text": [
      "14227\n"
     ]
    }
   ],
   "source": [
    "print(len(company_profile_urls))"
   ]
  },
  {
   "cell_type": "code",
   "execution_count": 13,
   "id": "d36bfaa5",
   "metadata": {},
   "outputs": [],
   "source": [
    "# Remove duplicate or repeated entries from company_profile_urls\n",
    "unique_company_profile_urls = unique_urls(company_profile_urls)"
   ]
  },
  {
   "cell_type": "markdown",
   "id": "c44409ab",
   "metadata": {},
   "source": [
    "#### Checkpoint-1"
   ]
  },
  {
   "cell_type": "code",
   "execution_count": 14,
   "id": "064d40e8",
   "metadata": {
    "scrolled": true
   },
   "outputs": [
    {
     "name": "stdout",
     "output_type": "stream",
     "text": [
      "14227\n",
      "['https://wirmarket.wir.ch/de/companyProfile/profile/3E429FAF14ED2A65E0540010E0244DC9/info/?promo=false', 'https://wirmarket.wir.ch/de/companyProfile/profile/3E429FAF4B042A65E0540010E0244DC9/info/?promo=false', 'https://wirmarket.wir.ch/de/companyProfile/profile/3E429FAF240E2A65E0540010E0244DC9/info/?promo=false', 'https://wirmarket.wir.ch/de/companyProfile/profile/3E429FAF3B6B2A65E0540010E0244DC9/info/?promo=false', 'https://wirmarket.wir.ch/de/companyProfile/profile/3E429FAF41082A65E0540010E0244DC9/info/?promo=false', 'https://wirmarket.wir.ch/de/companyProfile/profile/3E429FAF12A92A65E0540010E0244DC9/info/?promo=false', 'https://wirmarket.wir.ch/de/companyProfile/profile/3E429FAF1B3B2A65E0540010E0244DC9/info/?promo=false', 'https://wirmarket.wir.ch/de/companyProfile/profile/3E429FAF54932A65E0540010E0244DC9/info/?promo=false', 'https://wirmarket.wir.ch/de/companyProfile/profile/3E429FAF31EB2A65E0540010E0244DC9/info/?promo=false', 'https://wirmarket.wir.ch/de/companyProfile/profile/3E429FAF219D2A65E0540010E0244DC9/info/?promo=false']\n",
      "['https://wirmarket.wir.ch/de/companyProfile/profile/3E429FAF60092A65E0540010E0244DC9/info/?promo=false', 'https://wirmarket.wir.ch/de/companyProfile/profile/3E429FAF1CA52A65E0540010E0244DC9/info/?promo=false', 'https://wirmarket.wir.ch/de/companyProfile/profile/3E429FAF36632A65E0540010E0244DC9/info/?promo=false', 'https://wirmarket.wir.ch/de/companyProfile/profile/4F36409C88EC4E65E054A0369F14B95F/info/?promo=false', 'https://wirmarket.wir.ch/de/companyProfile/profile/D5BF12ED73B95F86E05400144FF976C6/info/?promo=false', 'https://wirmarket.wir.ch/de/companyProfile/profile/3E429FAF26282A65E0540010E0244DC9/info/?promo=false', 'https://wirmarket.wir.ch/de/companyProfile/profile/3E429FAF3C152A65E0540010E0244DC9/info/?promo=false', 'https://wirmarket.wir.ch/de/companyProfile/profile/58B85543DFA09858E05400144FF95A47/info/?promo=false', 'https://wirmarket.wir.ch/de/companyProfile/profile/3E429FAF27E62A65E0540010E0244DC9/info/?promo=false', 'https://wirmarket.wir.ch/de/companyProfile/profile/3E429FAF55272A65E0540010E0244DC9/info/?promo=false']\n"
     ]
    }
   ],
   "source": [
    "print(len(unique_company_profile_urls)) # should be 200 (slight variation of up to 5% is acceptable due to variation in internet speed)\n",
    "print(unique_company_profile_urls[:10])\n",
    "print(unique_company_profile_urls[-10:])"
   ]
  },
  {
   "cell_type": "code",
   "execution_count": 62,
   "id": "6afee03a",
   "metadata": {},
   "outputs": [],
   "source": [
    "# Save as csv\n",
    "company_profile_url_dict = {\"urls\": unique_company_profile_urls}\n",
    "company_profile_url_df = pd.DataFrame(company_profile_url_dict)\n",
    "company_profile_url_df.to_csv('profile_urls.csv', index = False)"
   ]
  },
  {
   "cell_type": "markdown",
   "id": "099820ca",
   "metadata": {},
   "source": [
    "### xxxxxxxxxxxxxxxxxxx END OF PART-1 xxxxxxxxxxxxxxxxxxxxxxxxxxx"
   ]
  },
  {
   "cell_type": "markdown",
   "id": "d9a9d064",
   "metadata": {},
   "source": [
    "## Part-2 Batch Processing"
   ]
  },
  {
   "cell_type": "markdown",
   "id": "b05662e3",
   "metadata": {},
   "source": [
    "### Batch-1, batch_size = 1000, batch_start_index = 0"
   ]
  },
  {
   "cell_type": "code",
   "execution_count": 17,
   "id": "7d5d4e3f",
   "metadata": {},
   "outputs": [
    {
     "name": "stdout",
     "output_type": "stream",
     "text": [
      "execution time:  18019.821753025055\n"
     ]
    }
   ],
   "source": [
    "# Extract info of interst\n",
    "start_time = time.time()\n",
    "batch1_initial = extract_info_of_interest(unique_company_profile_urls, batch_size = 1000, batch_start_index = 0, sleep=10)\n",
    "end_time = time.time()\n",
    "execution_time = end_time - start_time\n",
    "print('execution time: ', execution_time)"
   ]
  },
  {
   "cell_type": "markdown",
   "id": "11ae5ade",
   "metadata": {},
   "source": [
    "### checkpoint-1"
   ]
  },
  {
   "cell_type": "code",
   "execution_count": 20,
   "id": "8dbadfa9",
   "metadata": {},
   "outputs": [
    {
     "name": "stdout",
     "output_type": "stream",
     "text": [
      "1001\n",
      "7\n"
     ]
    }
   ],
   "source": [
    "print(len(batch1_initial)) # Should be equal to batch_size + 1\n",
    "print(len(batch1_initial[-1])) # Should be equal to 7"
   ]
  },
  {
   "cell_type": "code",
   "execution_count": 21,
   "id": "b0ded14e",
   "metadata": {},
   "outputs": [
    {
     "name": "stdout",
     "output_type": "stream",
     "text": [
      "[['Ringler + Strahm Storenbau AG', 'Sonstige Bauinstallation', 'http://www.ringler-strahm.ch/', 'tel:033 345 22 55', 'fax:033 345 55 19', 'Uetendorfstrasse 20\\n3634 Thierachern', 'https://www.google.com/maps/place/Uetendorfstrasse%2020+3634+Thierachern'], ['Grob & Partner Architektur AG', 'Architekturbüros', 'http://www.grobarchitektur.ch/', 'tel:081 720 02 00', 'fax:081 720 02 05', 'Bahnhofstrasse 3\\n7320 Sargans', 'https://www.google.com/maps/place/Bahnhofstrasse%20%203+7320+Sargans'], ['Lauclair AG', 'Schreinerarbeiten im Innenausbau', 'http://www.lauclair.ch/', 'tel:031 879 01 69', 'fax:031 879 20 69', 'Lyssstrasse 27\\n3054 Schüpfen', 'https://www.google.com/maps/place/Lyssstrasse%2027+3054+Sch%C3%BCpfen']]\n"
     ]
    }
   ],
   "source": [
    "print(batch1_initial[:3])"
   ]
  },
  {
   "cell_type": "markdown",
   "id": "3b4ec23e",
   "metadata": {},
   "source": [
    "### End of checkpoint-1"
   ]
  },
  {
   "cell_type": "code",
   "execution_count": 22,
   "id": "fad49f5c",
   "metadata": {},
   "outputs": [
    {
     "name": "stdout",
     "output_type": "stream",
     "text": [
      "execution time:  953.6410942077637\n"
     ]
    }
   ],
   "source": [
    "# Extract emails\n",
    "start_time = time.time()\n",
    "pattern = r'\\b[A-Za-z0-9._%+-]+@[A-Za-z0-9.-]+\\.[A-Z|a-z]{2,}\\b'\n",
    "batch1 = extract_emails_from_websites(batch1_initial, pattern = pattern , index=2)\n",
    "end_time = time.time()\n",
    "execution_time = end_time - start_time\n",
    "print('execution time: ', execution_time)"
   ]
  },
  {
   "cell_type": "markdown",
   "id": "62cd0465",
   "metadata": {},
   "source": [
    "### checkpoint-2"
   ]
  },
  {
   "cell_type": "code",
   "execution_count": 23,
   "id": "4b6dcf05",
   "metadata": {},
   "outputs": [
    {
     "name": "stdout",
     "output_type": "stream",
     "text": [
      "1001\n",
      "8\n",
      "[['STB Holzbau GmbH', 'Einbau von Fenster, Türen und Innenausbau, Einbauküchen, Einbaumöbel', 'NA', 'tel:055 444 31 68', 'fax:055 444 31 68', 'Haslenstrasse 28b\\n8862 Schübelbach', 'https://www.google.com/maps/place/Haslenstrasse%2028b+8862+Sch%C3%BCbelbach', 'website does not exist'], ['Beauty Solar Sonnenland GmbH', 'Saunas, Solarien', 'NA', 'tel:041 280 15 15', 'fax:041 631 08 07', 'Schulhausstrasse 4\\n6052 Hergiswil NW', 'https://www.google.com/maps/place/Schulhausstrasse%204+6052+Hergiswil%20NW', 'website does not exist'], ['Elektro-Brizzi AG', 'Elektroinstallation', 'NA', 'tel:052 386 22 22', 'fax:052 386 22 93', 'Heinrich Gujer-Strasse 5\\n8494 Bauma', 'https://www.google.com/maps/place/Heinrich%20Gujer-Strasse%205+8494+Bauma', 'website does not exist'], ['Keller Wärme & Wasser AG', 'Sanitär- und Heizungsinstallation', 'NA', 'tel:032 373 51 53', 'fax:032 373 27 71', 'Erlenstrasse 15\\n2555 Brügg BE', 'https://www.google.com/maps/place/Erlenstrasse%2015+2555+Br%C3%BCgg%20BE', 'website does not exist'], ['Trend Werbeartikel GmbH', 'Detailhandel mit Geschenkartikeln und Souvenirs', 'http://www.trend-werbeartikel.ch/', 'tel:031 952 61 21', 'fax:031 952 61 32', 'Webergutstrasse 4\\n3052 Zollikofen', 'https://www.google.com/maps/place/Webergutstrasse%204+3052+Zollikofen', 'bad/broken link to website']]\n"
     ]
    }
   ],
   "source": [
    "print(len(batch1)) # should be same as batch_size i.e. 1001\n",
    "print(len(batch1[-1])) # should be 8\n",
    "print(batch1[-5:]) #should have 8 items in each list with emails or remarks added\n"
   ]
  },
  {
   "cell_type": "markdown",
   "id": "ac6cf333",
   "metadata": {},
   "source": [
    "### End of checkpoint-2"
   ]
  },
  {
   "cell_type": "code",
   "execution_count": 24,
   "id": "9d77aeb4",
   "metadata": {},
   "outputs": [],
   "source": [
    "# Columns to be used for all batches\n",
    "columns=['company_name', 'industry', 'website', 'telephone', 'fax', 'address', 'address_maplink', 'email']\n"
   ]
  },
  {
   "cell_type": "code",
   "execution_count": 25,
   "id": "c8c895eb",
   "metadata": {},
   "outputs": [],
   "source": [
    "# # Convert to Dataframe batch1\n",
    "df1 = pd.DataFrame(batch1, columns=columns)\n"
   ]
  },
  {
   "cell_type": "markdown",
   "id": "682b14a9",
   "metadata": {},
   "source": [
    "### Checkpoint-3"
   ]
  },
  {
   "cell_type": "code",
   "execution_count": 26,
   "id": "763ebab0",
   "metadata": {},
   "outputs": [
    {
     "name": "stdout",
     "output_type": "stream",
     "text": [
      "<class 'pandas.core.frame.DataFrame'>\n",
      "RangeIndex: 1001 entries, 0 to 1000\n",
      "Data columns (total 8 columns):\n",
      " #   Column           Non-Null Count  Dtype \n",
      "---  ------           --------------  ----- \n",
      " 0   company_name     1001 non-null   object\n",
      " 1   industry         1001 non-null   object\n",
      " 2   website          1001 non-null   object\n",
      " 3   telephone        1001 non-null   object\n",
      " 4   fax              1001 non-null   object\n",
      " 5   address          1001 non-null   object\n",
      " 6   address_maplink  1001 non-null   object\n",
      " 7   email            1001 non-null   object\n",
      "dtypes: object(8)\n",
      "memory usage: 62.7+ KB\n"
     ]
    }
   ],
   "source": [
    "df1.info()"
   ]
  },
  {
   "cell_type": "code",
   "execution_count": 27,
   "id": "b2311dda",
   "metadata": {},
   "outputs": [
    {
     "data": {
      "text/html": [
       "<div>\n",
       "<style scoped>\n",
       "    .dataframe tbody tr th:only-of-type {\n",
       "        vertical-align: middle;\n",
       "    }\n",
       "\n",
       "    .dataframe tbody tr th {\n",
       "        vertical-align: top;\n",
       "    }\n",
       "\n",
       "    .dataframe thead th {\n",
       "        text-align: right;\n",
       "    }\n",
       "</style>\n",
       "<table border=\"1\" class=\"dataframe\">\n",
       "  <thead>\n",
       "    <tr style=\"text-align: right;\">\n",
       "      <th></th>\n",
       "      <th>company_name</th>\n",
       "      <th>industry</th>\n",
       "      <th>website</th>\n",
       "      <th>telephone</th>\n",
       "      <th>fax</th>\n",
       "      <th>address</th>\n",
       "      <th>address_maplink</th>\n",
       "      <th>email</th>\n",
       "    </tr>\n",
       "  </thead>\n",
       "  <tbody>\n",
       "    <tr>\n",
       "      <th>0</th>\n",
       "      <td>Ringler + Strahm Storenbau AG</td>\n",
       "      <td>Sonstige Bauinstallation</td>\n",
       "      <td>http://www.ringler-strahm.ch/</td>\n",
       "      <td>tel:033 345 22 55</td>\n",
       "      <td>fax:033 345 55 19</td>\n",
       "      <td>Uetendorfstrasse 20\\n3634 Thierachern</td>\n",
       "      <td>https://www.google.com/maps/place/Uetendorfstr...</td>\n",
       "      <td>info@ringler-strahm.ch</td>\n",
       "    </tr>\n",
       "    <tr>\n",
       "      <th>1</th>\n",
       "      <td>Grob &amp; Partner Architektur AG</td>\n",
       "      <td>Architekturbüros</td>\n",
       "      <td>http://www.grobarchitektur.ch/</td>\n",
       "      <td>tel:081 720 02 00</td>\n",
       "      <td>fax:081 720 02 05</td>\n",
       "      <td>Bahnhofstrasse 3\\n7320 Sargans</td>\n",
       "      <td>https://www.google.com/maps/place/Bahnhofstras...</td>\n",
       "      <td>605a7baede844d278b89dc95ae0a9123@sentry-next.w...</td>\n",
       "    </tr>\n",
       "    <tr>\n",
       "      <th>2</th>\n",
       "      <td>Lauclair AG</td>\n",
       "      <td>Schreinerarbeiten im Innenausbau</td>\n",
       "      <td>http://www.lauclair.ch/</td>\n",
       "      <td>tel:031 879 01 69</td>\n",
       "      <td>fax:031 879 20 69</td>\n",
       "      <td>Lyssstrasse 27\\n3054 Schüpfen</td>\n",
       "      <td>https://www.google.com/maps/place/Lyssstrasse%...</td>\n",
       "      <td>a95fca1f1eb9fe8g2c9ead0cd9931e2a@2x.jpg</td>\n",
       "    </tr>\n",
       "    <tr>\n",
       "      <th>3</th>\n",
       "      <td>Club Goldwand</td>\n",
       "      <td>Kauf und Verkauf von eigenen Grundstücken, Geb...</td>\n",
       "      <td>http://www.clubgoldwand.ch/</td>\n",
       "      <td>tel:056 282 30 50</td>\n",
       "      <td>NA</td>\n",
       "      <td>Landstrasse 6\\n5415 Nussbaumen AG</td>\n",
       "      <td>https://www.google.com/maps/place/Landstrasse%...</td>\n",
       "      <td>info@clubgoldwand.ch</td>\n",
       "    </tr>\n",
       "    <tr>\n",
       "      <th>4</th>\n",
       "      <td>NICOLE DIEM Horgen</td>\n",
       "      <td>Detailhandel mit Brillen und anderen Sehhilfen</td>\n",
       "      <td>http://www.nicolediem.ch/</td>\n",
       "      <td>tel:044 770 10 40</td>\n",
       "      <td>NA</td>\n",
       "      <td>Dorfplatz 3\\n8810 Horgen</td>\n",
       "      <td>https://www.google.com/maps/place/Dorfplatz%20...</td>\n",
       "      <td>johndoe@domain.com</td>\n",
       "    </tr>\n",
       "  </tbody>\n",
       "</table>\n",
       "</div>"
      ],
      "text/plain": [
       "                    company_name  \\\n",
       "0  Ringler + Strahm Storenbau AG   \n",
       "1  Grob & Partner Architektur AG   \n",
       "2                    Lauclair AG   \n",
       "3                  Club Goldwand   \n",
       "4             NICOLE DIEM Horgen   \n",
       "\n",
       "                                            industry  \\\n",
       "0                           Sonstige Bauinstallation   \n",
       "1                                   Architekturbüros   \n",
       "2                   Schreinerarbeiten im Innenausbau   \n",
       "3  Kauf und Verkauf von eigenen Grundstücken, Geb...   \n",
       "4     Detailhandel mit Brillen und anderen Sehhilfen   \n",
       "\n",
       "                          website          telephone                fax  \\\n",
       "0   http://www.ringler-strahm.ch/  tel:033 345 22 55  fax:033 345 55 19   \n",
       "1  http://www.grobarchitektur.ch/  tel:081 720 02 00  fax:081 720 02 05   \n",
       "2         http://www.lauclair.ch/  tel:031 879 01 69  fax:031 879 20 69   \n",
       "3     http://www.clubgoldwand.ch/  tel:056 282 30 50                 NA   \n",
       "4       http://www.nicolediem.ch/  tel:044 770 10 40                 NA   \n",
       "\n",
       "                                 address  \\\n",
       "0  Uetendorfstrasse 20\\n3634 Thierachern   \n",
       "1         Bahnhofstrasse 3\\n7320 Sargans   \n",
       "2          Lyssstrasse 27\\n3054 Schüpfen   \n",
       "3      Landstrasse 6\\n5415 Nussbaumen AG   \n",
       "4               Dorfplatz 3\\n8810 Horgen   \n",
       "\n",
       "                                     address_maplink  \\\n",
       "0  https://www.google.com/maps/place/Uetendorfstr...   \n",
       "1  https://www.google.com/maps/place/Bahnhofstras...   \n",
       "2  https://www.google.com/maps/place/Lyssstrasse%...   \n",
       "3  https://www.google.com/maps/place/Landstrasse%...   \n",
       "4  https://www.google.com/maps/place/Dorfplatz%20...   \n",
       "\n",
       "                                               email  \n",
       "0                             info@ringler-strahm.ch  \n",
       "1  605a7baede844d278b89dc95ae0a9123@sentry-next.w...  \n",
       "2            a95fca1f1eb9fe8g2c9ead0cd9931e2a@2x.jpg  \n",
       "3                               info@clubgoldwand.ch  \n",
       "4                                 johndoe@domain.com  "
      ]
     },
     "execution_count": 27,
     "metadata": {},
     "output_type": "execute_result"
    }
   ],
   "source": [
    "df1.head()"
   ]
  },
  {
   "cell_type": "code",
   "execution_count": 19,
   "id": "0a664d30",
   "metadata": {},
   "outputs": [],
   "source": [
    "### End of Checkpoint-3"
   ]
  },
  {
   "cell_type": "code",
   "execution_count": 28,
   "id": "cbe0536b",
   "metadata": {},
   "outputs": [],
   "source": [
    "# Save as csv file\n",
    "df1.to_csv('batch1.csv', index = False)"
   ]
  },
  {
   "cell_type": "markdown",
   "id": "5ef595d8",
   "metadata": {},
   "source": [
    "### xxxxxxxxxxxxxxx Push to Github xxxxxxxxxxxxxxxxxxxxxxxxx"
   ]
  },
  {
   "cell_type": "markdown",
   "id": "05ea2e1d",
   "metadata": {},
   "source": [
    "### Batch-2, batch_size = 1000, batch_start_index = 1001"
   ]
  },
  {
   "cell_type": "code",
   "execution_count": 41,
   "id": "f2cfb1e2",
   "metadata": {},
   "outputs": [
    {
     "name": "stdout",
     "output_type": "stream",
     "text": [
      "execution time:  19495.211315393448\n"
     ]
    }
   ],
   "source": [
    "# Extract info of interst\n",
    "start_time = time.time()\n",
    "batch2_initial = extract_info_of_interest(unique_company_profile_urls, batch_size = 1000, batch_start_index = 1001, sleep=10)\n",
    "end_time = time.time()\n",
    "execution_time = end_time - start_time\n",
    "print('execution time: ', execution_time)"
   ]
  },
  {
   "cell_type": "markdown",
   "id": "f9576f8a",
   "metadata": {},
   "source": [
    "### checkpoint-1"
   ]
  },
  {
   "cell_type": "code",
   "execution_count": 42,
   "id": "f051f1f2",
   "metadata": {},
   "outputs": [
    {
     "name": "stdout",
     "output_type": "stream",
     "text": [
      "1001\n",
      "7\n"
     ]
    }
   ],
   "source": [
    "print(len(batch2_initial))\n",
    "print(len(batch2_initial[-1]))"
   ]
  },
  {
   "cell_type": "code",
   "execution_count": 43,
   "id": "181048f0",
   "metadata": {},
   "outputs": [
    {
     "name": "stdout",
     "output_type": "stream",
     "text": [
      "[['Modehaus Peter', 'Detailhandel mit Herrenbekleidung', 'NA', 'tel:041 970 17 57', 'fax:041 970 07 57', 'Hauptgasse 36\\n6130 Willisau', 'https://www.google.com/maps/place/Hauptgasse%2036+6130+Willisau'], ['VB ORGANISATION Sàrl', 'Offsetdruck', 'http://www.imprimerievb.ch/', 'tel:079 205 44 53', 'NA', 'chemin St-Hubert 32\\n1950 Sion', 'https://www.google.com/maps/place/chemin%20St-Hubert%2032+1950+Sion'], ['Heinz Stucki', 'Anbau von Getreide (ohne Reis), Hülsenfrüchten und Ölsaaten', 'NA', 'tel:031 781 05 03', 'fax:031 781 05 03', 'Hubmatt\\n3116 Noflen BE', 'https://www.google.com/maps/place/Hubmatt+3116+Noflen%20BE']]\n"
     ]
    }
   ],
   "source": [
    "print(batch2_initial[:3])"
   ]
  },
  {
   "cell_type": "markdown",
   "id": "5d3adf21",
   "metadata": {},
   "source": [
    "### End of Checkpoint-1"
   ]
  },
  {
   "cell_type": "code",
   "execution_count": 44,
   "id": "ef3323f3",
   "metadata": {},
   "outputs": [
    {
     "name": "stdout",
     "output_type": "stream",
     "text": [
      "execution time:  1249.9318661689758\n"
     ]
    }
   ],
   "source": [
    "# Extract emails\n",
    "start_time = time.time()\n",
    "pattern = r'\\b[A-Za-z0-9._%+-]+@[A-Za-z0-9.-]+\\.[A-Z|a-z]{2,}\\b'\n",
    "batch2 = extract_emails_from_websites(batch2_initial, pattern = pattern , index=2)\n",
    "end_time = time.time()\n",
    "execution_time = end_time - start_time\n",
    "print('execution time: ', execution_time)"
   ]
  },
  {
   "cell_type": "markdown",
   "id": "dca3d029",
   "metadata": {},
   "source": [
    "### Checkpoint-2"
   ]
  },
  {
   "cell_type": "code",
   "execution_count": 45,
   "id": "a1627cf6",
   "metadata": {},
   "outputs": [
    {
     "name": "stdout",
     "output_type": "stream",
     "text": [
      "1001\n",
      "8\n",
      "[['MBA AG', 'Grosshandel mit Bergwerks-, Bau- und Baustoffmaschinen', 'http://www.mba-baumaschinen.ch/', 'tel:044 838 61 11', 'NA', 'Zürichstrasse 50\\n8303 Bassersdorf', 'https://www.google.com/maps/place/Z%C3%BCrichstrasse%2050+8303+Bassersdorf', 'info@mba-maschinen.com'], ['Mächler GU AG', 'Garten- und Landschaftsbau sowie Erbringung von sonstigen gärtnerischen Dienstleistungen', 'http://www.maechler-gu.ch/', 'tel:055 451 11 31', 'fax:055 451 11 34', 'St.Gallerstrasse 58\\n8853 Lachen SZ', 'https://www.google.com/maps/place/St.Gallerstrasse%2058+8853+Lachen%20SZ', 'info@maechler-gu.ch'], ['Garasch 106 AG', 'lnstandhaltung und Reparatur von Automobilen', 'https://garasch106.ch/', 'tel:041 624 40 24', 'NA', 'Stanserstrasse 106\\n6373 Ennetbürgen', 'https://www.google.com/maps/place/Stanserstrasse%20106+6373+Ennetb%C3%BCrgen', 'auto@garasch106.ch'], ['Bumbachsäge AG', 'Sägewerke', 'http://www.bumbachsaege.ch/', 'tel:034 493 35 57', 'fax:034 493 31 84', 'Bumbachsäge 172\\n6197 Schangnau', 'https://www.google.com/maps/place/Bumbachs%C3%A4ge%20172+6197+Schangnau', 'info@bumbachsaege.ch'], ['MEUBLES DESCARTES SA', 'Inserate', 'http://www.decarte.ch/', 'tel:027 743 43 43', 'fax:027 743 43 44', 'Route du Léman 33\\n1907 Saxon', 'https://www.google.com/maps/place/Route%20du%20L%C3%A9man%2033+1907+Saxon', 'email not found on website']]\n"
     ]
    }
   ],
   "source": [
    "print(len(batch2)) # should be same as batch_size i.e. 1000\n",
    "print(len(batch2[-1])) # should be 8\n",
    "print(batch2[-5:]) #should have 8 items in each list with emails or remarks added"
   ]
  },
  {
   "cell_type": "markdown",
   "id": "35420a21",
   "metadata": {},
   "source": [
    "### End of Checkpoint-2"
   ]
  },
  {
   "cell_type": "code",
   "execution_count": 46,
   "id": "eb978e51",
   "metadata": {},
   "outputs": [],
   "source": [
    "# # Convert to Dataframe batch1\n",
    "df2 = pd.DataFrame(batch2, columns=columns)\n"
   ]
  },
  {
   "cell_type": "markdown",
   "id": "6c5ead28",
   "metadata": {},
   "source": [
    "### Checkpoint 3"
   ]
  },
  {
   "cell_type": "code",
   "execution_count": 47,
   "id": "fb841687",
   "metadata": {},
   "outputs": [
    {
     "name": "stdout",
     "output_type": "stream",
     "text": [
      "<class 'pandas.core.frame.DataFrame'>\n",
      "RangeIndex: 1001 entries, 0 to 1000\n",
      "Data columns (total 8 columns):\n",
      " #   Column           Non-Null Count  Dtype \n",
      "---  ------           --------------  ----- \n",
      " 0   company_name     1001 non-null   object\n",
      " 1   industry         1001 non-null   object\n",
      " 2   website          1001 non-null   object\n",
      " 3   telephone        1001 non-null   object\n",
      " 4   fax              1001 non-null   object\n",
      " 5   address          1001 non-null   object\n",
      " 6   address_maplink  1001 non-null   object\n",
      " 7   email            987 non-null    object\n",
      "dtypes: object(8)\n",
      "memory usage: 62.7+ KB\n"
     ]
    }
   ],
   "source": [
    "df2.info()"
   ]
  },
  {
   "cell_type": "code",
   "execution_count": 48,
   "id": "c9e2b5ad",
   "metadata": {},
   "outputs": [
    {
     "data": {
      "text/html": [
       "<div>\n",
       "<style scoped>\n",
       "    .dataframe tbody tr th:only-of-type {\n",
       "        vertical-align: middle;\n",
       "    }\n",
       "\n",
       "    .dataframe tbody tr th {\n",
       "        vertical-align: top;\n",
       "    }\n",
       "\n",
       "    .dataframe thead th {\n",
       "        text-align: right;\n",
       "    }\n",
       "</style>\n",
       "<table border=\"1\" class=\"dataframe\">\n",
       "  <thead>\n",
       "    <tr style=\"text-align: right;\">\n",
       "      <th></th>\n",
       "      <th>company_name</th>\n",
       "      <th>industry</th>\n",
       "      <th>website</th>\n",
       "      <th>telephone</th>\n",
       "      <th>fax</th>\n",
       "      <th>address</th>\n",
       "      <th>address_maplink</th>\n",
       "      <th>email</th>\n",
       "    </tr>\n",
       "  </thead>\n",
       "  <tbody>\n",
       "    <tr>\n",
       "      <th>0</th>\n",
       "      <td>Modehaus Peter</td>\n",
       "      <td>Detailhandel mit Herrenbekleidung</td>\n",
       "      <td>NA</td>\n",
       "      <td>tel:041 970 17 57</td>\n",
       "      <td>fax:041 970 07 57</td>\n",
       "      <td>Hauptgasse 36\\n6130 Willisau</td>\n",
       "      <td>https://www.google.com/maps/place/Hauptgasse%2...</td>\n",
       "      <td>website does not exist</td>\n",
       "    </tr>\n",
       "    <tr>\n",
       "      <th>1</th>\n",
       "      <td>VB ORGANISATION Sàrl</td>\n",
       "      <td>Offsetdruck</td>\n",
       "      <td>http://www.imprimerievb.ch/</td>\n",
       "      <td>tel:079 205 44 53</td>\n",
       "      <td>NA</td>\n",
       "      <td>chemin St-Hubert 32\\n1950 Sion</td>\n",
       "      <td>https://www.google.com/maps/place/chemin%20St-...</td>\n",
       "      <td>605a7baede844d278b89dc95ae0a9123@sentry-next.w...</td>\n",
       "    </tr>\n",
       "    <tr>\n",
       "      <th>2</th>\n",
       "      <td>Heinz Stucki</td>\n",
       "      <td>Anbau von Getreide (ohne Reis), Hülsenfrüchten...</td>\n",
       "      <td>NA</td>\n",
       "      <td>tel:031 781 05 03</td>\n",
       "      <td>fax:031 781 05 03</td>\n",
       "      <td>Hubmatt\\n3116 Noflen BE</td>\n",
       "      <td>https://www.google.com/maps/place/Hubmatt+3116...</td>\n",
       "      <td>website does not exist</td>\n",
       "    </tr>\n",
       "    <tr>\n",
       "      <th>3</th>\n",
       "      <td>Heizplan HPA AG</td>\n",
       "      <td>Sanitär- und Heizungsinstallation</td>\n",
       "      <td>http://www.heizplan.ch/</td>\n",
       "      <td>tel:081 750 34 50</td>\n",
       "      <td>fax:081 750 34 59</td>\n",
       "      <td>Karmaad 36\\n9473 Gams</td>\n",
       "      <td>https://www.google.com/maps/place/Karmaad%2036...</td>\n",
       "      <td>kontakt@heizplan.ch</td>\n",
       "    </tr>\n",
       "    <tr>\n",
       "      <th>4</th>\n",
       "      <td>Hoppler Tiefbohrungen GmbH</td>\n",
       "      <td>Test- und Suchbohrung</td>\n",
       "      <td>http://www.hoppler-gmbh.ch/</td>\n",
       "      <td>tel:056 634 40 46</td>\n",
       "      <td>fax:056 634 40 75</td>\n",
       "      <td>Allmendstrasse 1\\n5621 Zufikon</td>\n",
       "      <td>https://www.google.com/maps/place/Allmendstras...</td>\n",
       "      <td>info@hoppler-gmbh.ch</td>\n",
       "    </tr>\n",
       "  </tbody>\n",
       "</table>\n",
       "</div>"
      ],
      "text/plain": [
       "                 company_name  \\\n",
       "0              Modehaus Peter   \n",
       "1        VB ORGANISATION Sàrl   \n",
       "2                Heinz Stucki   \n",
       "3             Heizplan HPA AG   \n",
       "4  Hoppler Tiefbohrungen GmbH   \n",
       "\n",
       "                                            industry  \\\n",
       "0                  Detailhandel mit Herrenbekleidung   \n",
       "1                                        Offsetdruck   \n",
       "2  Anbau von Getreide (ohne Reis), Hülsenfrüchten...   \n",
       "3                  Sanitär- und Heizungsinstallation   \n",
       "4                              Test- und Suchbohrung   \n",
       "\n",
       "                       website          telephone                fax  \\\n",
       "0                           NA  tel:041 970 17 57  fax:041 970 07 57   \n",
       "1  http://www.imprimerievb.ch/  tel:079 205 44 53                 NA   \n",
       "2                           NA  tel:031 781 05 03  fax:031 781 05 03   \n",
       "3      http://www.heizplan.ch/  tel:081 750 34 50  fax:081 750 34 59   \n",
       "4  http://www.hoppler-gmbh.ch/  tel:056 634 40 46  fax:056 634 40 75   \n",
       "\n",
       "                          address  \\\n",
       "0    Hauptgasse 36\\n6130 Willisau   \n",
       "1  chemin St-Hubert 32\\n1950 Sion   \n",
       "2         Hubmatt\\n3116 Noflen BE   \n",
       "3           Karmaad 36\\n9473 Gams   \n",
       "4  Allmendstrasse 1\\n5621 Zufikon   \n",
       "\n",
       "                                     address_maplink  \\\n",
       "0  https://www.google.com/maps/place/Hauptgasse%2...   \n",
       "1  https://www.google.com/maps/place/chemin%20St-...   \n",
       "2  https://www.google.com/maps/place/Hubmatt+3116...   \n",
       "3  https://www.google.com/maps/place/Karmaad%2036...   \n",
       "4  https://www.google.com/maps/place/Allmendstras...   \n",
       "\n",
       "                                               email  \n",
       "0                             website does not exist  \n",
       "1  605a7baede844d278b89dc95ae0a9123@sentry-next.w...  \n",
       "2                             website does not exist  \n",
       "3                                kontakt@heizplan.ch  \n",
       "4                               info@hoppler-gmbh.ch  "
      ]
     },
     "execution_count": 48,
     "metadata": {},
     "output_type": "execute_result"
    }
   ],
   "source": [
    "df2.head()"
   ]
  },
  {
   "cell_type": "markdown",
   "id": "46d231c9",
   "metadata": {},
   "source": [
    "### End of Checkpoint-3"
   ]
  },
  {
   "cell_type": "code",
   "execution_count": 50,
   "id": "2aab7424",
   "metadata": {},
   "outputs": [],
   "source": [
    "# save as csv\n",
    "df2.to_csv('batch2', index = False)"
   ]
  },
  {
   "cell_type": "code",
   "execution_count": 51,
   "id": "ecd2df6c",
   "metadata": {},
   "outputs": [],
   "source": [
    "# Merge the two dataframes\n",
    "df = pd.concat([df1, df2])"
   ]
  },
  {
   "cell_type": "markdown",
   "id": "257ce949",
   "metadata": {},
   "source": [
    "### Checkpoint-4"
   ]
  },
  {
   "cell_type": "code",
   "execution_count": 52,
   "id": "4bf9722f",
   "metadata": {},
   "outputs": [
    {
     "name": "stdout",
     "output_type": "stream",
     "text": [
      "<class 'pandas.core.frame.DataFrame'>\n",
      "Int64Index: 2002 entries, 0 to 1000\n",
      "Data columns (total 8 columns):\n",
      " #   Column           Non-Null Count  Dtype \n",
      "---  ------           --------------  ----- \n",
      " 0   company_name     2002 non-null   object\n",
      " 1   industry         2002 non-null   object\n",
      " 2   website          2002 non-null   object\n",
      " 3   telephone        2002 non-null   object\n",
      " 4   fax              2002 non-null   object\n",
      " 5   address          2002 non-null   object\n",
      " 6   address_maplink  2002 non-null   object\n",
      " 7   email            1988 non-null   object\n",
      "dtypes: object(8)\n",
      "memory usage: 140.8+ KB\n"
     ]
    }
   ],
   "source": [
    "df.info()"
   ]
  },
  {
   "cell_type": "code",
   "execution_count": 53,
   "id": "91c692b3",
   "metadata": {},
   "outputs": [
    {
     "data": {
      "text/html": [
       "<div>\n",
       "<style scoped>\n",
       "    .dataframe tbody tr th:only-of-type {\n",
       "        vertical-align: middle;\n",
       "    }\n",
       "\n",
       "    .dataframe tbody tr th {\n",
       "        vertical-align: top;\n",
       "    }\n",
       "\n",
       "    .dataframe thead th {\n",
       "        text-align: right;\n",
       "    }\n",
       "</style>\n",
       "<table border=\"1\" class=\"dataframe\">\n",
       "  <thead>\n",
       "    <tr style=\"text-align: right;\">\n",
       "      <th></th>\n",
       "      <th>company_name</th>\n",
       "      <th>industry</th>\n",
       "      <th>website</th>\n",
       "      <th>telephone</th>\n",
       "      <th>fax</th>\n",
       "      <th>address</th>\n",
       "      <th>address_maplink</th>\n",
       "      <th>email</th>\n",
       "    </tr>\n",
       "  </thead>\n",
       "  <tbody>\n",
       "    <tr>\n",
       "      <th>0</th>\n",
       "      <td>Ringler + Strahm Storenbau AG</td>\n",
       "      <td>Sonstige Bauinstallation</td>\n",
       "      <td>http://www.ringler-strahm.ch/</td>\n",
       "      <td>tel:033 345 22 55</td>\n",
       "      <td>fax:033 345 55 19</td>\n",
       "      <td>Uetendorfstrasse 20\\n3634 Thierachern</td>\n",
       "      <td>https://www.google.com/maps/place/Uetendorfstr...</td>\n",
       "      <td>info@ringler-strahm.ch</td>\n",
       "    </tr>\n",
       "    <tr>\n",
       "      <th>1</th>\n",
       "      <td>Grob &amp; Partner Architektur AG</td>\n",
       "      <td>Architekturbüros</td>\n",
       "      <td>http://www.grobarchitektur.ch/</td>\n",
       "      <td>tel:081 720 02 00</td>\n",
       "      <td>fax:081 720 02 05</td>\n",
       "      <td>Bahnhofstrasse 3\\n7320 Sargans</td>\n",
       "      <td>https://www.google.com/maps/place/Bahnhofstras...</td>\n",
       "      <td>605a7baede844d278b89dc95ae0a9123@sentry-next.w...</td>\n",
       "    </tr>\n",
       "    <tr>\n",
       "      <th>2</th>\n",
       "      <td>Lauclair AG</td>\n",
       "      <td>Schreinerarbeiten im Innenausbau</td>\n",
       "      <td>http://www.lauclair.ch/</td>\n",
       "      <td>tel:031 879 01 69</td>\n",
       "      <td>fax:031 879 20 69</td>\n",
       "      <td>Lyssstrasse 27\\n3054 Schüpfen</td>\n",
       "      <td>https://www.google.com/maps/place/Lyssstrasse%...</td>\n",
       "      <td>a95fca1f1eb9fe8g2c9ead0cd9931e2a@2x.jpg</td>\n",
       "    </tr>\n",
       "    <tr>\n",
       "      <th>3</th>\n",
       "      <td>Club Goldwand</td>\n",
       "      <td>Kauf und Verkauf von eigenen Grundstücken, Geb...</td>\n",
       "      <td>http://www.clubgoldwand.ch/</td>\n",
       "      <td>tel:056 282 30 50</td>\n",
       "      <td>NA</td>\n",
       "      <td>Landstrasse 6\\n5415 Nussbaumen AG</td>\n",
       "      <td>https://www.google.com/maps/place/Landstrasse%...</td>\n",
       "      <td>info@clubgoldwand.ch</td>\n",
       "    </tr>\n",
       "    <tr>\n",
       "      <th>4</th>\n",
       "      <td>NICOLE DIEM Horgen</td>\n",
       "      <td>Detailhandel mit Brillen und anderen Sehhilfen</td>\n",
       "      <td>http://www.nicolediem.ch/</td>\n",
       "      <td>tel:044 770 10 40</td>\n",
       "      <td>NA</td>\n",
       "      <td>Dorfplatz 3\\n8810 Horgen</td>\n",
       "      <td>https://www.google.com/maps/place/Dorfplatz%20...</td>\n",
       "      <td>johndoe@domain.com</td>\n",
       "    </tr>\n",
       "  </tbody>\n",
       "</table>\n",
       "</div>"
      ],
      "text/plain": [
       "                    company_name  \\\n",
       "0  Ringler + Strahm Storenbau AG   \n",
       "1  Grob & Partner Architektur AG   \n",
       "2                    Lauclair AG   \n",
       "3                  Club Goldwand   \n",
       "4             NICOLE DIEM Horgen   \n",
       "\n",
       "                                            industry  \\\n",
       "0                           Sonstige Bauinstallation   \n",
       "1                                   Architekturbüros   \n",
       "2                   Schreinerarbeiten im Innenausbau   \n",
       "3  Kauf und Verkauf von eigenen Grundstücken, Geb...   \n",
       "4     Detailhandel mit Brillen und anderen Sehhilfen   \n",
       "\n",
       "                          website          telephone                fax  \\\n",
       "0   http://www.ringler-strahm.ch/  tel:033 345 22 55  fax:033 345 55 19   \n",
       "1  http://www.grobarchitektur.ch/  tel:081 720 02 00  fax:081 720 02 05   \n",
       "2         http://www.lauclair.ch/  tel:031 879 01 69  fax:031 879 20 69   \n",
       "3     http://www.clubgoldwand.ch/  tel:056 282 30 50                 NA   \n",
       "4       http://www.nicolediem.ch/  tel:044 770 10 40                 NA   \n",
       "\n",
       "                                 address  \\\n",
       "0  Uetendorfstrasse 20\\n3634 Thierachern   \n",
       "1         Bahnhofstrasse 3\\n7320 Sargans   \n",
       "2          Lyssstrasse 27\\n3054 Schüpfen   \n",
       "3      Landstrasse 6\\n5415 Nussbaumen AG   \n",
       "4               Dorfplatz 3\\n8810 Horgen   \n",
       "\n",
       "                                     address_maplink  \\\n",
       "0  https://www.google.com/maps/place/Uetendorfstr...   \n",
       "1  https://www.google.com/maps/place/Bahnhofstras...   \n",
       "2  https://www.google.com/maps/place/Lyssstrasse%...   \n",
       "3  https://www.google.com/maps/place/Landstrasse%...   \n",
       "4  https://www.google.com/maps/place/Dorfplatz%20...   \n",
       "\n",
       "                                               email  \n",
       "0                             info@ringler-strahm.ch  \n",
       "1  605a7baede844d278b89dc95ae0a9123@sentry-next.w...  \n",
       "2            a95fca1f1eb9fe8g2c9ead0cd9931e2a@2x.jpg  \n",
       "3                               info@clubgoldwand.ch  \n",
       "4                                 johndoe@domain.com  "
      ]
     },
     "execution_count": 53,
     "metadata": {},
     "output_type": "execute_result"
    }
   ],
   "source": [
    "df.head()"
   ]
  },
  {
   "cell_type": "code",
   "execution_count": 54,
   "id": "c66d30fb",
   "metadata": {},
   "outputs": [
    {
     "data": {
      "text/html": [
       "<div>\n",
       "<style scoped>\n",
       "    .dataframe tbody tr th:only-of-type {\n",
       "        vertical-align: middle;\n",
       "    }\n",
       "\n",
       "    .dataframe tbody tr th {\n",
       "        vertical-align: top;\n",
       "    }\n",
       "\n",
       "    .dataframe thead th {\n",
       "        text-align: right;\n",
       "    }\n",
       "</style>\n",
       "<table border=\"1\" class=\"dataframe\">\n",
       "  <thead>\n",
       "    <tr style=\"text-align: right;\">\n",
       "      <th></th>\n",
       "      <th>company_name</th>\n",
       "      <th>industry</th>\n",
       "      <th>website</th>\n",
       "      <th>telephone</th>\n",
       "      <th>fax</th>\n",
       "      <th>address</th>\n",
       "      <th>address_maplink</th>\n",
       "      <th>email</th>\n",
       "    </tr>\n",
       "  </thead>\n",
       "  <tbody>\n",
       "    <tr>\n",
       "      <th>996</th>\n",
       "      <td>MBA AG</td>\n",
       "      <td>Grosshandel mit Bergwerks-, Bau- und Baustoffm...</td>\n",
       "      <td>http://www.mba-baumaschinen.ch/</td>\n",
       "      <td>tel:044 838 61 11</td>\n",
       "      <td>NA</td>\n",
       "      <td>Zürichstrasse 50\\n8303 Bassersdorf</td>\n",
       "      <td>https://www.google.com/maps/place/Z%C3%BCrichs...</td>\n",
       "      <td>info@mba-maschinen.com</td>\n",
       "    </tr>\n",
       "    <tr>\n",
       "      <th>997</th>\n",
       "      <td>Mächler GU AG</td>\n",
       "      <td>Garten- und Landschaftsbau sowie Erbringung vo...</td>\n",
       "      <td>http://www.maechler-gu.ch/</td>\n",
       "      <td>tel:055 451 11 31</td>\n",
       "      <td>fax:055 451 11 34</td>\n",
       "      <td>St.Gallerstrasse 58\\n8853 Lachen SZ</td>\n",
       "      <td>https://www.google.com/maps/place/St.Gallerstr...</td>\n",
       "      <td>info@maechler-gu.ch</td>\n",
       "    </tr>\n",
       "    <tr>\n",
       "      <th>998</th>\n",
       "      <td>Garasch 106 AG</td>\n",
       "      <td>lnstandhaltung und Reparatur von Automobilen</td>\n",
       "      <td>https://garasch106.ch/</td>\n",
       "      <td>tel:041 624 40 24</td>\n",
       "      <td>NA</td>\n",
       "      <td>Stanserstrasse 106\\n6373 Ennetbürgen</td>\n",
       "      <td>https://www.google.com/maps/place/Stanserstras...</td>\n",
       "      <td>auto@garasch106.ch</td>\n",
       "    </tr>\n",
       "    <tr>\n",
       "      <th>999</th>\n",
       "      <td>Bumbachsäge AG</td>\n",
       "      <td>Sägewerke</td>\n",
       "      <td>http://www.bumbachsaege.ch/</td>\n",
       "      <td>tel:034 493 35 57</td>\n",
       "      <td>fax:034 493 31 84</td>\n",
       "      <td>Bumbachsäge 172\\n6197 Schangnau</td>\n",
       "      <td>https://www.google.com/maps/place/Bumbachs%C3%...</td>\n",
       "      <td>info@bumbachsaege.ch</td>\n",
       "    </tr>\n",
       "    <tr>\n",
       "      <th>1000</th>\n",
       "      <td>MEUBLES DESCARTES SA</td>\n",
       "      <td>Inserate</td>\n",
       "      <td>http://www.decarte.ch/</td>\n",
       "      <td>tel:027 743 43 43</td>\n",
       "      <td>fax:027 743 43 44</td>\n",
       "      <td>Route du Léman 33\\n1907 Saxon</td>\n",
       "      <td>https://www.google.com/maps/place/Route%20du%2...</td>\n",
       "      <td>email not found on website</td>\n",
       "    </tr>\n",
       "  </tbody>\n",
       "</table>\n",
       "</div>"
      ],
      "text/plain": [
       "              company_name                                           industry  \\\n",
       "996                 MBA AG  Grosshandel mit Bergwerks-, Bau- und Baustoffm...   \n",
       "997          Mächler GU AG  Garten- und Landschaftsbau sowie Erbringung vo...   \n",
       "998         Garasch 106 AG       lnstandhaltung und Reparatur von Automobilen   \n",
       "999         Bumbachsäge AG                                          Sägewerke   \n",
       "1000  MEUBLES DESCARTES SA                                           Inserate   \n",
       "\n",
       "                              website          telephone                fax  \\\n",
       "996   http://www.mba-baumaschinen.ch/  tel:044 838 61 11                 NA   \n",
       "997        http://www.maechler-gu.ch/  tel:055 451 11 31  fax:055 451 11 34   \n",
       "998            https://garasch106.ch/  tel:041 624 40 24                 NA   \n",
       "999       http://www.bumbachsaege.ch/  tel:034 493 35 57  fax:034 493 31 84   \n",
       "1000           http://www.decarte.ch/  tel:027 743 43 43  fax:027 743 43 44   \n",
       "\n",
       "                                   address  \\\n",
       "996     Zürichstrasse 50\\n8303 Bassersdorf   \n",
       "997    St.Gallerstrasse 58\\n8853 Lachen SZ   \n",
       "998   Stanserstrasse 106\\n6373 Ennetbürgen   \n",
       "999        Bumbachsäge 172\\n6197 Schangnau   \n",
       "1000         Route du Léman 33\\n1907 Saxon   \n",
       "\n",
       "                                        address_maplink  \\\n",
       "996   https://www.google.com/maps/place/Z%C3%BCrichs...   \n",
       "997   https://www.google.com/maps/place/St.Gallerstr...   \n",
       "998   https://www.google.com/maps/place/Stanserstras...   \n",
       "999   https://www.google.com/maps/place/Bumbachs%C3%...   \n",
       "1000  https://www.google.com/maps/place/Route%20du%2...   \n",
       "\n",
       "                           email  \n",
       "996       info@mba-maschinen.com  \n",
       "997          info@maechler-gu.ch  \n",
       "998           auto@garasch106.ch  \n",
       "999         info@bumbachsaege.ch  \n",
       "1000  email not found on website  "
      ]
     },
     "execution_count": 54,
     "metadata": {},
     "output_type": "execute_result"
    }
   ],
   "source": [
    "df.tail()"
   ]
  },
  {
   "cell_type": "code",
   "execution_count": 55,
   "id": "486128e9",
   "metadata": {},
   "outputs": [
    {
     "data": {
      "text/html": [
       "<div>\n",
       "<style scoped>\n",
       "    .dataframe tbody tr th:only-of-type {\n",
       "        vertical-align: middle;\n",
       "    }\n",
       "\n",
       "    .dataframe tbody tr th {\n",
       "        vertical-align: top;\n",
       "    }\n",
       "\n",
       "    .dataframe thead th {\n",
       "        text-align: right;\n",
       "    }\n",
       "</style>\n",
       "<table border=\"1\" class=\"dataframe\">\n",
       "  <thead>\n",
       "    <tr style=\"text-align: right;\">\n",
       "      <th></th>\n",
       "      <th>company_name</th>\n",
       "      <th>industry</th>\n",
       "      <th>website</th>\n",
       "      <th>telephone</th>\n",
       "      <th>fax</th>\n",
       "      <th>address</th>\n",
       "      <th>address_maplink</th>\n",
       "      <th>email</th>\n",
       "    </tr>\n",
       "  </thead>\n",
       "  <tbody>\n",
       "    <tr>\n",
       "      <th>0</th>\n",
       "      <td>True</td>\n",
       "      <td>True</td>\n",
       "      <td>True</td>\n",
       "      <td>True</td>\n",
       "      <td>True</td>\n",
       "      <td>True</td>\n",
       "      <td>True</td>\n",
       "      <td>True</td>\n",
       "    </tr>\n",
       "    <tr>\n",
       "      <th>1</th>\n",
       "      <td>True</td>\n",
       "      <td>True</td>\n",
       "      <td>True</td>\n",
       "      <td>True</td>\n",
       "      <td>True</td>\n",
       "      <td>True</td>\n",
       "      <td>True</td>\n",
       "      <td>True</td>\n",
       "    </tr>\n",
       "    <tr>\n",
       "      <th>2</th>\n",
       "      <td>True</td>\n",
       "      <td>True</td>\n",
       "      <td>True</td>\n",
       "      <td>True</td>\n",
       "      <td>True</td>\n",
       "      <td>True</td>\n",
       "      <td>True</td>\n",
       "      <td>True</td>\n",
       "    </tr>\n",
       "    <tr>\n",
       "      <th>3</th>\n",
       "      <td>True</td>\n",
       "      <td>True</td>\n",
       "      <td>True</td>\n",
       "      <td>True</td>\n",
       "      <td>True</td>\n",
       "      <td>True</td>\n",
       "      <td>True</td>\n",
       "      <td>True</td>\n",
       "    </tr>\n",
       "    <tr>\n",
       "      <th>4</th>\n",
       "      <td>True</td>\n",
       "      <td>True</td>\n",
       "      <td>True</td>\n",
       "      <td>True</td>\n",
       "      <td>True</td>\n",
       "      <td>True</td>\n",
       "      <td>True</td>\n",
       "      <td>True</td>\n",
       "    </tr>\n",
       "  </tbody>\n",
       "</table>\n",
       "</div>"
      ],
      "text/plain": [
       "   company_name  industry  website  telephone   fax  address  address_maplink  \\\n",
       "0          True      True     True       True  True     True             True   \n",
       "1          True      True     True       True  True     True             True   \n",
       "2          True      True     True       True  True     True             True   \n",
       "3          True      True     True       True  True     True             True   \n",
       "4          True      True     True       True  True     True             True   \n",
       "\n",
       "   email  \n",
       "0   True  \n",
       "1   True  \n",
       "2   True  \n",
       "3   True  \n",
       "4   True  "
      ]
     },
     "execution_count": 55,
     "metadata": {},
     "output_type": "execute_result"
    }
   ],
   "source": [
    "df.head() == df1.head()"
   ]
  },
  {
   "cell_type": "code",
   "execution_count": 56,
   "id": "8e183d26",
   "metadata": {},
   "outputs": [
    {
     "data": {
      "text/html": [
       "<div>\n",
       "<style scoped>\n",
       "    .dataframe tbody tr th:only-of-type {\n",
       "        vertical-align: middle;\n",
       "    }\n",
       "\n",
       "    .dataframe tbody tr th {\n",
       "        vertical-align: top;\n",
       "    }\n",
       "\n",
       "    .dataframe thead th {\n",
       "        text-align: right;\n",
       "    }\n",
       "</style>\n",
       "<table border=\"1\" class=\"dataframe\">\n",
       "  <thead>\n",
       "    <tr style=\"text-align: right;\">\n",
       "      <th></th>\n",
       "      <th>company_name</th>\n",
       "      <th>industry</th>\n",
       "      <th>website</th>\n",
       "      <th>telephone</th>\n",
       "      <th>fax</th>\n",
       "      <th>address</th>\n",
       "      <th>address_maplink</th>\n",
       "      <th>email</th>\n",
       "    </tr>\n",
       "  </thead>\n",
       "  <tbody>\n",
       "    <tr>\n",
       "      <th>996</th>\n",
       "      <td>True</td>\n",
       "      <td>True</td>\n",
       "      <td>True</td>\n",
       "      <td>True</td>\n",
       "      <td>True</td>\n",
       "      <td>True</td>\n",
       "      <td>True</td>\n",
       "      <td>True</td>\n",
       "    </tr>\n",
       "    <tr>\n",
       "      <th>997</th>\n",
       "      <td>True</td>\n",
       "      <td>True</td>\n",
       "      <td>True</td>\n",
       "      <td>True</td>\n",
       "      <td>True</td>\n",
       "      <td>True</td>\n",
       "      <td>True</td>\n",
       "      <td>True</td>\n",
       "    </tr>\n",
       "    <tr>\n",
       "      <th>998</th>\n",
       "      <td>True</td>\n",
       "      <td>True</td>\n",
       "      <td>True</td>\n",
       "      <td>True</td>\n",
       "      <td>True</td>\n",
       "      <td>True</td>\n",
       "      <td>True</td>\n",
       "      <td>True</td>\n",
       "    </tr>\n",
       "    <tr>\n",
       "      <th>999</th>\n",
       "      <td>True</td>\n",
       "      <td>True</td>\n",
       "      <td>True</td>\n",
       "      <td>True</td>\n",
       "      <td>True</td>\n",
       "      <td>True</td>\n",
       "      <td>True</td>\n",
       "      <td>True</td>\n",
       "    </tr>\n",
       "    <tr>\n",
       "      <th>1000</th>\n",
       "      <td>True</td>\n",
       "      <td>True</td>\n",
       "      <td>True</td>\n",
       "      <td>True</td>\n",
       "      <td>True</td>\n",
       "      <td>True</td>\n",
       "      <td>True</td>\n",
       "      <td>True</td>\n",
       "    </tr>\n",
       "  </tbody>\n",
       "</table>\n",
       "</div>"
      ],
      "text/plain": [
       "      company_name  industry  website  telephone   fax  address  \\\n",
       "996           True      True     True       True  True     True   \n",
       "997           True      True     True       True  True     True   \n",
       "998           True      True     True       True  True     True   \n",
       "999           True      True     True       True  True     True   \n",
       "1000          True      True     True       True  True     True   \n",
       "\n",
       "      address_maplink  email  \n",
       "996              True   True  \n",
       "997              True   True  \n",
       "998              True   True  \n",
       "999              True   True  \n",
       "1000             True   True  "
      ]
     },
     "execution_count": 56,
     "metadata": {},
     "output_type": "execute_result"
    }
   ],
   "source": [
    "df.tail() == df2.tail()"
   ]
  },
  {
   "cell_type": "markdown",
   "id": "f7c46182",
   "metadata": {},
   "source": [
    "### End of Checkpoint-4"
   ]
  },
  {
   "cell_type": "markdown",
   "id": "0e50812f",
   "metadata": {},
   "source": [
    "### xxxxxxxxxxxx Push to Github xxxxxxxxxxxxxx"
   ]
  },
  {
   "cell_type": "markdown",
   "id": "7da6833c",
   "metadata": {},
   "source": [
    "### Batch-3, batch_size = 1000, batch_start_index = 2001\n"
   ]
  },
  {
   "cell_type": "code",
   "execution_count": 58,
   "id": "6537af29",
   "metadata": {},
   "outputs": [
    {
     "name": "stdout",
     "output_type": "stream",
     "text": [
      "execution time:  14860.21987771988\n"
     ]
    }
   ],
   "source": [
    "# Extract info of interst\n",
    "start_time = time.time()\n",
    "batch3_initial = extract_info_of_interest(unique_company_profile_urls, batch_size = 1000, batch_start_index = 2001, sleep=5)\n",
    "end_time = time.time()\n",
    "execution_time = end_time - start_time\n",
    "print('execution time: ', execution_time)"
   ]
  },
  {
   "cell_type": "markdown",
   "id": "df1f1b9d",
   "metadata": {},
   "source": [
    "### checkpoint-1"
   ]
  },
  {
   "cell_type": "code",
   "execution_count": 63,
   "id": "d77d68a6",
   "metadata": {},
   "outputs": [
    {
     "name": "stdout",
     "output_type": "stream",
     "text": [
      "1001\n",
      "7\n"
     ]
    }
   ],
   "source": [
    "print(len(batch3_initial))\n",
    "print(len(batch3_initial[-1]))"
   ]
  },
  {
   "cell_type": "code",
   "execution_count": 64,
   "id": "e3b18326",
   "metadata": {},
   "outputs": [
    {
     "name": "stdout",
     "output_type": "stream",
     "text": [
      "[['MEUBLES DESCARTES SA', 'Inserate', 'http://www.decarte.ch/', 'tel:027 743 43 43', 'fax:027 743 43 44', 'Route du Léman 33\\n1907 Saxon', 'https://www.google.com/maps/place/Route%20du%20L%C3%A9man%2033+1907+Saxon'], ['Eticolle Schoechli SA', 'Sonstiges Drucken a. n. g.', 'http://www.eticolle.ch/', 'tel:027 452 25 26', 'NA', 'Techno-pôle 2\\n3960 Sierre', 'https://www.google.com/maps/place/Techno-p%C3%B4le%202+3960+Sierre'], ['Ettima AG', 'Grosshandel mit Werkzeugmaschinen', 'http://www.ettima.ch/', 'tel:031 819 56 26', 'fax:031 819 56 63', 'Bernstrasse 25\\n3125 Toffen', 'https://www.google.com/maps/place/Bernstrasse%2025+3125+Toffen']]\n"
     ]
    }
   ],
   "source": [
    "print(batch3_initial[:3])"
   ]
  },
  {
   "cell_type": "markdown",
   "id": "f096b803",
   "metadata": {},
   "source": [
    "### End of Checkpoint-1"
   ]
  },
  {
   "cell_type": "code",
   "execution_count": 65,
   "id": "4845423c",
   "metadata": {},
   "outputs": [
    {
     "name": "stdout",
     "output_type": "stream",
     "text": [
      "execution time:  915.4399597644806\n"
     ]
    }
   ],
   "source": [
    "# Extract emails\n",
    "start_time = time.time()\n",
    "pattern = r'\\b[A-Za-z0-9._%+-]+@[A-Za-z0-9.-]+\\.[A-Z|a-z]{2,}\\b'\n",
    "batch3 = extract_emails_from_websites(batch3_initial, pattern = pattern , index=2)\n",
    "end_time = time.time()\n",
    "execution_time = end_time - start_time\n",
    "print('execution time: ', execution_time)"
   ]
  },
  {
   "cell_type": "markdown",
   "id": "76c17578",
   "metadata": {},
   "source": [
    "### Checkpoint-2"
   ]
  },
  {
   "cell_type": "code",
   "execution_count": 66,
   "id": "aac5e97e",
   "metadata": {},
   "outputs": [
    {
     "name": "stdout",
     "output_type": "stream",
     "text": [
      "1001\n",
      "8\n",
      "[['Hirt Schreinerei GmbH', 'Schreinerarbeiten im Innenausbau', 'http://www.hirt-schreinerei.ch/', 'tel:061 901 55 88', 'fax:061 901 83 04', 'Bächliackerstrasse 4\\n4402 Frenkendorf', 'https://www.google.com/maps/place/B%C3%A4chliackerstrasse%204+4402+Frenkendorf', 'bad/broken link to website'], ['René Bührer AG', 'Detailhandel mit Vorhängen, Teppichen, Fussbodenbelägen und Tapeten', 'NA', 'tel:052 672 16 30', 'fax:052 672 16 40', 'Rheinfallstrasse 7\\n8212 Neuhausen am Rheinfall', 'https://www.google.com/maps/place/Rheinfallstrasse%207+8212+Neuhausen%20am%20Rheinfall', 'website does not exist'], ['EFOS Flugschule GmbH', 'Fahr- und Flugschulen', 'http://www.efos.ch/', 'tel:044 861 07 04', 'NA', 'Flughafenstrasse 14\\n8302 Kloten', 'https://www.google.com/maps/place/Flughafenstrasse%2014+8302+Kloten', '20info@efos.ch'], ['Hess Druck AG', 'Offsetdruck', 'http://www.hessdruck.ch/', 'tel:071 658 61 80', 'NA', 'Schützlerweg 3\\n8560 Märstetten', 'https://www.google.com/maps/place/Sch%C3%BCtzlerweg%203+8560+M%C3%A4rstetten', 'satz@hessdruck.ch'], ['Rhomberg Schmuck AG', 'Detailhandel mit Uhren und Schmuck', 'http://www.schmuck.ch/', 'tel:071 310 15 80', 'NA', 'Zürcher-Strasse\\n9015 St. Gallen', 'https://www.google.com/maps/place/Z%C3%BCrcher-Strasse+9015+St.%20Gallen', 'email not found on website']]\n"
     ]
    }
   ],
   "source": [
    "print(len(batch3)) # should be same as batch_size i.e. 1000\n",
    "print(len(batch3[-1])) # should be 8\n",
    "print(batch3[-5:]) #should have 8 items in each list with emails or remarks added"
   ]
  },
  {
   "cell_type": "markdown",
   "id": "a6b6a9d5",
   "metadata": {},
   "source": [
    "### End of Checkpoint-2"
   ]
  },
  {
   "cell_type": "code",
   "execution_count": 67,
   "id": "66eecc39",
   "metadata": {},
   "outputs": [],
   "source": [
    "# # Convert to Dataframe batch3\n",
    "df3 = pd.DataFrame(batch3, columns=columns)\n"
   ]
  },
  {
   "cell_type": "markdown",
   "id": "7f71212a",
   "metadata": {},
   "source": [
    "### Checkpoint 3"
   ]
  },
  {
   "cell_type": "code",
   "execution_count": 68,
   "id": "bb256eca",
   "metadata": {},
   "outputs": [
    {
     "name": "stdout",
     "output_type": "stream",
     "text": [
      "<class 'pandas.core.frame.DataFrame'>\n",
      "RangeIndex: 1001 entries, 0 to 1000\n",
      "Data columns (total 8 columns):\n",
      " #   Column           Non-Null Count  Dtype \n",
      "---  ------           --------------  ----- \n",
      " 0   company_name     1001 non-null   object\n",
      " 1   industry         1001 non-null   object\n",
      " 2   website          1001 non-null   object\n",
      " 3   telephone        1001 non-null   object\n",
      " 4   fax              1001 non-null   object\n",
      " 5   address          1001 non-null   object\n",
      " 6   address_maplink  1001 non-null   object\n",
      " 7   email            986 non-null    object\n",
      "dtypes: object(8)\n",
      "memory usage: 62.7+ KB\n"
     ]
    }
   ],
   "source": [
    "df3.info()"
   ]
  },
  {
   "cell_type": "code",
   "execution_count": 69,
   "id": "846550f8",
   "metadata": {},
   "outputs": [
    {
     "data": {
      "text/html": [
       "<div>\n",
       "<style scoped>\n",
       "    .dataframe tbody tr th:only-of-type {\n",
       "        vertical-align: middle;\n",
       "    }\n",
       "\n",
       "    .dataframe tbody tr th {\n",
       "        vertical-align: top;\n",
       "    }\n",
       "\n",
       "    .dataframe thead th {\n",
       "        text-align: right;\n",
       "    }\n",
       "</style>\n",
       "<table border=\"1\" class=\"dataframe\">\n",
       "  <thead>\n",
       "    <tr style=\"text-align: right;\">\n",
       "      <th></th>\n",
       "      <th>company_name</th>\n",
       "      <th>industry</th>\n",
       "      <th>website</th>\n",
       "      <th>telephone</th>\n",
       "      <th>fax</th>\n",
       "      <th>address</th>\n",
       "      <th>address_maplink</th>\n",
       "      <th>email</th>\n",
       "    </tr>\n",
       "  </thead>\n",
       "  <tbody>\n",
       "    <tr>\n",
       "      <th>0</th>\n",
       "      <td>MEUBLES DESCARTES SA</td>\n",
       "      <td>Inserate</td>\n",
       "      <td>http://www.decarte.ch/</td>\n",
       "      <td>tel:027 743 43 43</td>\n",
       "      <td>fax:027 743 43 44</td>\n",
       "      <td>Route du Léman 33\\n1907 Saxon</td>\n",
       "      <td>https://www.google.com/maps/place/Route%20du%2...</td>\n",
       "      <td>email not found on website</td>\n",
       "    </tr>\n",
       "    <tr>\n",
       "      <th>1</th>\n",
       "      <td>Eticolle Schoechli SA</td>\n",
       "      <td>Sonstiges Drucken a. n. g.</td>\n",
       "      <td>http://www.eticolle.ch/</td>\n",
       "      <td>tel:027 452 25 26</td>\n",
       "      <td>NA</td>\n",
       "      <td>Techno-pôle 2\\n3960 Sierre</td>\n",
       "      <td>https://www.google.com/maps/place/Techno-p%C3%...</td>\n",
       "      <td>info@eticolle.ch</td>\n",
       "    </tr>\n",
       "    <tr>\n",
       "      <th>2</th>\n",
       "      <td>Ettima AG</td>\n",
       "      <td>Grosshandel mit Werkzeugmaschinen</td>\n",
       "      <td>http://www.ettima.ch/</td>\n",
       "      <td>tel:031 819 56 26</td>\n",
       "      <td>fax:031 819 56 63</td>\n",
       "      <td>Bernstrasse 25\\n3125 Toffen</td>\n",
       "      <td>https://www.google.com/maps/place/Bernstrasse%...</td>\n",
       "      <td>email not found on website</td>\n",
       "    </tr>\n",
       "    <tr>\n",
       "      <th>3</th>\n",
       "      <td>Alushi AG</td>\n",
       "      <td>Spezielle Reinigung von Gebäuden und Reinigung...</td>\n",
       "      <td>http://www.alushi.ch/</td>\n",
       "      <td>tel:052 376 16 80</td>\n",
       "      <td>fax:052 376 16 87</td>\n",
       "      <td>Frauenfelderstrasse 66\\n9548 Matzingen</td>\n",
       "      <td>https://www.google.com/maps/place/Frauenfelder...</td>\n",
       "      <td>email not found on website</td>\n",
       "    </tr>\n",
       "    <tr>\n",
       "      <th>4</th>\n",
       "      <td>Studer Optik</td>\n",
       "      <td>Detailhandel mit Brillen und anderen Sehhilfen</td>\n",
       "      <td>http://www.studeroptik.ch/</td>\n",
       "      <td>tel:032 392 25 15</td>\n",
       "      <td>fax:032 392 28 89</td>\n",
       "      <td>Stadtplatz 60\\n3270 Aarberg</td>\n",
       "      <td>https://www.google.com/maps/place/Stadtplatz%2...</td>\n",
       "      <td>605a7baede844d278b89dc95ae0a9123@sentry-next.w...</td>\n",
       "    </tr>\n",
       "  </tbody>\n",
       "</table>\n",
       "</div>"
      ],
      "text/plain": [
       "            company_name                                           industry  \\\n",
       "0   MEUBLES DESCARTES SA                                           Inserate   \n",
       "1  Eticolle Schoechli SA                         Sonstiges Drucken a. n. g.   \n",
       "2              Ettima AG                  Grosshandel mit Werkzeugmaschinen   \n",
       "3              Alushi AG  Spezielle Reinigung von Gebäuden und Reinigung...   \n",
       "4           Studer Optik     Detailhandel mit Brillen und anderen Sehhilfen   \n",
       "\n",
       "                      website          telephone                fax  \\\n",
       "0      http://www.decarte.ch/  tel:027 743 43 43  fax:027 743 43 44   \n",
       "1     http://www.eticolle.ch/  tel:027 452 25 26                 NA   \n",
       "2       http://www.ettima.ch/  tel:031 819 56 26  fax:031 819 56 63   \n",
       "3       http://www.alushi.ch/  tel:052 376 16 80  fax:052 376 16 87   \n",
       "4  http://www.studeroptik.ch/  tel:032 392 25 15  fax:032 392 28 89   \n",
       "\n",
       "                                  address  \\\n",
       "0           Route du Léman 33\\n1907 Saxon   \n",
       "1              Techno-pôle 2\\n3960 Sierre   \n",
       "2             Bernstrasse 25\\n3125 Toffen   \n",
       "3  Frauenfelderstrasse 66\\n9548 Matzingen   \n",
       "4             Stadtplatz 60\\n3270 Aarberg   \n",
       "\n",
       "                                     address_maplink  \\\n",
       "0  https://www.google.com/maps/place/Route%20du%2...   \n",
       "1  https://www.google.com/maps/place/Techno-p%C3%...   \n",
       "2  https://www.google.com/maps/place/Bernstrasse%...   \n",
       "3  https://www.google.com/maps/place/Frauenfelder...   \n",
       "4  https://www.google.com/maps/place/Stadtplatz%2...   \n",
       "\n",
       "                                               email  \n",
       "0                         email not found on website  \n",
       "1                                   info@eticolle.ch  \n",
       "2                         email not found on website  \n",
       "3                         email not found on website  \n",
       "4  605a7baede844d278b89dc95ae0a9123@sentry-next.w...  "
      ]
     },
     "execution_count": 69,
     "metadata": {},
     "output_type": "execute_result"
    }
   ],
   "source": [
    "df3.head()"
   ]
  },
  {
   "cell_type": "markdown",
   "id": "c3992ff6",
   "metadata": {},
   "source": [
    "### End of Checkpoint-3"
   ]
  },
  {
   "cell_type": "code",
   "execution_count": 71,
   "id": "629a2db5",
   "metadata": {},
   "outputs": [],
   "source": [
    "#save as csv\n",
    "df3.to_csv('batch3', index = False)"
   ]
  },
  {
   "cell_type": "code",
   "execution_count": 72,
   "id": "978d5975",
   "metadata": {},
   "outputs": [],
   "source": [
    "# Merge the two dataframes\n",
    "df = pd.concat([df, df3])"
   ]
  },
  {
   "cell_type": "markdown",
   "id": "3105a6d4",
   "metadata": {},
   "source": [
    "### Checkpoint-4"
   ]
  },
  {
   "cell_type": "code",
   "execution_count": 73,
   "id": "bbe64ca1",
   "metadata": {},
   "outputs": [
    {
     "name": "stdout",
     "output_type": "stream",
     "text": [
      "<class 'pandas.core.frame.DataFrame'>\n",
      "Int64Index: 3003 entries, 0 to 1000\n",
      "Data columns (total 8 columns):\n",
      " #   Column           Non-Null Count  Dtype \n",
      "---  ------           --------------  ----- \n",
      " 0   company_name     3003 non-null   object\n",
      " 1   industry         3003 non-null   object\n",
      " 2   website          3003 non-null   object\n",
      " 3   telephone        3003 non-null   object\n",
      " 4   fax              3003 non-null   object\n",
      " 5   address          3003 non-null   object\n",
      " 6   address_maplink  3003 non-null   object\n",
      " 7   email            2974 non-null   object\n",
      "dtypes: object(8)\n",
      "memory usage: 211.1+ KB\n"
     ]
    }
   ],
   "source": [
    "df.info()"
   ]
  },
  {
   "cell_type": "code",
   "execution_count": 74,
   "id": "8bb08b2c",
   "metadata": {},
   "outputs": [
    {
     "data": {
      "text/html": [
       "<div>\n",
       "<style scoped>\n",
       "    .dataframe tbody tr th:only-of-type {\n",
       "        vertical-align: middle;\n",
       "    }\n",
       "\n",
       "    .dataframe tbody tr th {\n",
       "        vertical-align: top;\n",
       "    }\n",
       "\n",
       "    .dataframe thead th {\n",
       "        text-align: right;\n",
       "    }\n",
       "</style>\n",
       "<table border=\"1\" class=\"dataframe\">\n",
       "  <thead>\n",
       "    <tr style=\"text-align: right;\">\n",
       "      <th></th>\n",
       "      <th>company_name</th>\n",
       "      <th>industry</th>\n",
       "      <th>website</th>\n",
       "      <th>telephone</th>\n",
       "      <th>fax</th>\n",
       "      <th>address</th>\n",
       "      <th>address_maplink</th>\n",
       "      <th>email</th>\n",
       "    </tr>\n",
       "  </thead>\n",
       "  <tbody>\n",
       "    <tr>\n",
       "      <th>0</th>\n",
       "      <td>Ringler + Strahm Storenbau AG</td>\n",
       "      <td>Sonstige Bauinstallation</td>\n",
       "      <td>http://www.ringler-strahm.ch/</td>\n",
       "      <td>tel:033 345 22 55</td>\n",
       "      <td>fax:033 345 55 19</td>\n",
       "      <td>Uetendorfstrasse 20\\n3634 Thierachern</td>\n",
       "      <td>https://www.google.com/maps/place/Uetendorfstr...</td>\n",
       "      <td>info@ringler-strahm.ch</td>\n",
       "    </tr>\n",
       "    <tr>\n",
       "      <th>1</th>\n",
       "      <td>Grob &amp; Partner Architektur AG</td>\n",
       "      <td>Architekturbüros</td>\n",
       "      <td>http://www.grobarchitektur.ch/</td>\n",
       "      <td>tel:081 720 02 00</td>\n",
       "      <td>fax:081 720 02 05</td>\n",
       "      <td>Bahnhofstrasse 3\\n7320 Sargans</td>\n",
       "      <td>https://www.google.com/maps/place/Bahnhofstras...</td>\n",
       "      <td>605a7baede844d278b89dc95ae0a9123@sentry-next.w...</td>\n",
       "    </tr>\n",
       "    <tr>\n",
       "      <th>2</th>\n",
       "      <td>Lauclair AG</td>\n",
       "      <td>Schreinerarbeiten im Innenausbau</td>\n",
       "      <td>http://www.lauclair.ch/</td>\n",
       "      <td>tel:031 879 01 69</td>\n",
       "      <td>fax:031 879 20 69</td>\n",
       "      <td>Lyssstrasse 27\\n3054 Schüpfen</td>\n",
       "      <td>https://www.google.com/maps/place/Lyssstrasse%...</td>\n",
       "      <td>a95fca1f1eb9fe8g2c9ead0cd9931e2a@2x.jpg</td>\n",
       "    </tr>\n",
       "    <tr>\n",
       "      <th>3</th>\n",
       "      <td>Club Goldwand</td>\n",
       "      <td>Kauf und Verkauf von eigenen Grundstücken, Geb...</td>\n",
       "      <td>http://www.clubgoldwand.ch/</td>\n",
       "      <td>tel:056 282 30 50</td>\n",
       "      <td>NA</td>\n",
       "      <td>Landstrasse 6\\n5415 Nussbaumen AG</td>\n",
       "      <td>https://www.google.com/maps/place/Landstrasse%...</td>\n",
       "      <td>info@clubgoldwand.ch</td>\n",
       "    </tr>\n",
       "    <tr>\n",
       "      <th>4</th>\n",
       "      <td>NICOLE DIEM Horgen</td>\n",
       "      <td>Detailhandel mit Brillen und anderen Sehhilfen</td>\n",
       "      <td>http://www.nicolediem.ch/</td>\n",
       "      <td>tel:044 770 10 40</td>\n",
       "      <td>NA</td>\n",
       "      <td>Dorfplatz 3\\n8810 Horgen</td>\n",
       "      <td>https://www.google.com/maps/place/Dorfplatz%20...</td>\n",
       "      <td>johndoe@domain.com</td>\n",
       "    </tr>\n",
       "  </tbody>\n",
       "</table>\n",
       "</div>"
      ],
      "text/plain": [
       "                    company_name  \\\n",
       "0  Ringler + Strahm Storenbau AG   \n",
       "1  Grob & Partner Architektur AG   \n",
       "2                    Lauclair AG   \n",
       "3                  Club Goldwand   \n",
       "4             NICOLE DIEM Horgen   \n",
       "\n",
       "                                            industry  \\\n",
       "0                           Sonstige Bauinstallation   \n",
       "1                                   Architekturbüros   \n",
       "2                   Schreinerarbeiten im Innenausbau   \n",
       "3  Kauf und Verkauf von eigenen Grundstücken, Geb...   \n",
       "4     Detailhandel mit Brillen und anderen Sehhilfen   \n",
       "\n",
       "                          website          telephone                fax  \\\n",
       "0   http://www.ringler-strahm.ch/  tel:033 345 22 55  fax:033 345 55 19   \n",
       "1  http://www.grobarchitektur.ch/  tel:081 720 02 00  fax:081 720 02 05   \n",
       "2         http://www.lauclair.ch/  tel:031 879 01 69  fax:031 879 20 69   \n",
       "3     http://www.clubgoldwand.ch/  tel:056 282 30 50                 NA   \n",
       "4       http://www.nicolediem.ch/  tel:044 770 10 40                 NA   \n",
       "\n",
       "                                 address  \\\n",
       "0  Uetendorfstrasse 20\\n3634 Thierachern   \n",
       "1         Bahnhofstrasse 3\\n7320 Sargans   \n",
       "2          Lyssstrasse 27\\n3054 Schüpfen   \n",
       "3      Landstrasse 6\\n5415 Nussbaumen AG   \n",
       "4               Dorfplatz 3\\n8810 Horgen   \n",
       "\n",
       "                                     address_maplink  \\\n",
       "0  https://www.google.com/maps/place/Uetendorfstr...   \n",
       "1  https://www.google.com/maps/place/Bahnhofstras...   \n",
       "2  https://www.google.com/maps/place/Lyssstrasse%...   \n",
       "3  https://www.google.com/maps/place/Landstrasse%...   \n",
       "4  https://www.google.com/maps/place/Dorfplatz%20...   \n",
       "\n",
       "                                               email  \n",
       "0                             info@ringler-strahm.ch  \n",
       "1  605a7baede844d278b89dc95ae0a9123@sentry-next.w...  \n",
       "2            a95fca1f1eb9fe8g2c9ead0cd9931e2a@2x.jpg  \n",
       "3                               info@clubgoldwand.ch  \n",
       "4                                 johndoe@domain.com  "
      ]
     },
     "execution_count": 74,
     "metadata": {},
     "output_type": "execute_result"
    }
   ],
   "source": [
    "df.head()"
   ]
  },
  {
   "cell_type": "code",
   "execution_count": 75,
   "id": "3d5d6d55",
   "metadata": {},
   "outputs": [
    {
     "data": {
      "text/html": [
       "<div>\n",
       "<style scoped>\n",
       "    .dataframe tbody tr th:only-of-type {\n",
       "        vertical-align: middle;\n",
       "    }\n",
       "\n",
       "    .dataframe tbody tr th {\n",
       "        vertical-align: top;\n",
       "    }\n",
       "\n",
       "    .dataframe thead th {\n",
       "        text-align: right;\n",
       "    }\n",
       "</style>\n",
       "<table border=\"1\" class=\"dataframe\">\n",
       "  <thead>\n",
       "    <tr style=\"text-align: right;\">\n",
       "      <th></th>\n",
       "      <th>company_name</th>\n",
       "      <th>industry</th>\n",
       "      <th>website</th>\n",
       "      <th>telephone</th>\n",
       "      <th>fax</th>\n",
       "      <th>address</th>\n",
       "      <th>address_maplink</th>\n",
       "      <th>email</th>\n",
       "    </tr>\n",
       "  </thead>\n",
       "  <tbody>\n",
       "    <tr>\n",
       "      <th>996</th>\n",
       "      <td>Hirt Schreinerei GmbH</td>\n",
       "      <td>Schreinerarbeiten im Innenausbau</td>\n",
       "      <td>http://www.hirt-schreinerei.ch/</td>\n",
       "      <td>tel:061 901 55 88</td>\n",
       "      <td>fax:061 901 83 04</td>\n",
       "      <td>Bächliackerstrasse 4\\n4402 Frenkendorf</td>\n",
       "      <td>https://www.google.com/maps/place/B%C3%A4chlia...</td>\n",
       "      <td>bad/broken link to website</td>\n",
       "    </tr>\n",
       "    <tr>\n",
       "      <th>997</th>\n",
       "      <td>René Bührer AG</td>\n",
       "      <td>Detailhandel mit Vorhängen, Teppichen, Fussbod...</td>\n",
       "      <td>NA</td>\n",
       "      <td>tel:052 672 16 30</td>\n",
       "      <td>fax:052 672 16 40</td>\n",
       "      <td>Rheinfallstrasse 7\\n8212 Neuhausen am Rheinfall</td>\n",
       "      <td>https://www.google.com/maps/place/Rheinfallstr...</td>\n",
       "      <td>website does not exist</td>\n",
       "    </tr>\n",
       "    <tr>\n",
       "      <th>998</th>\n",
       "      <td>EFOS Flugschule GmbH</td>\n",
       "      <td>Fahr- und Flugschulen</td>\n",
       "      <td>http://www.efos.ch/</td>\n",
       "      <td>tel:044 861 07 04</td>\n",
       "      <td>NA</td>\n",
       "      <td>Flughafenstrasse 14\\n8302 Kloten</td>\n",
       "      <td>https://www.google.com/maps/place/Flughafenstr...</td>\n",
       "      <td>20info@efos.ch</td>\n",
       "    </tr>\n",
       "    <tr>\n",
       "      <th>999</th>\n",
       "      <td>Hess Druck AG</td>\n",
       "      <td>Offsetdruck</td>\n",
       "      <td>http://www.hessdruck.ch/</td>\n",
       "      <td>tel:071 658 61 80</td>\n",
       "      <td>NA</td>\n",
       "      <td>Schützlerweg 3\\n8560 Märstetten</td>\n",
       "      <td>https://www.google.com/maps/place/Sch%C3%BCtzl...</td>\n",
       "      <td>satz@hessdruck.ch</td>\n",
       "    </tr>\n",
       "    <tr>\n",
       "      <th>1000</th>\n",
       "      <td>Rhomberg Schmuck AG</td>\n",
       "      <td>Detailhandel mit Uhren und Schmuck</td>\n",
       "      <td>http://www.schmuck.ch/</td>\n",
       "      <td>tel:071 310 15 80</td>\n",
       "      <td>NA</td>\n",
       "      <td>Zürcher-Strasse\\n9015 St. Gallen</td>\n",
       "      <td>https://www.google.com/maps/place/Z%C3%BCrcher...</td>\n",
       "      <td>email not found on website</td>\n",
       "    </tr>\n",
       "  </tbody>\n",
       "</table>\n",
       "</div>"
      ],
      "text/plain": [
       "               company_name  \\\n",
       "996   Hirt Schreinerei GmbH   \n",
       "997          René Bührer AG   \n",
       "998    EFOS Flugschule GmbH   \n",
       "999           Hess Druck AG   \n",
       "1000    Rhomberg Schmuck AG   \n",
       "\n",
       "                                               industry  \\\n",
       "996                    Schreinerarbeiten im Innenausbau   \n",
       "997   Detailhandel mit Vorhängen, Teppichen, Fussbod...   \n",
       "998                               Fahr- und Flugschulen   \n",
       "999                                         Offsetdruck   \n",
       "1000                 Detailhandel mit Uhren und Schmuck   \n",
       "\n",
       "                              website          telephone                fax  \\\n",
       "996   http://www.hirt-schreinerei.ch/  tel:061 901 55 88  fax:061 901 83 04   \n",
       "997                                NA  tel:052 672 16 30  fax:052 672 16 40   \n",
       "998               http://www.efos.ch/  tel:044 861 07 04                 NA   \n",
       "999          http://www.hessdruck.ch/  tel:071 658 61 80                 NA   \n",
       "1000           http://www.schmuck.ch/  tel:071 310 15 80                 NA   \n",
       "\n",
       "                                              address  \\\n",
       "996            Bächliackerstrasse 4\\n4402 Frenkendorf   \n",
       "997   Rheinfallstrasse 7\\n8212 Neuhausen am Rheinfall   \n",
       "998                  Flughafenstrasse 14\\n8302 Kloten   \n",
       "999                   Schützlerweg 3\\n8560 Märstetten   \n",
       "1000                 Zürcher-Strasse\\n9015 St. Gallen   \n",
       "\n",
       "                                        address_maplink  \\\n",
       "996   https://www.google.com/maps/place/B%C3%A4chlia...   \n",
       "997   https://www.google.com/maps/place/Rheinfallstr...   \n",
       "998   https://www.google.com/maps/place/Flughafenstr...   \n",
       "999   https://www.google.com/maps/place/Sch%C3%BCtzl...   \n",
       "1000  https://www.google.com/maps/place/Z%C3%BCrcher...   \n",
       "\n",
       "                           email  \n",
       "996   bad/broken link to website  \n",
       "997       website does not exist  \n",
       "998               20info@efos.ch  \n",
       "999            satz@hessdruck.ch  \n",
       "1000  email not found on website  "
      ]
     },
     "execution_count": 75,
     "metadata": {},
     "output_type": "execute_result"
    }
   ],
   "source": [
    "df.tail()"
   ]
  },
  {
   "cell_type": "code",
   "execution_count": 76,
   "id": "cf09793a",
   "metadata": {},
   "outputs": [
    {
     "data": {
      "text/html": [
       "<div>\n",
       "<style scoped>\n",
       "    .dataframe tbody tr th:only-of-type {\n",
       "        vertical-align: middle;\n",
       "    }\n",
       "\n",
       "    .dataframe tbody tr th {\n",
       "        vertical-align: top;\n",
       "    }\n",
       "\n",
       "    .dataframe thead th {\n",
       "        text-align: right;\n",
       "    }\n",
       "</style>\n",
       "<table border=\"1\" class=\"dataframe\">\n",
       "  <thead>\n",
       "    <tr style=\"text-align: right;\">\n",
       "      <th></th>\n",
       "      <th>company_name</th>\n",
       "      <th>industry</th>\n",
       "      <th>website</th>\n",
       "      <th>telephone</th>\n",
       "      <th>fax</th>\n",
       "      <th>address</th>\n",
       "      <th>address_maplink</th>\n",
       "      <th>email</th>\n",
       "    </tr>\n",
       "  </thead>\n",
       "  <tbody>\n",
       "    <tr>\n",
       "      <th>0</th>\n",
       "      <td>True</td>\n",
       "      <td>True</td>\n",
       "      <td>True</td>\n",
       "      <td>True</td>\n",
       "      <td>True</td>\n",
       "      <td>True</td>\n",
       "      <td>True</td>\n",
       "      <td>True</td>\n",
       "    </tr>\n",
       "    <tr>\n",
       "      <th>1</th>\n",
       "      <td>True</td>\n",
       "      <td>True</td>\n",
       "      <td>True</td>\n",
       "      <td>True</td>\n",
       "      <td>True</td>\n",
       "      <td>True</td>\n",
       "      <td>True</td>\n",
       "      <td>True</td>\n",
       "    </tr>\n",
       "    <tr>\n",
       "      <th>2</th>\n",
       "      <td>True</td>\n",
       "      <td>True</td>\n",
       "      <td>True</td>\n",
       "      <td>True</td>\n",
       "      <td>True</td>\n",
       "      <td>True</td>\n",
       "      <td>True</td>\n",
       "      <td>True</td>\n",
       "    </tr>\n",
       "    <tr>\n",
       "      <th>3</th>\n",
       "      <td>True</td>\n",
       "      <td>True</td>\n",
       "      <td>True</td>\n",
       "      <td>True</td>\n",
       "      <td>True</td>\n",
       "      <td>True</td>\n",
       "      <td>True</td>\n",
       "      <td>True</td>\n",
       "    </tr>\n",
       "    <tr>\n",
       "      <th>4</th>\n",
       "      <td>True</td>\n",
       "      <td>True</td>\n",
       "      <td>True</td>\n",
       "      <td>True</td>\n",
       "      <td>True</td>\n",
       "      <td>True</td>\n",
       "      <td>True</td>\n",
       "      <td>True</td>\n",
       "    </tr>\n",
       "  </tbody>\n",
       "</table>\n",
       "</div>"
      ],
      "text/plain": [
       "   company_name  industry  website  telephone   fax  address  address_maplink  \\\n",
       "0          True      True     True       True  True     True             True   \n",
       "1          True      True     True       True  True     True             True   \n",
       "2          True      True     True       True  True     True             True   \n",
       "3          True      True     True       True  True     True             True   \n",
       "4          True      True     True       True  True     True             True   \n",
       "\n",
       "   email  \n",
       "0   True  \n",
       "1   True  \n",
       "2   True  \n",
       "3   True  \n",
       "4   True  "
      ]
     },
     "execution_count": 76,
     "metadata": {},
     "output_type": "execute_result"
    }
   ],
   "source": [
    "df.head() == df1.head()"
   ]
  },
  {
   "cell_type": "code",
   "execution_count": 77,
   "id": "805ef98d",
   "metadata": {},
   "outputs": [
    {
     "data": {
      "text/html": [
       "<div>\n",
       "<style scoped>\n",
       "    .dataframe tbody tr th:only-of-type {\n",
       "        vertical-align: middle;\n",
       "    }\n",
       "\n",
       "    .dataframe tbody tr th {\n",
       "        vertical-align: top;\n",
       "    }\n",
       "\n",
       "    .dataframe thead th {\n",
       "        text-align: right;\n",
       "    }\n",
       "</style>\n",
       "<table border=\"1\" class=\"dataframe\">\n",
       "  <thead>\n",
       "    <tr style=\"text-align: right;\">\n",
       "      <th></th>\n",
       "      <th>company_name</th>\n",
       "      <th>industry</th>\n",
       "      <th>website</th>\n",
       "      <th>telephone</th>\n",
       "      <th>fax</th>\n",
       "      <th>address</th>\n",
       "      <th>address_maplink</th>\n",
       "      <th>email</th>\n",
       "    </tr>\n",
       "  </thead>\n",
       "  <tbody>\n",
       "    <tr>\n",
       "      <th>996</th>\n",
       "      <td>True</td>\n",
       "      <td>True</td>\n",
       "      <td>True</td>\n",
       "      <td>True</td>\n",
       "      <td>True</td>\n",
       "      <td>True</td>\n",
       "      <td>True</td>\n",
       "      <td>True</td>\n",
       "    </tr>\n",
       "    <tr>\n",
       "      <th>997</th>\n",
       "      <td>True</td>\n",
       "      <td>True</td>\n",
       "      <td>True</td>\n",
       "      <td>True</td>\n",
       "      <td>True</td>\n",
       "      <td>True</td>\n",
       "      <td>True</td>\n",
       "      <td>True</td>\n",
       "    </tr>\n",
       "    <tr>\n",
       "      <th>998</th>\n",
       "      <td>True</td>\n",
       "      <td>True</td>\n",
       "      <td>True</td>\n",
       "      <td>True</td>\n",
       "      <td>True</td>\n",
       "      <td>True</td>\n",
       "      <td>True</td>\n",
       "      <td>True</td>\n",
       "    </tr>\n",
       "    <tr>\n",
       "      <th>999</th>\n",
       "      <td>True</td>\n",
       "      <td>True</td>\n",
       "      <td>True</td>\n",
       "      <td>True</td>\n",
       "      <td>True</td>\n",
       "      <td>True</td>\n",
       "      <td>True</td>\n",
       "      <td>True</td>\n",
       "    </tr>\n",
       "    <tr>\n",
       "      <th>1000</th>\n",
       "      <td>True</td>\n",
       "      <td>True</td>\n",
       "      <td>True</td>\n",
       "      <td>True</td>\n",
       "      <td>True</td>\n",
       "      <td>True</td>\n",
       "      <td>True</td>\n",
       "      <td>True</td>\n",
       "    </tr>\n",
       "  </tbody>\n",
       "</table>\n",
       "</div>"
      ],
      "text/plain": [
       "      company_name  industry  website  telephone   fax  address  \\\n",
       "996           True      True     True       True  True     True   \n",
       "997           True      True     True       True  True     True   \n",
       "998           True      True     True       True  True     True   \n",
       "999           True      True     True       True  True     True   \n",
       "1000          True      True     True       True  True     True   \n",
       "\n",
       "      address_maplink  email  \n",
       "996              True   True  \n",
       "997              True   True  \n",
       "998              True   True  \n",
       "999              True   True  \n",
       "1000             True   True  "
      ]
     },
     "execution_count": 77,
     "metadata": {},
     "output_type": "execute_result"
    }
   ],
   "source": [
    "df.tail() == df3.tail()"
   ]
  },
  {
   "cell_type": "markdown",
   "id": "130ab71f",
   "metadata": {},
   "source": [
    "### xxxxxxxxxxxx Push to Github xxxxxxxxxxxxxx"
   ]
  },
  {
   "cell_type": "markdown",
   "id": "f38a44ba",
   "metadata": {},
   "source": [
    "### Batch-4, batch_size = 1000, batch_start_index = 3001\n"
   ]
  },
  {
   "cell_type": "code",
   "execution_count": 81,
   "id": "206c7a3e",
   "metadata": {},
   "outputs": [
    {
     "name": "stdout",
     "output_type": "stream",
     "text": [
      "count 1\n",
      "count 2\n",
      "count 3\n",
      "count 4\n",
      "count 5\n",
      "count 6\n",
      "count 7\n",
      "count 8\n",
      "count 9\n",
      "count 10\n",
      "count 11\n",
      "count 12\n",
      "count 13\n",
      "count 14\n",
      "count 15\n",
      "count 16\n",
      "count 17\n",
      "count 18\n",
      "count 19\n",
      "count 20\n",
      "count 21\n",
      "count 22\n",
      "count 23\n",
      "count 24\n",
      "count 25\n",
      "count 26\n",
      "count 27\n",
      "count 28\n",
      "count 29\n",
      "count 30\n",
      "count 31\n",
      "count 32\n",
      "count 33\n",
      "count 34\n",
      "count 35\n",
      "count 36\n",
      "count 37\n",
      "count 38\n",
      "count 39\n",
      "count 40\n",
      "count 41\n",
      "count 42\n",
      "count 43\n",
      "count 44\n",
      "count 45\n",
      "count 46\n",
      "count 47\n",
      "count 48\n",
      "count 49\n",
      "count 50\n",
      "count 51\n",
      "count 52\n",
      "count 53\n",
      "count 54\n",
      "count 55\n",
      "count 56\n",
      "count 57\n",
      "count 58\n",
      "count 59\n",
      "count 60\n",
      "count 61\n",
      "count 62\n",
      "count 63\n",
      "count 64\n",
      "count 65\n",
      "count 66\n",
      "count 67\n",
      "count 68\n",
      "count 69\n",
      "count 70\n",
      "count 71\n",
      "count 72\n",
      "count 73\n",
      "count 74\n",
      "count 75\n",
      "count 76\n",
      "count 77\n",
      "count 78\n",
      "count 79\n",
      "count 80\n",
      "count 81\n",
      "count 82\n",
      "count 83\n",
      "count 84\n",
      "count 85\n",
      "count 86\n",
      "count 87\n",
      "count 88\n",
      "count 89\n",
      "count 90\n",
      "count 91\n",
      "count 92\n",
      "count 93\n",
      "count 94\n",
      "count 95\n",
      "count 96\n",
      "count 97\n",
      "count 98\n",
      "count 99\n",
      "count 100\n",
      "count 101\n",
      "count 102\n",
      "count 103\n",
      "count 104\n",
      "count 105\n",
      "count 106\n",
      "count 107\n",
      "count 108\n",
      "count 109\n",
      "count 110\n",
      "count 111\n",
      "count 112\n",
      "count 113\n",
      "count 114\n",
      "count 115\n",
      "count 116\n",
      "count 117\n",
      "count 118\n",
      "count 119\n",
      "count 120\n",
      "count 121\n",
      "count 122\n",
      "count 123\n",
      "count 124\n",
      "count 125\n",
      "count 126\n",
      "count 127\n",
      "count 128\n",
      "count 129\n",
      "count 130\n",
      "count 131\n",
      "count 132\n",
      "count 133\n",
      "count 134\n",
      "count 135\n",
      "count 136\n",
      "count 137\n",
      "count 138\n",
      "count 139\n",
      "count 140\n",
      "count 141\n",
      "count 142\n",
      "count 143\n",
      "count 144\n",
      "count 145\n",
      "count 146\n",
      "count 147\n",
      "count 148\n",
      "count 149\n",
      "count 150\n",
      "count 151\n",
      "count 152\n",
      "count 153\n",
      "count 154\n",
      "count 155\n",
      "count 156\n",
      "count 157\n",
      "count 158\n",
      "count 159\n",
      "count 160\n",
      "count 161\n",
      "count 162\n",
      "count 163\n",
      "count 164\n",
      "count 165\n",
      "count 166\n",
      "count 167\n",
      "count 168\n",
      "count 169\n",
      "count 170\n",
      "count 171\n",
      "count 172\n",
      "count 173\n",
      "count 174\n",
      "count 175\n",
      "count 176\n",
      "count 177\n",
      "count 178\n",
      "count 179\n",
      "count 180\n",
      "count 181\n",
      "count 182\n",
      "count 183\n",
      "count 184\n",
      "count 185\n",
      "count 186\n",
      "count 187\n",
      "count 188\n",
      "count 189\n",
      "count 190\n",
      "count 191\n",
      "count 192\n",
      "count 193\n",
      "count 194\n",
      "count 195\n",
      "count 196\n",
      "count 197\n",
      "count 198\n",
      "count 199\n",
      "count 200\n",
      "count 201\n",
      "count 202\n",
      "count 203\n",
      "count 204\n",
      "count 205\n",
      "count 206\n",
      "count 207\n",
      "count 208\n",
      "count 209\n",
      "count 210\n",
      "count 211\n",
      "count 212\n",
      "count 213\n",
      "count 214\n",
      "count 215\n",
      "count 216\n",
      "count 217\n",
      "count 218\n",
      "count 219\n",
      "count 220\n",
      "count 221\n",
      "count 222\n",
      "count 223\n",
      "count 224\n",
      "count 225\n",
      "count 226\n",
      "count 227\n",
      "count 228\n",
      "count 229\n",
      "count 230\n",
      "count 231\n",
      "count 232\n",
      "count 233\n",
      "count 234\n",
      "count 235\n",
      "count 236\n",
      "count 237\n",
      "count 238\n",
      "count 239\n",
      "count 240\n",
      "count 241\n",
      "count 242\n",
      "count 243\n",
      "count 244\n",
      "count 245\n",
      "count 246\n",
      "count 247\n",
      "count 248\n",
      "count 249\n",
      "count 250\n",
      "count 251\n",
      "count 252\n",
      "count 253\n",
      "count 254\n",
      "count 255\n",
      "count 256\n",
      "count 257\n",
      "count 258\n",
      "count 259\n",
      "count 260\n",
      "count 261\n",
      "count 262\n",
      "count 263\n",
      "count 264\n",
      "count 265\n",
      "count 266\n",
      "count 267\n",
      "count 268\n",
      "count 269\n",
      "count 270\n",
      "count 271\n",
      "count 272\n",
      "count 273\n",
      "count 274\n",
      "count 275\n",
      "count 276\n",
      "count 277\n",
      "count 278\n",
      "count 279\n",
      "count 280\n",
      "count 281\n",
      "count 282\n",
      "count 283\n",
      "count 284\n",
      "count 285\n",
      "count 286\n",
      "count 287\n",
      "count 288\n",
      "count 289\n",
      "count 290\n",
      "count 291\n",
      "count 292\n",
      "count 293\n",
      "count 294\n",
      "count 295\n",
      "count 296\n",
      "count 297\n",
      "count 298\n",
      "count 299\n",
      "count 300\n",
      "count 301\n",
      "count 302\n",
      "count 303\n",
      "count 304\n",
      "count 305\n",
      "count 306\n",
      "count 307\n",
      "count 308\n",
      "count 309\n",
      "count 310\n",
      "count 311\n",
      "count 312\n",
      "count 313\n",
      "count 314\n",
      "count 315\n",
      "count 316\n",
      "count 317\n",
      "count 318\n",
      "count 319\n",
      "count 320\n",
      "count 321\n",
      "count 322\n",
      "count 323\n",
      "count 324\n",
      "count 325\n",
      "count 326\n",
      "count 327\n",
      "count 328\n",
      "count 329\n",
      "count 330\n",
      "count 331\n",
      "count 332\n",
      "count 333\n",
      "count 334\n",
      "count 335\n",
      "count 336\n",
      "count 337\n",
      "count 338\n",
      "count 339\n",
      "count 340\n",
      "count 341\n",
      "count 342\n",
      "count 343\n",
      "count 344\n",
      "count 345\n",
      "count 346\n",
      "count 347\n",
      "count 348\n",
      "count 349\n",
      "count 350\n",
      "count 351\n",
      "count 352\n",
      "count 353\n",
      "count 354\n",
      "count 355\n",
      "count 356\n",
      "count 357\n",
      "count 358\n",
      "count 359\n",
      "count 360\n",
      "count 361\n",
      "count 362\n",
      "count 363\n",
      "count 364\n",
      "count 365\n",
      "count 366\n",
      "count 367\n",
      "count 368\n",
      "count 369\n",
      "count 370\n",
      "count 371\n",
      "count 372\n",
      "count 373\n",
      "count 374\n",
      "count 375\n",
      "count 376\n",
      "count 377\n",
      "count 378\n",
      "count 379\n",
      "count 380\n",
      "count 381\n",
      "count 382\n",
      "count 383\n",
      "count 384\n",
      "count 385\n",
      "count 386\n",
      "count 387\n",
      "count 388\n",
      "count 389\n",
      "count 390\n",
      "count 391\n",
      "count 392\n",
      "count 393\n",
      "count 394\n",
      "count 395\n",
      "count 396\n",
      "count 397\n",
      "count 398\n",
      "count 399\n",
      "count 400\n",
      "count 401\n",
      "count 402\n",
      "count 403\n",
      "count 404\n",
      "count 405\n",
      "count 406\n",
      "count 407\n",
      "count 408\n",
      "count 409\n",
      "count 410\n",
      "count 411\n",
      "count 412\n",
      "count 413\n",
      "count 414\n",
      "count 415\n",
      "count 416\n",
      "count 417\n",
      "count 418\n",
      "count 419\n",
      "count 420\n",
      "count 421\n",
      "count 422\n",
      "count 423\n",
      "count 424\n",
      "count 425\n",
      "count 426\n",
      "count 427\n",
      "count 428\n",
      "count 429\n",
      "count 430\n",
      "count 431\n",
      "count 432\n",
      "count 433\n",
      "count 434\n",
      "count 435\n",
      "count 436\n",
      "count 437\n",
      "count 438\n",
      "count 439\n",
      "count 440\n",
      "count 441\n",
      "count 442\n",
      "count 443\n",
      "count 444\n",
      "count 445\n",
      "count 446\n",
      "count 447\n",
      "count 448\n",
      "count 449\n",
      "count 450\n",
      "count 451\n",
      "count 452\n",
      "count 453\n",
      "count 454\n",
      "count 455\n",
      "count 456\n",
      "count 457\n",
      "count 458\n",
      "count 459\n",
      "count 460\n",
      "count 461\n",
      "count 462\n",
      "count 463\n",
      "count 464\n",
      "count 465\n",
      "count 466\n",
      "count 467\n",
      "count 468\n",
      "count 469\n",
      "count 470\n",
      "count 471\n",
      "count 472\n",
      "count 473\n",
      "count 474\n",
      "count 475\n",
      "count 476\n",
      "count 477\n",
      "count 478\n",
      "count 479\n",
      "count 480\n",
      "count 481\n",
      "count 482\n",
      "count 483\n",
      "count 484\n",
      "count 485\n",
      "count 486\n",
      "count 487\n",
      "count 488\n",
      "count 489\n",
      "count 490\n",
      "count 491\n",
      "count 492\n",
      "count 493\n",
      "count 494\n",
      "count 495\n",
      "count 496\n",
      "count 497\n",
      "count 498\n",
      "count 499\n",
      "count 500\n",
      "count 501\n",
      "count 502\n",
      "count 503\n",
      "count 504\n",
      "count 505\n",
      "count 506\n",
      "count 507\n",
      "count 508\n",
      "count 509\n",
      "count 510\n",
      "count 511\n",
      "count 512\n",
      "count 513\n",
      "count 514\n",
      "count 515\n",
      "count 516\n",
      "count 517\n",
      "count 518\n",
      "count 519\n",
      "count 520\n",
      "count 521\n",
      "count 522\n",
      "count 523\n",
      "count 524\n",
      "count 525\n",
      "count 526\n",
      "count 527\n",
      "count 528\n",
      "count 529\n",
      "count 530\n",
      "count 531\n",
      "count 532\n",
      "count 533\n",
      "count 534\n",
      "count 535\n",
      "count 536\n",
      "count 537\n",
      "count 538\n",
      "count 539\n",
      "count 540\n",
      "count 541\n",
      "count 542\n",
      "count 543\n",
      "count 544\n",
      "count 545\n",
      "count 546\n",
      "count 547\n",
      "count 548\n",
      "count 549\n",
      "count 550\n",
      "count 551\n",
      "count 552\n",
      "count 553\n",
      "count 554\n",
      "count 555\n",
      "count 556\n",
      "count 557\n",
      "count 558\n",
      "count 559\n",
      "count 560\n",
      "count 561\n",
      "count 562\n",
      "count 563\n",
      "count 564\n",
      "count 565\n",
      "count 566\n",
      "count 567\n",
      "count 568\n",
      "count 569\n",
      "count 570\n",
      "count 571\n",
      "count 572\n",
      "count 573\n",
      "count 574\n",
      "count 575\n",
      "count 576\n",
      "count 577\n",
      "count 578\n",
      "count 579\n",
      "count 580\n",
      "count 581\n",
      "count 582\n",
      "count 583\n",
      "count 584\n",
      "count 585\n",
      "count 586\n",
      "count 587\n",
      "count 588\n",
      "count 589\n",
      "count 590\n",
      "count 591\n",
      "count 592\n",
      "count 593\n",
      "count 594\n",
      "count 595\n",
      "count 596\n",
      "count 597\n",
      "count 598\n",
      "count 599\n",
      "count 600\n",
      "count 601\n",
      "count 602\n",
      "count 603\n",
      "count 604\n",
      "count 605\n",
      "count 606\n",
      "count 607\n",
      "count 608\n",
      "count 609\n",
      "count 610\n",
      "count 611\n",
      "count 612\n",
      "count 613\n",
      "count 614\n",
      "count 615\n",
      "count 616\n",
      "count 617\n",
      "count 618\n",
      "count 619\n",
      "count 620\n",
      "count 621\n",
      "count 622\n",
      "count 623\n",
      "count 624\n",
      "count 625\n",
      "count 626\n",
      "count 627\n",
      "count 628\n",
      "count 629\n",
      "count 630\n",
      "count 631\n",
      "count 632\n",
      "count 633\n",
      "count 634\n",
      "count 635\n",
      "count 636\n",
      "count 637\n",
      "count 638\n",
      "count 639\n",
      "count 640\n",
      "count 641\n",
      "count 642\n",
      "count 643\n",
      "count 644\n",
      "count 645\n",
      "count 646\n",
      "count 647\n",
      "count 648\n",
      "count 649\n",
      "count 650\n",
      "count 651\n",
      "count 652\n",
      "count 653\n",
      "count 654\n",
      "count 655\n",
      "count 656\n",
      "count 657\n",
      "count 658\n",
      "count 659\n",
      "count 660\n",
      "count 661\n",
      "count 662\n",
      "count 663\n",
      "count 664\n",
      "count 665\n",
      "count 666\n",
      "count 667\n",
      "count 668\n",
      "count 669\n",
      "count 670\n",
      "count 671\n",
      "count 672\n",
      "count 673\n",
      "count 674\n",
      "count 675\n",
      "count 676\n",
      "count 677\n",
      "count 678\n",
      "count 679\n",
      "count 680\n",
      "count 681\n",
      "count 682\n",
      "count 683\n",
      "count 684\n",
      "count 685\n",
      "count 686\n",
      "count 687\n",
      "count 688\n",
      "count 689\n",
      "count 690\n",
      "count 691\n",
      "count 692\n",
      "count 693\n",
      "count 694\n",
      "count 695\n",
      "count 696\n",
      "count 697\n",
      "count 698\n",
      "count 699\n",
      "count 700\n",
      "count 701\n",
      "count 702\n",
      "count 703\n",
      "count 704\n",
      "count 705\n",
      "count 706\n",
      "count 707\n",
      "count 708\n",
      "count 709\n",
      "count 710\n",
      "count 711\n",
      "count 712\n",
      "count 713\n",
      "count 714\n",
      "count 715\n",
      "count 716\n",
      "count 717\n",
      "count 718\n",
      "count 719\n",
      "count 720\n",
      "count 721\n",
      "count 722\n",
      "count 723\n",
      "count 724\n",
      "count 725\n",
      "count 726\n",
      "count 727\n",
      "count 728\n",
      "count 729\n",
      "count 730\n",
      "count 731\n",
      "count 732\n",
      "count 733\n",
      "count 734\n",
      "count 735\n",
      "count 736\n",
      "count 737\n",
      "count 738\n",
      "count 739\n",
      "count 740\n",
      "count 741\n",
      "count 742\n",
      "count 743\n",
      "count 744\n",
      "count 745\n",
      "count 746\n",
      "count 747\n",
      "count 748\n",
      "count 749\n",
      "count 750\n",
      "count 751\n",
      "count 752\n",
      "count 753\n",
      "count 754\n",
      "count 755\n",
      "count 756\n",
      "count 757\n",
      "count 758\n",
      "count 759\n",
      "count 760\n",
      "count 761\n",
      "count 762\n",
      "count 763\n",
      "count 764\n",
      "count 765\n",
      "count 766\n",
      "count 767\n",
      "count 768\n",
      "count 769\n",
      "count 770\n",
      "count 771\n",
      "count 772\n",
      "count 773\n",
      "count 774\n",
      "count 775\n",
      "count 776\n",
      "count 777\n",
      "count 778\n",
      "count 779\n",
      "count 780\n",
      "count 781\n",
      "count 782\n",
      "count 783\n",
      "count 784\n",
      "count 785\n",
      "count 786\n",
      "count 787\n",
      "count 788\n",
      "count 789\n",
      "count 790\n",
      "count 791\n",
      "count 792\n",
      "count 793\n",
      "count 794\n",
      "count 795\n",
      "count 796\n",
      "count 797\n",
      "count 798\n",
      "count 799\n",
      "count 800\n",
      "count 801\n",
      "count 802\n",
      "count 803\n",
      "count 804\n",
      "count 805\n",
      "count 806\n",
      "count 807\n",
      "count 808\n",
      "count 809\n",
      "count 810\n",
      "count 811\n",
      "count 812\n",
      "count 813\n",
      "count 814\n",
      "count 815\n",
      "count 816\n",
      "count 817\n",
      "count 818\n",
      "count 819\n",
      "count 820\n",
      "count 821\n",
      "count 822\n",
      "count 823\n",
      "count 824\n",
      "count 825\n",
      "count 826\n",
      "count 827\n",
      "count 828\n",
      "count 829\n",
      "count 830\n",
      "count 831\n"
     ]
    },
    {
     "name": "stdout",
     "output_type": "stream",
     "text": [
      "count 832\n",
      "count 833\n",
      "count 834\n",
      "count 835\n",
      "count 836\n",
      "count 837\n",
      "count 838\n",
      "count 839\n",
      "count 840\n",
      "count 841\n",
      "count 842\n",
      "count 843\n",
      "count 844\n",
      "count 845\n",
      "count 846\n",
      "count 847\n",
      "count 848\n",
      "count 849\n",
      "count 850\n",
      "count 851\n",
      "count 852\n",
      "count 853\n",
      "count 854\n",
      "count 855\n",
      "count 856\n",
      "count 857\n",
      "count 858\n",
      "count 859\n",
      "count 860\n",
      "count 861\n",
      "count 862\n",
      "count 863\n",
      "count 864\n",
      "count 865\n",
      "count 866\n",
      "count 867\n",
      "count 868\n",
      "count 869\n",
      "count 870\n",
      "count 871\n",
      "count 872\n",
      "count 873\n",
      "count 874\n",
      "count 875\n",
      "count 876\n",
      "count 877\n",
      "count 878\n",
      "count 879\n",
      "count 880\n",
      "count 881\n",
      "count 882\n",
      "count 883\n",
      "count 884\n",
      "count 885\n",
      "count 886\n",
      "count 887\n",
      "count 888\n",
      "count 889\n",
      "count 890\n",
      "count 891\n",
      "count 892\n",
      "count 893\n",
      "count 894\n",
      "count 895\n",
      "count 896\n",
      "count 897\n",
      "count 898\n",
      "count 899\n",
      "count 900\n",
      "count 901\n",
      "count 902\n",
      "count 903\n",
      "count 904\n",
      "count 905\n",
      "count 906\n",
      "count 907\n",
      "count 908\n",
      "count 909\n",
      "count 910\n",
      "count 911\n",
      "count 912\n",
      "count 913\n",
      "count 914\n",
      "count 915\n",
      "count 916\n",
      "count 917\n",
      "count 918\n",
      "count 919\n",
      "count 920\n",
      "count 921\n",
      "count 922\n",
      "count 923\n",
      "count 924\n",
      "count 925\n",
      "count 926\n",
      "count 927\n",
      "count 928\n",
      "count 929\n",
      "count 930\n",
      "count 931\n",
      "count 932\n",
      "count 933\n",
      "count 934\n",
      "count 935\n",
      "count 936\n",
      "count 937\n",
      "count 938\n",
      "count 939\n",
      "count 940\n",
      "count 941\n",
      "count 942\n",
      "count 943\n",
      "count 944\n",
      "count 945\n",
      "count 946\n",
      "count 947\n",
      "count 948\n",
      "count 949\n",
      "count 950\n",
      "count 951\n",
      "count 952\n",
      "count 953\n",
      "count 954\n",
      "count 955\n",
      "count 956\n",
      "count 957\n",
      "count 958\n",
      "count 959\n",
      "count 960\n",
      "count 961\n",
      "count 962\n",
      "count 963\n",
      "count 964\n",
      "count 965\n",
      "count 966\n",
      "count 967\n",
      "count 968\n",
      "count 969\n",
      "count 970\n",
      "count 971\n",
      "count 972\n",
      "count 973\n",
      "count 974\n",
      "count 975\n",
      "count 976\n",
      "count 977\n",
      "count 978\n",
      "count 979\n",
      "count 980\n",
      "count 981\n",
      "count 982\n",
      "count 983\n",
      "count 984\n",
      "count 985\n",
      "count 986\n",
      "count 987\n",
      "count 988\n",
      "count 989\n",
      "count 990\n",
      "count 991\n",
      "count 992\n",
      "count 993\n",
      "count 994\n",
      "count 995\n",
      "count 996\n",
      "count 997\n",
      "count 998\n",
      "count 999\n",
      "count 1000\n",
      "count 1001\n",
      "execution time:  14710.490057229996\n"
     ]
    }
   ],
   "source": [
    "# Extract info of interst\n",
    "start_time = time.time()\n",
    "batch4_initial = extract_info_of_interest(unique_company_profile_urls, batch_size = 1000, batch_start_index = 3001, sleep=5)\n",
    "end_time = time.time()\n",
    "execution_time = end_time - start_time\n",
    "print('execution time: ', execution_time)"
   ]
  },
  {
   "cell_type": "markdown",
   "id": "85375d44",
   "metadata": {},
   "source": [
    "### checkpoint-1"
   ]
  },
  {
   "cell_type": "code",
   "execution_count": 82,
   "id": "84dd0321",
   "metadata": {},
   "outputs": [
    {
     "name": "stdout",
     "output_type": "stream",
     "text": [
      "1001\n",
      "7\n"
     ]
    }
   ],
   "source": [
    "print(len(batch4_initial))\n",
    "print(len(batch4_initial[-1]))"
   ]
  },
  {
   "cell_type": "code",
   "execution_count": 83,
   "id": "4e22a55c",
   "metadata": {},
   "outputs": [
    {
     "name": "stdout",
     "output_type": "stream",
     "text": [
      "[['Rhomberg Schmuck AG', 'Detailhandel mit Uhren und Schmuck', 'http://www.schmuck.ch/', 'tel:071 310 15 80', 'NA', 'Zürcher-Strasse\\n9015 St. Gallen', 'https://www.google.com/maps/place/Z%C3%BCrcher-Strasse+9015+St.%20Gallen'], ['GanzImmo AG', 'Verwaltung von Grundstücken, Gebäuden und Wohnungen für Dritte', 'http://www.ganzimmo.ch/', 'tel:052 213 56 65', 'fax:052 213 31 74', 'Schaffhauserstrasse 79\\n8401 Winterthur', 'https://www.google.com/maps/place/Schaffhauserstrasse%2079+8401+Winterthur'], ['Coiffure Daniel Moll', 'Artikel im Shop', 'http://www.coiffeur-kriens.com/', 'tel:041 310 05 41', 'NA', 'Amlehnstrasse 54\\n6010 Kriens', 'https://www.google.com/maps/place/Amlehnstrasse%2054+6010+Kriens']]\n"
     ]
    }
   ],
   "source": [
    "print(batch4_initial[:3])"
   ]
  },
  {
   "cell_type": "code",
   "execution_count": 84,
   "id": "f55a4ff7",
   "metadata": {},
   "outputs": [
    {
     "name": "stdout",
     "output_type": "stream",
     "text": [
      "execution time:  994.2478754520416\n"
     ]
    }
   ],
   "source": [
    "# Extract emails\n",
    "start_time = time.time()\n",
    "pattern = r'\\b[A-Za-z0-9._%+-]+@[A-Za-z0-9.-]+\\.[A-Z|a-z]{2,}\\b'\n",
    "batch4 = extract_emails_from_websites(batch4_initial, pattern = pattern , index=2)\n",
    "end_time = time.time()\n",
    "execution_time = end_time - start_time\n",
    "print('execution time: ', execution_time)"
   ]
  },
  {
   "cell_type": "markdown",
   "id": "df3f06ce",
   "metadata": {},
   "source": [
    "### Checkpoint-2"
   ]
  },
  {
   "cell_type": "code",
   "execution_count": 85,
   "id": "2c0f4fb5",
   "metadata": {},
   "outputs": [
    {
     "name": "stdout",
     "output_type": "stream",
     "text": [
      "1001\n",
      "8\n",
      "[['Martin Stoller Transporte', 'Güterbeförderung im Strassenverkehr', 'NA', 'tel:031 741 24 15', 'NA', 'Weidstrasse 2\\n3184 Wünnewil', 'https://www.google.com/maps/place/Weidstrasse%202+3184+W%C3%BCnnewil', 'website does not exist'], ['Christoph Hasler Schreinerei', 'Schreinerarbeiten im Innenausbau', 'http://www.hasler-schreinerei.ch/', 'tel:071 917 11 55', 'fax:071 917 18 48', 'Käsereistrasse 1\\n9555 Tobel', 'https://www.google.com/maps/place/K%C3%A4sereistrasse%201+9555+Tobel', 'info@hasler-schreinerei.ch'], ['MoRailSo AG', 'Grosshandel mit sonstigen Maschinen und Ausrüstungen', 'https://www.ramorail.com/', 'tel:079 463 97 50', 'NA', 'Rothmatte 7\\n6022 Grosswangen', 'https://www.google.com/maps/place/Rothmatte%207+6022+Grosswangen', 'bad/broken link to website'], ['Elektro Schuler AG', 'Elektroinstallation', 'NA', 'tel:041 631 03 31', 'fax:041 631 03 32', 'Schulhausstrasse 4\\n6052 Hergiswil NW', 'https://www.google.com/maps/place/Schulhausstrasse%204+6052+Hergiswil%20NW', 'website does not exist'], ['Camping Lac des Brenets', 'Inserate', 'http://www.camping-brenets.ch/', 'tel:032 932 16 18', 'fax:032 932 16 39', '2416 Les Brenets', 'https://www.google.com/maps/place/undefined+2416+Les%20Brenets', 'info@camping-brenets.ch']]\n"
     ]
    }
   ],
   "source": [
    "print(len(batch4)) # should be same as batch_size i.e. 1000\n",
    "print(len(batch4[-1])) # should be 8\n",
    "print(batch4[-5:]) #should have 8 items in each list with emails or remarks added"
   ]
  },
  {
   "cell_type": "markdown",
   "id": "aa751d07",
   "metadata": {},
   "source": [
    "### End of Checkpoint-2"
   ]
  },
  {
   "cell_type": "code",
   "execution_count": 86,
   "id": "c6c1fec5",
   "metadata": {},
   "outputs": [],
   "source": [
    "# # Convert to Dataframe batch1\n",
    "df4 = pd.DataFrame(batch4, columns=columns)\n"
   ]
  },
  {
   "cell_type": "markdown",
   "id": "26b11ba0",
   "metadata": {},
   "source": [
    "### Checkpoint 3"
   ]
  },
  {
   "cell_type": "code",
   "execution_count": 87,
   "id": "33d4043a",
   "metadata": {},
   "outputs": [
    {
     "name": "stdout",
     "output_type": "stream",
     "text": [
      "<class 'pandas.core.frame.DataFrame'>\n",
      "RangeIndex: 1001 entries, 0 to 1000\n",
      "Data columns (total 8 columns):\n",
      " #   Column           Non-Null Count  Dtype \n",
      "---  ------           --------------  ----- \n",
      " 0   company_name     1001 non-null   object\n",
      " 1   industry         1001 non-null   object\n",
      " 2   website          1001 non-null   object\n",
      " 3   telephone        1001 non-null   object\n",
      " 4   fax              1001 non-null   object\n",
      " 5   address          1001 non-null   object\n",
      " 6   address_maplink  1001 non-null   object\n",
      " 7   email            1001 non-null   object\n",
      "dtypes: object(8)\n",
      "memory usage: 62.7+ KB\n"
     ]
    }
   ],
   "source": [
    "df4.info()"
   ]
  },
  {
   "cell_type": "code",
   "execution_count": 88,
   "id": "18c16bf9",
   "metadata": {},
   "outputs": [
    {
     "data": {
      "text/html": [
       "<div>\n",
       "<style scoped>\n",
       "    .dataframe tbody tr th:only-of-type {\n",
       "        vertical-align: middle;\n",
       "    }\n",
       "\n",
       "    .dataframe tbody tr th {\n",
       "        vertical-align: top;\n",
       "    }\n",
       "\n",
       "    .dataframe thead th {\n",
       "        text-align: right;\n",
       "    }\n",
       "</style>\n",
       "<table border=\"1\" class=\"dataframe\">\n",
       "  <thead>\n",
       "    <tr style=\"text-align: right;\">\n",
       "      <th></th>\n",
       "      <th>company_name</th>\n",
       "      <th>industry</th>\n",
       "      <th>website</th>\n",
       "      <th>telephone</th>\n",
       "      <th>fax</th>\n",
       "      <th>address</th>\n",
       "      <th>address_maplink</th>\n",
       "      <th>email</th>\n",
       "    </tr>\n",
       "  </thead>\n",
       "  <tbody>\n",
       "    <tr>\n",
       "      <th>0</th>\n",
       "      <td>Rhomberg Schmuck AG</td>\n",
       "      <td>Detailhandel mit Uhren und Schmuck</td>\n",
       "      <td>http://www.schmuck.ch/</td>\n",
       "      <td>tel:071 310 15 80</td>\n",
       "      <td>NA</td>\n",
       "      <td>Zürcher-Strasse\\n9015 St. Gallen</td>\n",
       "      <td>https://www.google.com/maps/place/Z%C3%BCrcher...</td>\n",
       "      <td>email not found on website</td>\n",
       "    </tr>\n",
       "    <tr>\n",
       "      <th>1</th>\n",
       "      <td>GanzImmo AG</td>\n",
       "      <td>Verwaltung von Grundstücken, Gebäuden und Wohn...</td>\n",
       "      <td>http://www.ganzimmo.ch/</td>\n",
       "      <td>tel:052 213 56 65</td>\n",
       "      <td>fax:052 213 31 74</td>\n",
       "      <td>Schaffhauserstrasse 79\\n8401 Winterthur</td>\n",
       "      <td>https://www.google.com/maps/place/Schaffhauser...</td>\n",
       "      <td>email not found on website</td>\n",
       "    </tr>\n",
       "    <tr>\n",
       "      <th>2</th>\n",
       "      <td>Coiffure Daniel Moll</td>\n",
       "      <td>Artikel im Shop</td>\n",
       "      <td>http://www.coiffeur-kriens.com/</td>\n",
       "      <td>tel:041 310 05 41</td>\n",
       "      <td>NA</td>\n",
       "      <td>Amlehnstrasse 54\\n6010 Kriens</td>\n",
       "      <td>https://www.google.com/maps/place/Amlehnstrass...</td>\n",
       "      <td>605a7baede844d278b89dc95ae0a9123@sentry-next.w...</td>\n",
       "    </tr>\n",
       "    <tr>\n",
       "      <th>3</th>\n",
       "      <td>Rondell AG</td>\n",
       "      <td>Kauf und Verkauf von eigenen Grundstücken, Geb...</td>\n",
       "      <td>NA</td>\n",
       "      <td>tel:041 320 53 73</td>\n",
       "      <td>NA</td>\n",
       "      <td>Weinhalde 12\\n6010 Kriens</td>\n",
       "      <td>https://www.google.com/maps/place/Weinhalde%20...</td>\n",
       "      <td>website does not exist</td>\n",
       "    </tr>\n",
       "    <tr>\n",
       "      <th>4</th>\n",
       "      <td>Rémy Bühler Malergeschäft Rothrist</td>\n",
       "      <td>Malerei</td>\n",
       "      <td>http://www.maler-buehler.ch/</td>\n",
       "      <td>tel:062 794 44 64</td>\n",
       "      <td>NA</td>\n",
       "      <td>Pfaffernweg 7\\n4852 Rothrist</td>\n",
       "      <td>https://www.google.com/maps/place/Pfaffernweg%...</td>\n",
       "      <td>cid_image001_png@01D443CD.png</td>\n",
       "    </tr>\n",
       "  </tbody>\n",
       "</table>\n",
       "</div>"
      ],
      "text/plain": [
       "                         company_name  \\\n",
       "0                 Rhomberg Schmuck AG   \n",
       "1                         GanzImmo AG   \n",
       "2                Coiffure Daniel Moll   \n",
       "3                          Rondell AG   \n",
       "4  Rémy Bühler Malergeschäft Rothrist   \n",
       "\n",
       "                                            industry  \\\n",
       "0                 Detailhandel mit Uhren und Schmuck   \n",
       "1  Verwaltung von Grundstücken, Gebäuden und Wohn...   \n",
       "2                                    Artikel im Shop   \n",
       "3  Kauf und Verkauf von eigenen Grundstücken, Geb...   \n",
       "4                                            Malerei   \n",
       "\n",
       "                           website          telephone                fax  \\\n",
       "0           http://www.schmuck.ch/  tel:071 310 15 80                 NA   \n",
       "1          http://www.ganzimmo.ch/  tel:052 213 56 65  fax:052 213 31 74   \n",
       "2  http://www.coiffeur-kriens.com/  tel:041 310 05 41                 NA   \n",
       "3                               NA  tel:041 320 53 73                 NA   \n",
       "4     http://www.maler-buehler.ch/  tel:062 794 44 64                 NA   \n",
       "\n",
       "                                   address  \\\n",
       "0         Zürcher-Strasse\\n9015 St. Gallen   \n",
       "1  Schaffhauserstrasse 79\\n8401 Winterthur   \n",
       "2            Amlehnstrasse 54\\n6010 Kriens   \n",
       "3                Weinhalde 12\\n6010 Kriens   \n",
       "4             Pfaffernweg 7\\n4852 Rothrist   \n",
       "\n",
       "                                     address_maplink  \\\n",
       "0  https://www.google.com/maps/place/Z%C3%BCrcher...   \n",
       "1  https://www.google.com/maps/place/Schaffhauser...   \n",
       "2  https://www.google.com/maps/place/Amlehnstrass...   \n",
       "3  https://www.google.com/maps/place/Weinhalde%20...   \n",
       "4  https://www.google.com/maps/place/Pfaffernweg%...   \n",
       "\n",
       "                                               email  \n",
       "0                         email not found on website  \n",
       "1                         email not found on website  \n",
       "2  605a7baede844d278b89dc95ae0a9123@sentry-next.w...  \n",
       "3                             website does not exist  \n",
       "4                      cid_image001_png@01D443CD.png  "
      ]
     },
     "execution_count": 88,
     "metadata": {},
     "output_type": "execute_result"
    }
   ],
   "source": [
    "df4.head()"
   ]
  },
  {
   "cell_type": "markdown",
   "id": "ec545ae5",
   "metadata": {},
   "source": [
    "### End of Checkpoint-3"
   ]
  },
  {
   "cell_type": "code",
   "execution_count": 90,
   "id": "8a338655",
   "metadata": {},
   "outputs": [],
   "source": [
    "#save as csv\n",
    "df4.to_csv('batch4', index = False)"
   ]
  },
  {
   "cell_type": "code",
   "execution_count": 91,
   "id": "1c20bd10",
   "metadata": {},
   "outputs": [],
   "source": [
    "# Merge the two dataframes\n",
    "df = pd.concat([df, df4])"
   ]
  },
  {
   "cell_type": "markdown",
   "id": "51fab55b",
   "metadata": {},
   "source": [
    "### Checkpoint-4"
   ]
  },
  {
   "cell_type": "code",
   "execution_count": 92,
   "id": "c838ae8a",
   "metadata": {},
   "outputs": [
    {
     "name": "stdout",
     "output_type": "stream",
     "text": [
      "<class 'pandas.core.frame.DataFrame'>\n",
      "Int64Index: 4004 entries, 0 to 1000\n",
      "Data columns (total 8 columns):\n",
      " #   Column           Non-Null Count  Dtype \n",
      "---  ------           --------------  ----- \n",
      " 0   company_name     4004 non-null   object\n",
      " 1   industry         4004 non-null   object\n",
      " 2   website          4004 non-null   object\n",
      " 3   telephone        4004 non-null   object\n",
      " 4   fax              4004 non-null   object\n",
      " 5   address          4004 non-null   object\n",
      " 6   address_maplink  4004 non-null   object\n",
      " 7   email            3975 non-null   object\n",
      "dtypes: object(8)\n",
      "memory usage: 281.5+ KB\n"
     ]
    }
   ],
   "source": [
    "df.info()"
   ]
  },
  {
   "cell_type": "code",
   "execution_count": 93,
   "id": "50c49fa9",
   "metadata": {},
   "outputs": [
    {
     "data": {
      "text/html": [
       "<div>\n",
       "<style scoped>\n",
       "    .dataframe tbody tr th:only-of-type {\n",
       "        vertical-align: middle;\n",
       "    }\n",
       "\n",
       "    .dataframe tbody tr th {\n",
       "        vertical-align: top;\n",
       "    }\n",
       "\n",
       "    .dataframe thead th {\n",
       "        text-align: right;\n",
       "    }\n",
       "</style>\n",
       "<table border=\"1\" class=\"dataframe\">\n",
       "  <thead>\n",
       "    <tr style=\"text-align: right;\">\n",
       "      <th></th>\n",
       "      <th>company_name</th>\n",
       "      <th>industry</th>\n",
       "      <th>website</th>\n",
       "      <th>telephone</th>\n",
       "      <th>fax</th>\n",
       "      <th>address</th>\n",
       "      <th>address_maplink</th>\n",
       "      <th>email</th>\n",
       "    </tr>\n",
       "  </thead>\n",
       "  <tbody>\n",
       "    <tr>\n",
       "      <th>0</th>\n",
       "      <td>Ringler + Strahm Storenbau AG</td>\n",
       "      <td>Sonstige Bauinstallation</td>\n",
       "      <td>http://www.ringler-strahm.ch/</td>\n",
       "      <td>tel:033 345 22 55</td>\n",
       "      <td>fax:033 345 55 19</td>\n",
       "      <td>Uetendorfstrasse 20\\n3634 Thierachern</td>\n",
       "      <td>https://www.google.com/maps/place/Uetendorfstr...</td>\n",
       "      <td>info@ringler-strahm.ch</td>\n",
       "    </tr>\n",
       "    <tr>\n",
       "      <th>1</th>\n",
       "      <td>Grob &amp; Partner Architektur AG</td>\n",
       "      <td>Architekturbüros</td>\n",
       "      <td>http://www.grobarchitektur.ch/</td>\n",
       "      <td>tel:081 720 02 00</td>\n",
       "      <td>fax:081 720 02 05</td>\n",
       "      <td>Bahnhofstrasse 3\\n7320 Sargans</td>\n",
       "      <td>https://www.google.com/maps/place/Bahnhofstras...</td>\n",
       "      <td>605a7baede844d278b89dc95ae0a9123@sentry-next.w...</td>\n",
       "    </tr>\n",
       "    <tr>\n",
       "      <th>2</th>\n",
       "      <td>Lauclair AG</td>\n",
       "      <td>Schreinerarbeiten im Innenausbau</td>\n",
       "      <td>http://www.lauclair.ch/</td>\n",
       "      <td>tel:031 879 01 69</td>\n",
       "      <td>fax:031 879 20 69</td>\n",
       "      <td>Lyssstrasse 27\\n3054 Schüpfen</td>\n",
       "      <td>https://www.google.com/maps/place/Lyssstrasse%...</td>\n",
       "      <td>a95fca1f1eb9fe8g2c9ead0cd9931e2a@2x.jpg</td>\n",
       "    </tr>\n",
       "    <tr>\n",
       "      <th>3</th>\n",
       "      <td>Club Goldwand</td>\n",
       "      <td>Kauf und Verkauf von eigenen Grundstücken, Geb...</td>\n",
       "      <td>http://www.clubgoldwand.ch/</td>\n",
       "      <td>tel:056 282 30 50</td>\n",
       "      <td>NA</td>\n",
       "      <td>Landstrasse 6\\n5415 Nussbaumen AG</td>\n",
       "      <td>https://www.google.com/maps/place/Landstrasse%...</td>\n",
       "      <td>info@clubgoldwand.ch</td>\n",
       "    </tr>\n",
       "    <tr>\n",
       "      <th>4</th>\n",
       "      <td>NICOLE DIEM Horgen</td>\n",
       "      <td>Detailhandel mit Brillen und anderen Sehhilfen</td>\n",
       "      <td>http://www.nicolediem.ch/</td>\n",
       "      <td>tel:044 770 10 40</td>\n",
       "      <td>NA</td>\n",
       "      <td>Dorfplatz 3\\n8810 Horgen</td>\n",
       "      <td>https://www.google.com/maps/place/Dorfplatz%20...</td>\n",
       "      <td>johndoe@domain.com</td>\n",
       "    </tr>\n",
       "  </tbody>\n",
       "</table>\n",
       "</div>"
      ],
      "text/plain": [
       "                    company_name  \\\n",
       "0  Ringler + Strahm Storenbau AG   \n",
       "1  Grob & Partner Architektur AG   \n",
       "2                    Lauclair AG   \n",
       "3                  Club Goldwand   \n",
       "4             NICOLE DIEM Horgen   \n",
       "\n",
       "                                            industry  \\\n",
       "0                           Sonstige Bauinstallation   \n",
       "1                                   Architekturbüros   \n",
       "2                   Schreinerarbeiten im Innenausbau   \n",
       "3  Kauf und Verkauf von eigenen Grundstücken, Geb...   \n",
       "4     Detailhandel mit Brillen und anderen Sehhilfen   \n",
       "\n",
       "                          website          telephone                fax  \\\n",
       "0   http://www.ringler-strahm.ch/  tel:033 345 22 55  fax:033 345 55 19   \n",
       "1  http://www.grobarchitektur.ch/  tel:081 720 02 00  fax:081 720 02 05   \n",
       "2         http://www.lauclair.ch/  tel:031 879 01 69  fax:031 879 20 69   \n",
       "3     http://www.clubgoldwand.ch/  tel:056 282 30 50                 NA   \n",
       "4       http://www.nicolediem.ch/  tel:044 770 10 40                 NA   \n",
       "\n",
       "                                 address  \\\n",
       "0  Uetendorfstrasse 20\\n3634 Thierachern   \n",
       "1         Bahnhofstrasse 3\\n7320 Sargans   \n",
       "2          Lyssstrasse 27\\n3054 Schüpfen   \n",
       "3      Landstrasse 6\\n5415 Nussbaumen AG   \n",
       "4               Dorfplatz 3\\n8810 Horgen   \n",
       "\n",
       "                                     address_maplink  \\\n",
       "0  https://www.google.com/maps/place/Uetendorfstr...   \n",
       "1  https://www.google.com/maps/place/Bahnhofstras...   \n",
       "2  https://www.google.com/maps/place/Lyssstrasse%...   \n",
       "3  https://www.google.com/maps/place/Landstrasse%...   \n",
       "4  https://www.google.com/maps/place/Dorfplatz%20...   \n",
       "\n",
       "                                               email  \n",
       "0                             info@ringler-strahm.ch  \n",
       "1  605a7baede844d278b89dc95ae0a9123@sentry-next.w...  \n",
       "2            a95fca1f1eb9fe8g2c9ead0cd9931e2a@2x.jpg  \n",
       "3                               info@clubgoldwand.ch  \n",
       "4                                 johndoe@domain.com  "
      ]
     },
     "execution_count": 93,
     "metadata": {},
     "output_type": "execute_result"
    }
   ],
   "source": [
    "df.head()"
   ]
  },
  {
   "cell_type": "code",
   "execution_count": 94,
   "id": "f24c58cc",
   "metadata": {},
   "outputs": [
    {
     "data": {
      "text/html": [
       "<div>\n",
       "<style scoped>\n",
       "    .dataframe tbody tr th:only-of-type {\n",
       "        vertical-align: middle;\n",
       "    }\n",
       "\n",
       "    .dataframe tbody tr th {\n",
       "        vertical-align: top;\n",
       "    }\n",
       "\n",
       "    .dataframe thead th {\n",
       "        text-align: right;\n",
       "    }\n",
       "</style>\n",
       "<table border=\"1\" class=\"dataframe\">\n",
       "  <thead>\n",
       "    <tr style=\"text-align: right;\">\n",
       "      <th></th>\n",
       "      <th>company_name</th>\n",
       "      <th>industry</th>\n",
       "      <th>website</th>\n",
       "      <th>telephone</th>\n",
       "      <th>fax</th>\n",
       "      <th>address</th>\n",
       "      <th>address_maplink</th>\n",
       "      <th>email</th>\n",
       "    </tr>\n",
       "  </thead>\n",
       "  <tbody>\n",
       "    <tr>\n",
       "      <th>996</th>\n",
       "      <td>Martin Stoller Transporte</td>\n",
       "      <td>Güterbeförderung im Strassenverkehr</td>\n",
       "      <td>NA</td>\n",
       "      <td>tel:031 741 24 15</td>\n",
       "      <td>NA</td>\n",
       "      <td>Weidstrasse 2\\n3184 Wünnewil</td>\n",
       "      <td>https://www.google.com/maps/place/Weidstrasse%...</td>\n",
       "      <td>website does not exist</td>\n",
       "    </tr>\n",
       "    <tr>\n",
       "      <th>997</th>\n",
       "      <td>Christoph Hasler Schreinerei</td>\n",
       "      <td>Schreinerarbeiten im Innenausbau</td>\n",
       "      <td>http://www.hasler-schreinerei.ch/</td>\n",
       "      <td>tel:071 917 11 55</td>\n",
       "      <td>fax:071 917 18 48</td>\n",
       "      <td>Käsereistrasse 1\\n9555 Tobel</td>\n",
       "      <td>https://www.google.com/maps/place/K%C3%A4serei...</td>\n",
       "      <td>info@hasler-schreinerei.ch</td>\n",
       "    </tr>\n",
       "    <tr>\n",
       "      <th>998</th>\n",
       "      <td>MoRailSo AG</td>\n",
       "      <td>Grosshandel mit sonstigen Maschinen und Ausrüs...</td>\n",
       "      <td>https://www.ramorail.com/</td>\n",
       "      <td>tel:079 463 97 50</td>\n",
       "      <td>NA</td>\n",
       "      <td>Rothmatte 7\\n6022 Grosswangen</td>\n",
       "      <td>https://www.google.com/maps/place/Rothmatte%20...</td>\n",
       "      <td>bad/broken link to website</td>\n",
       "    </tr>\n",
       "    <tr>\n",
       "      <th>999</th>\n",
       "      <td>Elektro Schuler AG</td>\n",
       "      <td>Elektroinstallation</td>\n",
       "      <td>NA</td>\n",
       "      <td>tel:041 631 03 31</td>\n",
       "      <td>fax:041 631 03 32</td>\n",
       "      <td>Schulhausstrasse 4\\n6052 Hergiswil NW</td>\n",
       "      <td>https://www.google.com/maps/place/Schulhausstr...</td>\n",
       "      <td>website does not exist</td>\n",
       "    </tr>\n",
       "    <tr>\n",
       "      <th>1000</th>\n",
       "      <td>Camping Lac des Brenets</td>\n",
       "      <td>Inserate</td>\n",
       "      <td>http://www.camping-brenets.ch/</td>\n",
       "      <td>tel:032 932 16 18</td>\n",
       "      <td>fax:032 932 16 39</td>\n",
       "      <td>2416 Les Brenets</td>\n",
       "      <td>https://www.google.com/maps/place/undefined+24...</td>\n",
       "      <td>info@camping-brenets.ch</td>\n",
       "    </tr>\n",
       "  </tbody>\n",
       "</table>\n",
       "</div>"
      ],
      "text/plain": [
       "                      company_name  \\\n",
       "996      Martin Stoller Transporte   \n",
       "997   Christoph Hasler Schreinerei   \n",
       "998                    MoRailSo AG   \n",
       "999             Elektro Schuler AG   \n",
       "1000       Camping Lac des Brenets   \n",
       "\n",
       "                                               industry  \\\n",
       "996                 Güterbeförderung im Strassenverkehr   \n",
       "997                    Schreinerarbeiten im Innenausbau   \n",
       "998   Grosshandel mit sonstigen Maschinen und Ausrüs...   \n",
       "999                                 Elektroinstallation   \n",
       "1000                                           Inserate   \n",
       "\n",
       "                                website          telephone                fax  \\\n",
       "996                                  NA  tel:031 741 24 15                 NA   \n",
       "997   http://www.hasler-schreinerei.ch/  tel:071 917 11 55  fax:071 917 18 48   \n",
       "998           https://www.ramorail.com/  tel:079 463 97 50                 NA   \n",
       "999                                  NA  tel:041 631 03 31  fax:041 631 03 32   \n",
       "1000     http://www.camping-brenets.ch/  tel:032 932 16 18  fax:032 932 16 39   \n",
       "\n",
       "                                    address  \\\n",
       "996            Weidstrasse 2\\n3184 Wünnewil   \n",
       "997            Käsereistrasse 1\\n9555 Tobel   \n",
       "998           Rothmatte 7\\n6022 Grosswangen   \n",
       "999   Schulhausstrasse 4\\n6052 Hergiswil NW   \n",
       "1000                       2416 Les Brenets   \n",
       "\n",
       "                                        address_maplink  \\\n",
       "996   https://www.google.com/maps/place/Weidstrasse%...   \n",
       "997   https://www.google.com/maps/place/K%C3%A4serei...   \n",
       "998   https://www.google.com/maps/place/Rothmatte%20...   \n",
       "999   https://www.google.com/maps/place/Schulhausstr...   \n",
       "1000  https://www.google.com/maps/place/undefined+24...   \n",
       "\n",
       "                           email  \n",
       "996       website does not exist  \n",
       "997   info@hasler-schreinerei.ch  \n",
       "998   bad/broken link to website  \n",
       "999       website does not exist  \n",
       "1000     info@camping-brenets.ch  "
      ]
     },
     "execution_count": 94,
     "metadata": {},
     "output_type": "execute_result"
    }
   ],
   "source": [
    "df.tail()"
   ]
  },
  {
   "cell_type": "code",
   "execution_count": null,
   "id": "0d5bc0b9",
   "metadata": {},
   "outputs": [],
   "source": [
    "df.size"
   ]
  },
  {
   "cell_type": "code",
   "execution_count": null,
   "id": "abc5b481",
   "metadata": {},
   "outputs": [],
   "source": [
    "df.head() == df1.head()"
   ]
  },
  {
   "cell_type": "code",
   "execution_count": null,
   "id": "a37c793d",
   "metadata": {},
   "outputs": [],
   "source": [
    "df.tail() == df4.tail()"
   ]
  },
  {
   "cell_type": "markdown",
   "id": "22ef755e",
   "metadata": {},
   "source": [
    "### xxxxxxxxxxxx Push to Github xxxxxxxxxxxxxx"
   ]
  },
  {
   "cell_type": "markdown",
   "id": "feba4811",
   "metadata": {},
   "source": [
    "### Batch-5, batch_size = 1000, batch_start_index = 4001\n"
   ]
  },
  {
   "cell_type": "code",
   "execution_count": null,
   "id": "4c3dfe65",
   "metadata": {},
   "outputs": [],
   "source": [
    "# Extract info of interst\n",
    "start_time = time.time()\n",
    "batch5_initial = extract_info_of_interest(unique_company_profile_urls, batch_size = 1000, batch_start_index = 4001, sleep=5)\n",
    "end_time = time.time()\n",
    "execution_time = end_time - start_time\n",
    "print('execution time: ', execution_time)"
   ]
  },
  {
   "cell_type": "markdown",
   "id": "8e6f3021",
   "metadata": {},
   "source": [
    "### checkpoint-1"
   ]
  },
  {
   "cell_type": "code",
   "execution_count": null,
   "id": "ac97102d",
   "metadata": {},
   "outputs": [],
   "source": [
    "print(len(batch5_initial))\n",
    "print(len(batch5_initial[-1]))"
   ]
  },
  {
   "cell_type": "code",
   "execution_count": null,
   "id": "85ff77f9",
   "metadata": {},
   "outputs": [],
   "source": [
    "print(batch5_initial[:3])"
   ]
  },
  {
   "cell_type": "markdown",
   "id": "835fc4be",
   "metadata": {},
   "source": [
    "### End of Checkpoint-1"
   ]
  },
  {
   "cell_type": "code",
   "execution_count": null,
   "id": "2a841f6e",
   "metadata": {},
   "outputs": [],
   "source": [
    "# Extract emails\n",
    "start_time = time.time()\n",
    "pattern = r'\\b[A-Za-z0-9._%+-]+@[A-Za-z0-9.-]+\\.[A-Z|a-z]{2,}\\b'\n",
    "batch5 = extract_emails_from_websites(batch5_initial, pattern = pattern , index=2)\n",
    "end_time = time.time()\n",
    "execution_time = end_time - start_time\n",
    "print('execution time: ', execution_time)"
   ]
  },
  {
   "cell_type": "markdown",
   "id": "c761a76b",
   "metadata": {},
   "source": [
    "### Checkpoint-2"
   ]
  },
  {
   "cell_type": "code",
   "execution_count": null,
   "id": "005c12d9",
   "metadata": {},
   "outputs": [],
   "source": [
    "print(len(batch5)) # should be same as batch_size i.e. 1000\n",
    "print(len(batch5[-1])) # should be 8\n",
    "print(batch5[-5:]) #should have 8 items in each list with emails or remarks added"
   ]
  },
  {
   "cell_type": "markdown",
   "id": "9e0fb672",
   "metadata": {},
   "source": [
    "### End of Checkpoint-2"
   ]
  },
  {
   "cell_type": "code",
   "execution_count": null,
   "id": "551481f4",
   "metadata": {},
   "outputs": [],
   "source": [
    "# # Convert to Dataframe batch1\n",
    "df5 = pd.DataFrame(batch5, columns=columns)\n"
   ]
  },
  {
   "cell_type": "code",
   "execution_count": null,
   "id": "3d76cc1e",
   "metadata": {},
   "outputs": [],
   "source": [
    "# # Convert to Dataframe batch1\n",
    "df5 = pd.DataFrame(batch5, columns=columns)\n"
   ]
  },
  {
   "cell_type": "markdown",
   "id": "a2eb946d",
   "metadata": {},
   "source": [
    "### Checkpoint 3"
   ]
  },
  {
   "cell_type": "code",
   "execution_count": null,
   "id": "5f10e3c0",
   "metadata": {},
   "outputs": [],
   "source": [
    "df5.info()"
   ]
  },
  {
   "cell_type": "code",
   "execution_count": null,
   "id": "8bd702a0",
   "metadata": {},
   "outputs": [],
   "source": [
    "df5.head()"
   ]
  },
  {
   "cell_type": "markdown",
   "id": "f2f08ac2",
   "metadata": {},
   "source": [
    "### End of Checkpoint-3"
   ]
  },
  {
   "cell_type": "code",
   "execution_count": null,
   "id": "52792692",
   "metadata": {},
   "outputs": [],
   "source": [
    "# save as csv\n",
    "pd.to_csv('batch5', index = False)"
   ]
  },
  {
   "cell_type": "code",
   "execution_count": null,
   "id": "3044c6dc",
   "metadata": {},
   "outputs": [],
   "source": [
    "#### Merge the two dataframes\n",
    "df = pd.concat([df, df5])"
   ]
  },
  {
   "cell_type": "markdown",
   "id": "9a8f595d",
   "metadata": {},
   "source": [
    "### Checkpoint-4"
   ]
  },
  {
   "cell_type": "code",
   "execution_count": null,
   "id": "9071b125",
   "metadata": {},
   "outputs": [],
   "source": [
    "df.info()"
   ]
  },
  {
   "cell_type": "code",
   "execution_count": null,
   "id": "85f07ba9",
   "metadata": {},
   "outputs": [],
   "source": [
    "df.head()"
   ]
  },
  {
   "cell_type": "code",
   "execution_count": null,
   "id": "741fcb93",
   "metadata": {},
   "outputs": [],
   "source": [
    "df.tail()"
   ]
  },
  {
   "cell_type": "code",
   "execution_count": null,
   "id": "8dbb8877",
   "metadata": {},
   "outputs": [],
   "source": [
    "df.head() == df1.head()"
   ]
  },
  {
   "cell_type": "code",
   "execution_count": null,
   "id": "b1fe7388",
   "metadata": {},
   "outputs": [],
   "source": [
    "df.tail() == df5.tail()"
   ]
  },
  {
   "cell_type": "markdown",
   "id": "bfbf4a53",
   "metadata": {},
   "source": [
    "### xxxxxxxxxxxx Push to Github xxxxxxxxxxxxxx"
   ]
  },
  {
   "cell_type": "markdown",
   "id": "2966e62d",
   "metadata": {},
   "source": [
    "### Batch-6, batch_size = 1000, batch_start_index = 5001\n"
   ]
  },
  {
   "cell_type": "code",
   "execution_count": null,
   "id": "56347eac",
   "metadata": {},
   "outputs": [],
   "source": [
    "# Extract info of interst\n",
    "start_time = time.time()\n",
    "batch6_initial = extract_info_of_interest(unique_company_profile_urls, batch_size = 1000, batch_start_index = 5001, sleep=5)\n",
    "end_time = time.time()\n",
    "execution_time = end_time - start_time\n",
    "print('execution time: ', execution_time)"
   ]
  },
  {
   "cell_type": "markdown",
   "id": "d7a6a949",
   "metadata": {},
   "source": [
    "### checkpoint-1"
   ]
  },
  {
   "cell_type": "code",
   "execution_count": null,
   "id": "eb73d859",
   "metadata": {},
   "outputs": [],
   "source": [
    "print(len(batch6_initial))\n",
    "print(len(batch6_initial[-1]))"
   ]
  },
  {
   "cell_type": "code",
   "execution_count": null,
   "id": "1b3cffe7",
   "metadata": {},
   "outputs": [],
   "source": [
    "print(batch6_initial[:3])"
   ]
  },
  {
   "cell_type": "markdown",
   "id": "86d3b971",
   "metadata": {},
   "source": [
    "### End of Checkpoint-1"
   ]
  },
  {
   "cell_type": "code",
   "execution_count": null,
   "id": "3d2ba683",
   "metadata": {},
   "outputs": [],
   "source": [
    "# Extract emails\n",
    "start_time = time.time()\n",
    "pattern = r'\\b[A-Za-z0-9._%+-]+@[A-Za-z0-9.-]+\\.[A-Z|a-z]{2,}\\b'\n",
    "batch6 = extract_emails_from_websites(batch6_initial, pattern = pattern , index=2)\n",
    "end_time = time.time()\n",
    "execution_time = end_time - start_time\n",
    "print('execution time: ', execution_time)"
   ]
  },
  {
   "cell_type": "markdown",
   "id": "c4375efb",
   "metadata": {},
   "source": [
    "### Checkpoint-2"
   ]
  },
  {
   "cell_type": "code",
   "execution_count": null,
   "id": "a5121b6e",
   "metadata": {},
   "outputs": [],
   "source": [
    "print(len(batch6)) # should be same as batch_size i.e. 1000\n",
    "print(len(batch6[-1])) # should be 8\n",
    "print(batch6[-5:]) #should have 8 items in each list with emails or remarks added"
   ]
  },
  {
   "cell_type": "markdown",
   "id": "e7ed4384",
   "metadata": {},
   "source": [
    "### End of Checkpoint-2"
   ]
  },
  {
   "cell_type": "code",
   "execution_count": null,
   "id": "eb7b5f11",
   "metadata": {},
   "outputs": [],
   "source": [
    "# # Convert to Dataframe batch1\n",
    "df6 = pd.DataFrame(batch6, columns=columns)\n"
   ]
  },
  {
   "cell_type": "code",
   "execution_count": null,
   "id": "165ff502",
   "metadata": {},
   "outputs": [],
   "source": [
    "# # Convert to Dataframe batch1\n",
    "df6 = pd.DataFrame(batch6, columns=columns)\n"
   ]
  },
  {
   "cell_type": "markdown",
   "id": "8ee73970",
   "metadata": {},
   "source": [
    "### Checkpoint-3"
   ]
  },
  {
   "cell_type": "code",
   "execution_count": null,
   "id": "a902534a",
   "metadata": {},
   "outputs": [],
   "source": [
    "df6.info()"
   ]
  },
  {
   "cell_type": "code",
   "execution_count": null,
   "id": "5f4c8a57",
   "metadata": {},
   "outputs": [],
   "source": [
    "# save as csv\n",
    "pd.to_csv('batch6', index = False)"
   ]
  },
  {
   "cell_type": "markdown",
   "id": "2e3fdefe",
   "metadata": {},
   "source": [
    "### End of Checkpoint-3"
   ]
  },
  {
   "cell_type": "code",
   "execution_count": null,
   "id": "7d2779b7",
   "metadata": {},
   "outputs": [],
   "source": [
    "#### Merge the two dataframes\n",
    "df = pd.concat([df, df6])"
   ]
  },
  {
   "cell_type": "code",
   "execution_count": null,
   "id": "87b39d10",
   "metadata": {},
   "outputs": [],
   "source": [
    "#### Merge the two dataframes\n",
    "df = pd.concat([df, df6])"
   ]
  },
  {
   "cell_type": "markdown",
   "id": "da0ed274",
   "metadata": {},
   "source": [
    "### Checkpoint-4"
   ]
  },
  {
   "cell_type": "code",
   "execution_count": null,
   "id": "2608cd0d",
   "metadata": {},
   "outputs": [],
   "source": [
    "df.info()"
   ]
  },
  {
   "cell_type": "code",
   "execution_count": null,
   "id": "6cbec0ce",
   "metadata": {},
   "outputs": [],
   "source": [
    "df.head()"
   ]
  },
  {
   "cell_type": "code",
   "execution_count": null,
   "id": "f6233f3d",
   "metadata": {},
   "outputs": [],
   "source": [
    "df.tail()"
   ]
  },
  {
   "cell_type": "code",
   "execution_count": null,
   "id": "746970e9",
   "metadata": {},
   "outputs": [],
   "source": [
    "df.head()==df1.head()"
   ]
  },
  {
   "cell_type": "code",
   "execution_count": null,
   "id": "e2090c73",
   "metadata": {},
   "outputs": [],
   "source": [
    "df.tail()==df6.tail()"
   ]
  },
  {
   "cell_type": "markdown",
   "id": "2076c1a4",
   "metadata": {},
   "source": [
    "### End of Checkpoint-4"
   ]
  },
  {
   "cell_type": "markdown",
   "id": "34179200",
   "metadata": {},
   "source": [
    "### xxxxxxxxxxxxxxxxxxxxx Push to Github xxxxxxxxxxxxxxxxxxxxxxxxxxxxxxx"
   ]
  },
  {
   "cell_type": "markdown",
   "id": "7f6ab1a3",
   "metadata": {},
   "source": [
    "### Batch-7, batch_size = 1000, batch_start_index = 6001\n"
   ]
  },
  {
   "cell_type": "code",
   "execution_count": null,
   "id": "3a1ae8ed",
   "metadata": {},
   "outputs": [],
   "source": [
    "# Extract info of interst\n",
    "start_time = time.time()\n",
    "batch7_initial = extract_info_of_interest(unique_company_profile_urls, batch_size = 1000, batch_start_index = 6001, sleep=5)\n",
    "end_time = time.time()\n",
    "execution_time = end_time - start_time\n",
    "print('execution time: ', execution_time)"
   ]
  },
  {
   "cell_type": "markdown",
   "id": "123612c6",
   "metadata": {},
   "source": [
    "### Checkpoint-1"
   ]
  },
  {
   "cell_type": "code",
   "execution_count": null,
   "id": "ed6b8d54",
   "metadata": {},
   "outputs": [],
   "source": [
    "print(len(batch7_initial))\n",
    "print(len(batch7_initial[-1]))"
   ]
  },
  {
   "cell_type": "code",
   "execution_count": null,
   "id": "9782d893",
   "metadata": {},
   "outputs": [],
   "source": [
    "print(batch7_initial[:3])"
   ]
  },
  {
   "cell_type": "markdown",
   "id": "26b10c18",
   "metadata": {},
   "source": [
    "### End of Checkpoint-1"
   ]
  },
  {
   "cell_type": "code",
   "execution_count": null,
   "id": "5ba5af16",
   "metadata": {},
   "outputs": [],
   "source": [
    "# Extract emails\n",
    "start_time = time.time()\n",
    "pattern = r'\\b[A-Za-z0-9._%+-]+@[A-Za-z0-9.-]+\\.[A-Z|a-z]{2,}\\b'\n",
    "batch7 = extract_emails_from_websites(batch7_initial, pattern = pattern , index=2)\n",
    "end_time = time.time()\n",
    "execution_time = end_time - start_time\n",
    "print('execution time: ', execution_time)"
   ]
  },
  {
   "cell_type": "markdown",
   "id": "8ca06445",
   "metadata": {},
   "source": [
    "### Checkpoint-2"
   ]
  },
  {
   "cell_type": "code",
   "execution_count": null,
   "id": "04e0369f",
   "metadata": {},
   "outputs": [],
   "source": [
    "print(len(batch7)) # should be same as batch_size i.e. 1000\n",
    "print(len(batch7[-1])) # should be 8\n",
    "print(batch7[-5:]) #should have 8 items in each list with emails or remarks added"
   ]
  },
  {
   "cell_type": "markdown",
   "id": "bfdcbfbc",
   "metadata": {},
   "source": [
    "### End of Checkpoint-2"
   ]
  },
  {
   "cell_type": "code",
   "execution_count": null,
   "id": "f3026927",
   "metadata": {},
   "outputs": [],
   "source": [
    "# # Convert to Dataframe batch7\n",
    "df7 = pd.DataFrame(batch7, columns=columns)\n"
   ]
  },
  {
   "cell_type": "markdown",
   "id": "0b4c0051",
   "metadata": {},
   "source": [
    "### Checkpoint-3"
   ]
  },
  {
   "cell_type": "code",
   "execution_count": null,
   "id": "cc6ad9f4",
   "metadata": {},
   "outputs": [],
   "source": [
    "df7.info()"
   ]
  },
  {
   "cell_type": "code",
   "execution_count": null,
   "id": "f4db8379",
   "metadata": {},
   "outputs": [],
   "source": [
    "# save as csv\n",
    "pd.to_csv('batch7', index = False)"
   ]
  },
  {
   "cell_type": "markdown",
   "id": "96dc7a86",
   "metadata": {},
   "source": [
    "### End of Checkpoint-3"
   ]
  },
  {
   "cell_type": "code",
   "execution_count": null,
   "id": "ebc032a7",
   "metadata": {},
   "outputs": [],
   "source": [
    "#### Merge the two dataframes\n",
    "df = pd.concat([df, df7])"
   ]
  },
  {
   "cell_type": "markdown",
   "id": "b595562e",
   "metadata": {},
   "source": [
    "### Checkpoint-4"
   ]
  },
  {
   "cell_type": "code",
   "execution_count": null,
   "id": "c98b727e",
   "metadata": {},
   "outputs": [],
   "source": [
    "df.info()"
   ]
  },
  {
   "cell_type": "code",
   "execution_count": null,
   "id": "1ad357a0",
   "metadata": {},
   "outputs": [],
   "source": [
    "df.head()"
   ]
  },
  {
   "cell_type": "code",
   "execution_count": null,
   "id": "6743a61d",
   "metadata": {},
   "outputs": [],
   "source": [
    "df.tail()"
   ]
  },
  {
   "cell_type": "code",
   "execution_count": null,
   "id": "a6a48435",
   "metadata": {},
   "outputs": [],
   "source": [
    "df.head()==df1.head()"
   ]
  },
  {
   "cell_type": "code",
   "execution_count": null,
   "id": "1a03de5f",
   "metadata": {},
   "outputs": [],
   "source": [
    "df.tail()==df7.tail()"
   ]
  },
  {
   "cell_type": "markdown",
   "id": "239547b4",
   "metadata": {},
   "source": [
    "### xxxxxxxxxxxxxxx Push to Github xxxxxxxxxxxxxxxxxxxx"
   ]
  },
  {
   "cell_type": "markdown",
   "id": "6ba36fc8",
   "metadata": {},
   "source": [
    "### Batch-8, batch_size = 1000, batch_start_index = 7001\n"
   ]
  },
  {
   "cell_type": "code",
   "execution_count": null,
   "id": "fa261c3e",
   "metadata": {},
   "outputs": [],
   "source": [
    "# Extract info of interst\n",
    "start_time = time.time()\n",
    "batch8_initial = extract_info_of_interest(unique_company_profile_urls, batch_size = 1000, batch_start_index = 7001, sleep=5)\n",
    "end_time = time.time()\n",
    "execution_time = end_time - start_time\n",
    "print('execution time: ', execution_time)"
   ]
  },
  {
   "cell_type": "markdown",
   "id": "05745a66",
   "metadata": {},
   "source": [
    "### Checkpoint-1"
   ]
  },
  {
   "cell_type": "code",
   "execution_count": null,
   "id": "d20e9f17",
   "metadata": {},
   "outputs": [],
   "source": [
    "print(len(batch8_initial))\n",
    "print(len(batch8_initial[-1]))"
   ]
  },
  {
   "cell_type": "code",
   "execution_count": null,
   "id": "c187202d",
   "metadata": {},
   "outputs": [],
   "source": [
    "print(batch8_initial[:3])"
   ]
  },
  {
   "cell_type": "markdown",
   "id": "e295c1bb",
   "metadata": {},
   "source": [
    "### End of Checkpoint-1"
   ]
  },
  {
   "cell_type": "code",
   "execution_count": null,
   "id": "565b2958",
   "metadata": {},
   "outputs": [],
   "source": [
    "# Extract emails\n",
    "start_time = time.time()\n",
    "pattern = r'\\b[A-Za-z0-9._%+-]+@[A-Za-z0-9.-]+\\.[A-Z|a-z]{2,}\\b'\n",
    "batch8 = extract_emails_from_websites(batch8_initial, pattern = pattern , index=2)\n",
    "end_time = time.time()\n",
    "execution_time = end_time - start_time\n",
    "print('execution time: ', execution_time)"
   ]
  },
  {
   "cell_type": "markdown",
   "id": "c0a02aeb",
   "metadata": {},
   "source": [
    "### Checkpoint-2"
   ]
  },
  {
   "cell_type": "code",
   "execution_count": null,
   "id": "a4b4714a",
   "metadata": {},
   "outputs": [],
   "source": [
    "print(len(batch8)) # should be same as batch_size i.e. 1000\n",
    "print(len(batch8[-1])) # should be 8\n",
    "print(batch8[-5:]) #should have 8 items in each list with emails or remarks added"
   ]
  },
  {
   "cell_type": "markdown",
   "id": "52248564",
   "metadata": {},
   "source": [
    "### End of Checkpoint-2"
   ]
  },
  {
   "cell_type": "code",
   "execution_count": null,
   "id": "faf95c3a",
   "metadata": {},
   "outputs": [],
   "source": [
    "# # Convert to Dataframe batch8\n",
    "df8 = pd.DataFrame(batch8, columns=columns)\n"
   ]
  },
  {
   "cell_type": "markdown",
   "id": "1061ebba",
   "metadata": {},
   "source": [
    "### Checkpoint-3"
   ]
  },
  {
   "cell_type": "code",
   "execution_count": null,
   "id": "bf4e0deb",
   "metadata": {},
   "outputs": [],
   "source": [
    "df8.info()"
   ]
  },
  {
   "cell_type": "code",
   "execution_count": null,
   "id": "e4949bf3",
   "metadata": {},
   "outputs": [],
   "source": [
    "# save as csv\n",
    "pd.to_csv('batch8', index = False)"
   ]
  },
  {
   "cell_type": "markdown",
   "id": "272d462f",
   "metadata": {},
   "source": [
    "### End of Checkpoint-3"
   ]
  },
  {
   "cell_type": "code",
   "execution_count": null,
   "id": "bb57b460",
   "metadata": {},
   "outputs": [],
   "source": [
    "#### Merge the two dataframes\n",
    "df = pd.concat([df, df8])"
   ]
  },
  {
   "cell_type": "markdown",
   "id": "99da49d5",
   "metadata": {},
   "source": [
    "### Checkpoint-4"
   ]
  },
  {
   "cell_type": "code",
   "execution_count": null,
   "id": "a16a2cfd",
   "metadata": {},
   "outputs": [],
   "source": [
    "df.info()"
   ]
  },
  {
   "cell_type": "code",
   "execution_count": null,
   "id": "6e423cd9",
   "metadata": {},
   "outputs": [],
   "source": [
    "df.head()"
   ]
  },
  {
   "cell_type": "code",
   "execution_count": null,
   "id": "7dec1f1b",
   "metadata": {},
   "outputs": [],
   "source": [
    "df.head() == df1.head()"
   ]
  },
  {
   "cell_type": "code",
   "execution_count": null,
   "id": "4f2bbb68",
   "metadata": {},
   "outputs": [],
   "source": [
    "df.tail() == df8.tail()"
   ]
  },
  {
   "cell_type": "markdown",
   "id": "75d41ed9",
   "metadata": {},
   "source": [
    "### End of Checkpoint-4"
   ]
  },
  {
   "cell_type": "markdown",
   "id": "ac7b83f1",
   "metadata": {},
   "source": [
    "### xxxxxxxxxxxxxxxxxxxxx Push to Github xxxxxxxxxxxxxxxxxxxxxxxxx"
   ]
  },
  {
   "cell_type": "markdown",
   "id": "43a72133",
   "metadata": {},
   "source": [
    "### Batch-9, batch_size = 1000, batch_start_index = 8001\n"
   ]
  },
  {
   "cell_type": "code",
   "execution_count": null,
   "id": "b7de2025",
   "metadata": {},
   "outputs": [],
   "source": [
    "# Extract info of interst\n",
    "start_time = time.time()\n",
    "batch9_initial = extract_info_of_interest(unique_company_profile_urls, batch_size = 1000, batch_start_index = 8001, sleep=5)\n",
    "end_time = time.time()\n",
    "execution_time = end_time - start_time\n",
    "print('execution time: ', execution_time)"
   ]
  },
  {
   "cell_type": "markdown",
   "id": "c66304ff",
   "metadata": {},
   "source": [
    "### Checkpoint-1"
   ]
  },
  {
   "cell_type": "code",
   "execution_count": null,
   "id": "cc81271e",
   "metadata": {},
   "outputs": [],
   "source": [
    "print(len(batch9_initial))\n",
    "print(len(batch9_initial[-1]))"
   ]
  },
  {
   "cell_type": "code",
   "execution_count": null,
   "id": "50fe7040",
   "metadata": {},
   "outputs": [],
   "source": [
    "print(batch9_initial[:3])"
   ]
  },
  {
   "cell_type": "markdown",
   "id": "fa136976",
   "metadata": {},
   "source": [
    "### End of Checkpoint-1"
   ]
  },
  {
   "cell_type": "code",
   "execution_count": null,
   "id": "464aad73",
   "metadata": {},
   "outputs": [],
   "source": [
    "# Extract emails\n",
    "start_time = time.time()\n",
    "pattern = r'\\b[A-Za-z0-9._%+-]+@[A-Za-z0-9.-]+\\.[A-Z|a-z]{2,}\\b'\n",
    "batch9 = extract_emails_from_websites(batch9_initial, pattern = pattern , index=2)\n",
    "end_time = time.time()\n",
    "execution_time = end_time - start_time\n",
    "print('execution time: ', execution_time)"
   ]
  },
  {
   "cell_type": "markdown",
   "id": "e9c58074",
   "metadata": {},
   "source": [
    "### Checkpoint-2"
   ]
  },
  {
   "cell_type": "code",
   "execution_count": null,
   "id": "34769ffe",
   "metadata": {},
   "outputs": [],
   "source": [
    "print(len(batch9)) # should be same as batch_size i.e. 1000\n",
    "print(len(batch9[-1])) # should be 8\n",
    "print(batch9[-5:]) #should have 8 items in each list with emails or remarks added"
   ]
  },
  {
   "cell_type": "markdown",
   "id": "7496ff33",
   "metadata": {},
   "source": [
    "### End of Checkpoint-2"
   ]
  },
  {
   "cell_type": "code",
   "execution_count": null,
   "id": "709522f0",
   "metadata": {},
   "outputs": [],
   "source": [
    "# # Convert to Dataframe batch9\n",
    "df9 = pd.DataFrame(batch9, columns=columns)\n"
   ]
  },
  {
   "cell_type": "markdown",
   "id": "3c8102c2",
   "metadata": {},
   "source": [
    "### Checkpoint-3"
   ]
  },
  {
   "cell_type": "code",
   "execution_count": null,
   "id": "25d0a85c",
   "metadata": {},
   "outputs": [],
   "source": [
    "df9.info()"
   ]
  },
  {
   "cell_type": "code",
   "execution_count": null,
   "id": "9752bbd9",
   "metadata": {},
   "outputs": [],
   "source": [
    "# save as csv\n",
    "pd.to_csv('batch9', index = False)"
   ]
  },
  {
   "cell_type": "markdown",
   "id": "53f5d4c2",
   "metadata": {},
   "source": [
    "### End of Checkpoint-3"
   ]
  },
  {
   "cell_type": "code",
   "execution_count": null,
   "id": "ed99538f",
   "metadata": {},
   "outputs": [],
   "source": [
    "#### Merge the two dataframes\n",
    "df = pd.concat([df, df9])"
   ]
  },
  {
   "cell_type": "markdown",
   "id": "c44e37ce",
   "metadata": {},
   "source": [
    "### Checkpoint-4"
   ]
  },
  {
   "cell_type": "code",
   "execution_count": null,
   "id": "73a66d9d",
   "metadata": {},
   "outputs": [],
   "source": [
    "df.info()"
   ]
  },
  {
   "cell_type": "code",
   "execution_count": null,
   "id": "bc80bb89",
   "metadata": {},
   "outputs": [],
   "source": [
    "df.head()"
   ]
  },
  {
   "cell_type": "code",
   "execution_count": null,
   "id": "d2a07488",
   "metadata": {},
   "outputs": [],
   "source": [
    "df.head() == df1.head()"
   ]
  },
  {
   "cell_type": "code",
   "execution_count": null,
   "id": "056717f2",
   "metadata": {},
   "outputs": [],
   "source": [
    "df.tail() == df9.tail()"
   ]
  },
  {
   "cell_type": "markdown",
   "id": "ad75dd2c",
   "metadata": {},
   "source": [
    "### End of Checkpoint-4"
   ]
  },
  {
   "cell_type": "markdown",
   "id": "57594f44",
   "metadata": {},
   "source": [
    "### xxxxxxxxxxxxxxxxxxxxxxxx Push to Github xxxxxxxxxxxxxxxxxxxxxxxxxxxxxxx"
   ]
  },
  {
   "cell_type": "markdown",
   "id": "91197da3",
   "metadata": {},
   "source": [
    "### Batch-10, batch_size = 1000, batch_start_index = 9001\n"
   ]
  },
  {
   "cell_type": "code",
   "execution_count": null,
   "id": "93972ae9",
   "metadata": {},
   "outputs": [],
   "source": [
    "# Extract info of interst\n",
    "start_time = time.time()\n",
    "batch10_initial = extract_info_of_interest(unique_company_profile_urls, batch_size = 1000, batch_start_index = 9001, sleep=5)\n",
    "end_time = time.time()\n",
    "execution_time = end_time - start_time\n",
    "print('execution time: ', execution_time)"
   ]
  },
  {
   "cell_type": "markdown",
   "id": "5594b941",
   "metadata": {},
   "source": [
    "### Checkpoint-1"
   ]
  },
  {
   "cell_type": "code",
   "execution_count": null,
   "id": "f4d3933e",
   "metadata": {},
   "outputs": [],
   "source": [
    "print(len(batch10_initial))\n",
    "print(len(batch10_initial[-1]))"
   ]
  },
  {
   "cell_type": "code",
   "execution_count": null,
   "id": "9c4367f9",
   "metadata": {},
   "outputs": [],
   "source": [
    "print(batch10_initial[:3])"
   ]
  },
  {
   "cell_type": "markdown",
   "id": "4fb5e8c9",
   "metadata": {},
   "source": [
    "### End of Checkpoint-1"
   ]
  },
  {
   "cell_type": "code",
   "execution_count": null,
   "id": "272b3a14",
   "metadata": {},
   "outputs": [],
   "source": [
    "# Extract emails\n",
    "start_time = time.time()\n",
    "pattern = r'\\b[A-Za-z0-9._%+-]+@[A-Za-z0-9.-]+\\.[A-Z|a-z]{2,}\\b'\n",
    "batch10 = extract_emails_from_websites(batch10_initial, pattern = pattern , index=2)\n",
    "end_time = time.time()\n",
    "execution_time = end_time - start_time\n",
    "print('execution time: ', execution_time)"
   ]
  },
  {
   "cell_type": "markdown",
   "id": "b7a47e41",
   "metadata": {},
   "source": [
    "### Checkpoint-2"
   ]
  },
  {
   "cell_type": "code",
   "execution_count": null,
   "id": "dda9116a",
   "metadata": {},
   "outputs": [],
   "source": [
    "print(len(batch10)) # should be same as batch_size i.e. 1000\n",
    "print(len(batch10[-1])) # should be 8\n",
    "print(batch10[-5:]) #should have 8 items in each list with emails or remarks added"
   ]
  },
  {
   "cell_type": "markdown",
   "id": "72913203",
   "metadata": {},
   "source": [
    "### End of Checkpoint-2"
   ]
  },
  {
   "cell_type": "code",
   "execution_count": null,
   "id": "35161040",
   "metadata": {},
   "outputs": [],
   "source": [
    "# # Convert to Dataframe batch10\n",
    "df10 = pd.DataFrame(batch10, columns=columns)\n"
   ]
  },
  {
   "cell_type": "markdown",
   "id": "29421f7c",
   "metadata": {},
   "source": [
    "### Checkpoint-3"
   ]
  },
  {
   "cell_type": "code",
   "execution_count": null,
   "id": "7eca43fb",
   "metadata": {},
   "outputs": [],
   "source": [
    "df10.info()"
   ]
  },
  {
   "cell_type": "code",
   "execution_count": null,
   "id": "7e85bbee",
   "metadata": {},
   "outputs": [],
   "source": [
    "# save as csv\n",
    "pd.to_csv('batch10', index = False)"
   ]
  },
  {
   "cell_type": "markdown",
   "id": "a00743f7",
   "metadata": {},
   "source": [
    "### End of Checkpoint-3"
   ]
  },
  {
   "cell_type": "code",
   "execution_count": null,
   "id": "45ab74fe",
   "metadata": {},
   "outputs": [],
   "source": [
    "#### Merge the two dataframes\n",
    "df = pd.concat([df, df10])"
   ]
  },
  {
   "cell_type": "markdown",
   "id": "9857ffac",
   "metadata": {},
   "source": [
    "### Checkpoint-4"
   ]
  },
  {
   "cell_type": "code",
   "execution_count": null,
   "id": "0ced35d5",
   "metadata": {},
   "outputs": [],
   "source": [
    "df.info()"
   ]
  },
  {
   "cell_type": "code",
   "execution_count": null,
   "id": "1448abc7",
   "metadata": {},
   "outputs": [],
   "source": [
    "df.head()"
   ]
  },
  {
   "cell_type": "code",
   "execution_count": null,
   "id": "78827d92",
   "metadata": {},
   "outputs": [],
   "source": [
    "df.tail()"
   ]
  },
  {
   "cell_type": "code",
   "execution_count": null,
   "id": "12206000",
   "metadata": {},
   "outputs": [],
   "source": [
    "df.head() == df1.head()"
   ]
  },
  {
   "cell_type": "code",
   "execution_count": null,
   "id": "a7263e0b",
   "metadata": {},
   "outputs": [],
   "source": [
    "df.tail() == df10.tail()"
   ]
  },
  {
   "cell_type": "markdown",
   "id": "47fd356c",
   "metadata": {},
   "source": [
    "### End of Checkpoint-4"
   ]
  },
  {
   "cell_type": "markdown",
   "id": "61534c30",
   "metadata": {},
   "source": [
    "### xxxxxxxxxxxxxxxxxxx Push to Github xxxxxxxxxxxxxxxxxxxxxxxx"
   ]
  },
  {
   "cell_type": "markdown",
   "id": "776ce037",
   "metadata": {},
   "source": [
    "### Batch-11, batch_size = 1000, batch_start_index = 10001\n"
   ]
  },
  {
   "cell_type": "code",
   "execution_count": null,
   "id": "354bbe9b",
   "metadata": {},
   "outputs": [],
   "source": [
    "# Extract info of interst\n",
    "start_time = time.time()\n",
    "batch11_initial = extract_info_of_interest(unique_company_profile_urls, batch_size = 1000, batch_start_index = 10001, sleep=5)\n",
    "end_time = time.time()\n",
    "execution_time = end_time - start_time\n",
    "print('execution time: ', execution_time)"
   ]
  },
  {
   "cell_type": "markdown",
   "id": "8e7c8a96",
   "metadata": {},
   "source": [
    "### Checkpoint-1"
   ]
  },
  {
   "cell_type": "code",
   "execution_count": null,
   "id": "2c25a3af",
   "metadata": {},
   "outputs": [],
   "source": [
    "print(len(batch11_initial))\n",
    "print(len(batch11_initial[-1]))"
   ]
  },
  {
   "cell_type": "code",
   "execution_count": null,
   "id": "4db7f263",
   "metadata": {},
   "outputs": [],
   "source": [
    "print(batch11_initial[:3])"
   ]
  },
  {
   "cell_type": "markdown",
   "id": "f59ad176",
   "metadata": {},
   "source": [
    "### End of Checkpoint-1"
   ]
  },
  {
   "cell_type": "code",
   "execution_count": null,
   "id": "f0b5cdc2",
   "metadata": {},
   "outputs": [],
   "source": [
    "# Extract emails\n",
    "start_time = time.time()\n",
    "pattern = r'\\b[A-Za-z0-9._%+-]+@[A-Za-z0-9.-]+\\.[A-Z|a-z]{2,}\\b'\n",
    "batch11 = extract_emails_from_websites(batch11_initial, pattern = pattern , index=2)\n",
    "end_time = time.time()\n",
    "execution_time = end_time - start_time\n",
    "print('execution time: ', execution_time)"
   ]
  },
  {
   "cell_type": "markdown",
   "id": "2d031a90",
   "metadata": {},
   "source": [
    "### Checkpoint-2"
   ]
  },
  {
   "cell_type": "code",
   "execution_count": null,
   "id": "5dd450bc",
   "metadata": {},
   "outputs": [],
   "source": [
    "print(len(batch11)) # should be same as batch_size i.e. 1000\n",
    "print(len(batch11[-1])) # should be 8\n",
    "print(batch11[-5:]) #should have 8 items in each list with emails or remarks added"
   ]
  },
  {
   "cell_type": "markdown",
   "id": "61cc8a03",
   "metadata": {},
   "source": [
    "### End of Checkpoint-2"
   ]
  },
  {
   "cell_type": "code",
   "execution_count": null,
   "id": "82ca4dce",
   "metadata": {},
   "outputs": [],
   "source": [
    "# # Convert to Dataframe batch11\n",
    "df11 = pd.DataFrame(batch11, columns=columns)\n"
   ]
  },
  {
   "cell_type": "markdown",
   "id": "18b75ce2",
   "metadata": {},
   "source": [
    "### Checkpoint-3"
   ]
  },
  {
   "cell_type": "code",
   "execution_count": null,
   "id": "4c09ef93",
   "metadata": {},
   "outputs": [],
   "source": [
    "df11.info()"
   ]
  },
  {
   "cell_type": "code",
   "execution_count": null,
   "id": "8bb6ece9",
   "metadata": {},
   "outputs": [],
   "source": [
    "# save as csv\n",
    "pd.to_csv('batch11', index = False)"
   ]
  },
  {
   "cell_type": "markdown",
   "id": "1a96a4a8",
   "metadata": {},
   "source": [
    "### End of Checkpoint-3"
   ]
  },
  {
   "cell_type": "code",
   "execution_count": null,
   "id": "d274f3a8",
   "metadata": {},
   "outputs": [],
   "source": [
    "#### Merge the two dataframes\n",
    "df = pd.concat([df, df11])"
   ]
  },
  {
   "cell_type": "markdown",
   "id": "e1414b8a",
   "metadata": {},
   "source": [
    "### Checkpoint-4"
   ]
  },
  {
   "cell_type": "code",
   "execution_count": null,
   "id": "ff9246af",
   "metadata": {},
   "outputs": [],
   "source": [
    "df.info()"
   ]
  },
  {
   "cell_type": "code",
   "execution_count": null,
   "id": "336437c7",
   "metadata": {},
   "outputs": [],
   "source": [
    "df.head()"
   ]
  },
  {
   "cell_type": "code",
   "execution_count": null,
   "id": "9ed4f047",
   "metadata": {},
   "outputs": [],
   "source": [
    "df.tail()"
   ]
  },
  {
   "cell_type": "code",
   "execution_count": null,
   "id": "4aa6b922",
   "metadata": {},
   "outputs": [],
   "source": [
    "df.head() == df1.head()"
   ]
  },
  {
   "cell_type": "code",
   "execution_count": null,
   "id": "16b9de32",
   "metadata": {},
   "outputs": [],
   "source": [
    "df.tail() == df11.tail()"
   ]
  },
  {
   "cell_type": "markdown",
   "id": "a01c781e",
   "metadata": {},
   "source": [
    "### End of Checkpoint-4"
   ]
  },
  {
   "cell_type": "markdown",
   "id": "efd8c93f",
   "metadata": {},
   "source": [
    "### xxxxxxxxxxxxxxxxxxxxxxxx Push to Github xxxxxxxxxxxxxxxxxxxxxxxxx"
   ]
  },
  {
   "cell_type": "markdown",
   "id": "91317f33",
   "metadata": {},
   "source": [
    "### Batch-12, batch_size = 1000, batch_start_index = 11001\n"
   ]
  },
  {
   "cell_type": "code",
   "execution_count": null,
   "id": "57a01ecf",
   "metadata": {},
   "outputs": [],
   "source": [
    "# Extract info of interst\n",
    "start_time = time.time()\n",
    "batch12_initial = extract_info_of_interest(unique_company_profile_urls, batch_size = 1000, batch_start_index = 11001, sleep=5)\n",
    "end_time = time.time()\n",
    "execution_time = end_time - start_time\n",
    "print('execution time: ', execution_time)"
   ]
  },
  {
   "cell_type": "markdown",
   "id": "2810f572",
   "metadata": {},
   "source": [
    "### Checkpoint-1"
   ]
  },
  {
   "cell_type": "code",
   "execution_count": null,
   "id": "2e70825f",
   "metadata": {},
   "outputs": [],
   "source": [
    "print(len(batch12_initial))\n",
    "print(len(batch12_initial[-1]))"
   ]
  },
  {
   "cell_type": "code",
   "execution_count": null,
   "id": "29a0dd80",
   "metadata": {},
   "outputs": [],
   "source": [
    "print(batch12_initial[:3])"
   ]
  },
  {
   "cell_type": "markdown",
   "id": "24122060",
   "metadata": {},
   "source": [
    "### End of Checkpoint-1"
   ]
  },
  {
   "cell_type": "code",
   "execution_count": null,
   "id": "dd8c581a",
   "metadata": {},
   "outputs": [],
   "source": [
    "# Extract emails\n",
    "start_time = time.time()\n",
    "pattern = r'\\b[A-Za-z0-9._%+-]+@[A-Za-z0-9.-]+\\.[A-Z|a-z]{2,}\\b'\n",
    "batch12 = extract_emails_from_websites(batch12_initial, pattern = pattern , index=2)\n",
    "end_time = time.time()\n",
    "execution_time = end_time - start_time\n",
    "print('execution time: ', execution_time)"
   ]
  },
  {
   "cell_type": "markdown",
   "id": "c9005d93",
   "metadata": {},
   "source": [
    "### Checkpoint-2"
   ]
  },
  {
   "cell_type": "code",
   "execution_count": null,
   "id": "0321b224",
   "metadata": {},
   "outputs": [],
   "source": [
    "print(len(batch12)) # should be same as batch_size i.e. 1000\n",
    "print(len(batch12[-1])) # should be 8\n",
    "print(batch12[-5:]) #should have 8 items in each list with emails or remarks added"
   ]
  },
  {
   "cell_type": "markdown",
   "id": "722ea01e",
   "metadata": {},
   "source": [
    "### End of Checkpoint-2"
   ]
  },
  {
   "cell_type": "code",
   "execution_count": null,
   "id": "a568c299",
   "metadata": {},
   "outputs": [],
   "source": [
    "# # Convert to Dataframe batch11\n",
    "df12 = pd.DataFrame(batch12, columns=columns)\n"
   ]
  },
  {
   "cell_type": "markdown",
   "id": "f07a157b",
   "metadata": {},
   "source": [
    "### Checkpoint-3"
   ]
  },
  {
   "cell_type": "code",
   "execution_count": null,
   "id": "3fca768b",
   "metadata": {},
   "outputs": [],
   "source": [
    "df12.info()"
   ]
  },
  {
   "cell_type": "code",
   "execution_count": null,
   "id": "58396a64",
   "metadata": {},
   "outputs": [],
   "source": [
    "# save as csv\n",
    "pd.to_csv('batch12', index = False)"
   ]
  },
  {
   "cell_type": "markdown",
   "id": "04297cc3",
   "metadata": {},
   "source": [
    "### End of Checkpoint-3"
   ]
  },
  {
   "cell_type": "code",
   "execution_count": null,
   "id": "ca588401",
   "metadata": {},
   "outputs": [],
   "source": [
    "#### Merge the two dataframes\n",
    "df = pd.concat([df, df12])"
   ]
  },
  {
   "cell_type": "markdown",
   "id": "293d66ce",
   "metadata": {},
   "source": [
    "### Checkpoint-4"
   ]
  },
  {
   "cell_type": "code",
   "execution_count": null,
   "id": "e14a6d04",
   "metadata": {},
   "outputs": [],
   "source": [
    "df.info()"
   ]
  },
  {
   "cell_type": "code",
   "execution_count": null,
   "id": "916ab7d3",
   "metadata": {},
   "outputs": [],
   "source": [
    "df.head()"
   ]
  },
  {
   "cell_type": "code",
   "execution_count": null,
   "id": "82dc8794",
   "metadata": {},
   "outputs": [],
   "source": [
    "df.tail()"
   ]
  },
  {
   "cell_type": "code",
   "execution_count": null,
   "id": "ea704156",
   "metadata": {},
   "outputs": [],
   "source": [
    "df.head() == df1.head()"
   ]
  },
  {
   "cell_type": "code",
   "execution_count": null,
   "id": "297366f6",
   "metadata": {},
   "outputs": [],
   "source": [
    "df.tail() == df12.tail()"
   ]
  },
  {
   "cell_type": "markdown",
   "id": "2bd0eb59",
   "metadata": {},
   "source": [
    "### End of Checkpoint-4"
   ]
  },
  {
   "cell_type": "markdown",
   "id": "a91d172d",
   "metadata": {},
   "source": [
    "### xxxxxxxxxxxxxxxxxxxxxxx Push to Github xxxxxxxxxxxxxxxxxxxxxxxx"
   ]
  },
  {
   "cell_type": "markdown",
   "id": "eb66d726",
   "metadata": {},
   "source": [
    "### Batch-13, batch_size = 1000, batch_start_index = 12001\n"
   ]
  },
  {
   "cell_type": "code",
   "execution_count": null,
   "id": "11dbb2e7",
   "metadata": {},
   "outputs": [],
   "source": [
    "# Extract info of interst\n",
    "start_time = time.time()\n",
    "batch13_initial = extract_info_of_interest(unique_company_profile_urls, batch_size = 1000, batch_start_index = 12001, sleep=5)\n",
    "end_time = time.time()\n",
    "execution_time = end_time - start_time\n",
    "print('execution time: ', execution_time)"
   ]
  },
  {
   "cell_type": "markdown",
   "id": "da74bf4a",
   "metadata": {},
   "source": [
    "### Checkpoint-1"
   ]
  },
  {
   "cell_type": "code",
   "execution_count": null,
   "id": "708e5510",
   "metadata": {},
   "outputs": [],
   "source": [
    "print(len(batch13_initial))\n",
    "print(len(batch13_initial[-1]))"
   ]
  },
  {
   "cell_type": "code",
   "execution_count": null,
   "id": "f43bff47",
   "metadata": {},
   "outputs": [],
   "source": [
    "print(batch13_initial[:3])"
   ]
  },
  {
   "cell_type": "markdown",
   "id": "04f1f9c1",
   "metadata": {},
   "source": [
    "### End of Checkpoint-1"
   ]
  },
  {
   "cell_type": "code",
   "execution_count": null,
   "id": "89f73016",
   "metadata": {},
   "outputs": [],
   "source": [
    "# Extract emails\n",
    "start_time = time.time()\n",
    "pattern = r'\\b[A-Za-z0-9._%+-]+@[A-Za-z0-9.-]+\\.[A-Z|a-z]{2,}\\b'\n",
    "batch13 = extract_emails_from_websites(batch13_initial, pattern = pattern , index=2)\n",
    "end_time = time.time()\n",
    "execution_time = end_time - start_time\n",
    "print('execution time: ', execution_time)"
   ]
  },
  {
   "cell_type": "markdown",
   "id": "21bd6be6",
   "metadata": {},
   "source": [
    "### Checkpoint-2"
   ]
  },
  {
   "cell_type": "code",
   "execution_count": null,
   "id": "1a5a2106",
   "metadata": {},
   "outputs": [],
   "source": [
    "print(len(batch13)) # should be same as batch_size i.e. 1000\n",
    "print(len(batch13[-1])) # should be 8\n",
    "print(batch13[-5:]) #should have 8 items in each list with emails or remarks added"
   ]
  },
  {
   "cell_type": "markdown",
   "id": "93c03e4d",
   "metadata": {},
   "source": [
    "### End of Checkpoint-2"
   ]
  },
  {
   "cell_type": "code",
   "execution_count": null,
   "id": "45d6e48f",
   "metadata": {},
   "outputs": [],
   "source": [
    "# # Convert to Dataframe batch11\n",
    "df13 = pd.DataFrame(batch13, columns=columns)\n"
   ]
  },
  {
   "cell_type": "markdown",
   "id": "f5c0fa38",
   "metadata": {},
   "source": [
    "### Checkpoint-3"
   ]
  },
  {
   "cell_type": "code",
   "execution_count": null,
   "id": "a873da63",
   "metadata": {},
   "outputs": [],
   "source": [
    "df13.info()"
   ]
  },
  {
   "cell_type": "code",
   "execution_count": null,
   "id": "40f94340",
   "metadata": {},
   "outputs": [],
   "source": [
    "# save as csv\n",
    "pd.to_csv('batch13', index = False)"
   ]
  },
  {
   "cell_type": "markdown",
   "id": "2d74f6b6",
   "metadata": {},
   "source": [
    "### End of Checkpoint-3"
   ]
  },
  {
   "cell_type": "code",
   "execution_count": null,
   "id": "3bd4c771",
   "metadata": {},
   "outputs": [],
   "source": [
    "#### Merge the two dataframes\n",
    "df = pd.concat([df, df13])"
   ]
  },
  {
   "cell_type": "markdown",
   "id": "564b6ff2",
   "metadata": {},
   "source": [
    "### Checkpoint-4"
   ]
  },
  {
   "cell_type": "code",
   "execution_count": null,
   "id": "c7a14c0c",
   "metadata": {},
   "outputs": [],
   "source": [
    "df.info()"
   ]
  },
  {
   "cell_type": "code",
   "execution_count": null,
   "id": "a6b5936c",
   "metadata": {},
   "outputs": [],
   "source": [
    "df.head()"
   ]
  },
  {
   "cell_type": "code",
   "execution_count": null,
   "id": "ff278f1b",
   "metadata": {},
   "outputs": [],
   "source": [
    "df.tail()"
   ]
  },
  {
   "cell_type": "code",
   "execution_count": null,
   "id": "6b97ea4a",
   "metadata": {},
   "outputs": [],
   "source": [
    "df.head() == df1.head()"
   ]
  },
  {
   "cell_type": "code",
   "execution_count": null,
   "id": "bd31a371",
   "metadata": {},
   "outputs": [],
   "source": [
    "df.tail() == df13.tail()"
   ]
  },
  {
   "cell_type": "markdown",
   "id": "ce7b3fd1",
   "metadata": {},
   "source": [
    "### End of Checkpoint-4"
   ]
  },
  {
   "cell_type": "markdown",
   "id": "c271aef7",
   "metadata": {},
   "source": [
    "### xxxxxxxxxxxxxxxxxxxxxxxxx Push to Github xxxxxxxxxxxxxxxxxxxxxx"
   ]
  },
  {
   "cell_type": "markdown",
   "id": "6b171ffb",
   "metadata": {},
   "source": [
    "### Batch-14, batch_size = 1227, batch_start_index = 13001\n"
   ]
  },
  {
   "cell_type": "code",
   "execution_count": null,
   "id": "deba2c90",
   "metadata": {},
   "outputs": [],
   "source": [
    "# Extract info of interst\n",
    "start_time = time.time()\n",
    "batch14_initial = extract_info_of_interest(unique_company_profile_urls, batch_size = 1227, batch_start_index = 13001, sleep=5)\n",
    "end_time = time.time()\n",
    "execution_time = end_time - start_time\n",
    "print('execution time: ', execution_time)"
   ]
  },
  {
   "cell_type": "markdown",
   "id": "c1ba8872",
   "metadata": {},
   "source": [
    "### Checkpoint-1"
   ]
  },
  {
   "cell_type": "code",
   "execution_count": null,
   "id": "27c13b21",
   "metadata": {},
   "outputs": [],
   "source": [
    "print(len(batch14_initial))\n",
    "print(len(batch14_initial[-1]))"
   ]
  },
  {
   "cell_type": "code",
   "execution_count": null,
   "id": "1ab8bec7",
   "metadata": {},
   "outputs": [],
   "source": [
    "print(batch14_initial[:3])"
   ]
  },
  {
   "cell_type": "markdown",
   "id": "bbc281ae",
   "metadata": {},
   "source": [
    "### End of Checkpoint-1"
   ]
  },
  {
   "cell_type": "code",
   "execution_count": null,
   "id": "193b405c",
   "metadata": {},
   "outputs": [],
   "source": [
    "# Extract emails\n",
    "start_time = time.time()\n",
    "pattern = r'\\b[A-Za-z0-9._%+-]+@[A-Za-z0-9.-]+\\.[A-Z|a-z]{2,}\\b'\n",
    "batch14 = extract_emails_from_websites(batch14_initial, pattern = pattern , index=2)\n",
    "end_time = time.time()\n",
    "execution_time = end_time - start_time\n",
    "print('execution time: ', execution_time)"
   ]
  },
  {
   "cell_type": "markdown",
   "id": "767c1ea7",
   "metadata": {},
   "source": [
    "### Checkpoint-2"
   ]
  },
  {
   "cell_type": "code",
   "execution_count": null,
   "id": "1ec7cc12",
   "metadata": {},
   "outputs": [],
   "source": [
    "print(len(batch14)) # should be same as batch_size i.e. 1000\n",
    "print(len(batch14[-1])) # should be 8\n",
    "print(batch14[-5:]) #should have 8 items in each list with emails or remarks added"
   ]
  },
  {
   "cell_type": "markdown",
   "id": "8e81d85f",
   "metadata": {},
   "source": [
    "### End of Checkpoint-2"
   ]
  },
  {
   "cell_type": "code",
   "execution_count": null,
   "id": "0b9e870d",
   "metadata": {},
   "outputs": [],
   "source": [
    "# # Convert to Dataframe batch11\n",
    "df14 = pd.DataFrame(batch14, columns=columns)\n"
   ]
  },
  {
   "cell_type": "markdown",
   "id": "a6844941",
   "metadata": {},
   "source": [
    "### Checkpoint-3"
   ]
  },
  {
   "cell_type": "code",
   "execution_count": null,
   "id": "1bfeac7a",
   "metadata": {},
   "outputs": [],
   "source": [
    "df14.info()"
   ]
  },
  {
   "cell_type": "code",
   "execution_count": null,
   "id": "1c596e7e",
   "metadata": {},
   "outputs": [],
   "source": [
    "# save as csv\n",
    "pd.to_csv('batch14', index = False)"
   ]
  },
  {
   "cell_type": "markdown",
   "id": "1f844d0e",
   "metadata": {},
   "source": [
    "### End of Checkpoint-3"
   ]
  },
  {
   "cell_type": "code",
   "execution_count": null,
   "id": "a7dea8d6",
   "metadata": {},
   "outputs": [],
   "source": [
    "#### Merge the two dataframes\n",
    "df = pd.concat([df, df14])"
   ]
  },
  {
   "cell_type": "markdown",
   "id": "f3424467",
   "metadata": {},
   "source": [
    "### Checkpoing-4"
   ]
  },
  {
   "cell_type": "code",
   "execution_count": null,
   "id": "44634589",
   "metadata": {},
   "outputs": [],
   "source": [
    "df.info()"
   ]
  },
  {
   "cell_type": "code",
   "execution_count": null,
   "id": "75881a37",
   "metadata": {},
   "outputs": [],
   "source": [
    "df.head()"
   ]
  },
  {
   "cell_type": "code",
   "execution_count": null,
   "id": "23a2da38",
   "metadata": {},
   "outputs": [],
   "source": [
    "df.tail()"
   ]
  },
  {
   "cell_type": "code",
   "execution_count": null,
   "id": "6c16ab2a",
   "metadata": {},
   "outputs": [],
   "source": [
    "df.head() == df1.head()"
   ]
  },
  {
   "cell_type": "code",
   "execution_count": null,
   "id": "cd9aaebf",
   "metadata": {},
   "outputs": [],
   "source": [
    "df.tail() == df14.tail()"
   ]
  },
  {
   "cell_type": "markdown",
   "id": "280549fe",
   "metadata": {},
   "source": [
    "### End of Checkpoint-4"
   ]
  },
  {
   "cell_type": "markdown",
   "id": "f3603859",
   "metadata": {},
   "source": [
    "### xxxxxxxxxxxxxxxxxxxxxx Push to Github xxxxxxxxxxxxxxxxxxxxxxxxx"
   ]
  },
  {
   "cell_type": "code",
   "execution_count": null,
   "id": "0d69413c",
   "metadata": {},
   "outputs": [],
   "source": []
  }
 ],
 "metadata": {
  "kernelspec": {
   "display_name": "Python 3 (ipykernel)",
   "language": "python",
   "name": "python3"
  },
  "language_info": {
   "codemirror_mode": {
    "name": "ipython",
    "version": 3
   },
   "file_extension": ".py",
   "mimetype": "text/x-python",
   "name": "python",
   "nbconvert_exporter": "python",
   "pygments_lexer": "ipython3",
   "version": "3.10.9"
  }
 },
 "nbformat": 4,
 "nbformat_minor": 5
}
