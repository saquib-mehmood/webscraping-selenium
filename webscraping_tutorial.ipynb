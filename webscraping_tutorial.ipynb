{
 "cells": [
  {
   "cell_type": "markdown",
   "id": "0506d5c6",
   "metadata": {},
   "source": [
    "# Webscraping Tutorial"
   ]
  },
  {
   "cell_type": "markdown",
   "id": "fe0892f0",
   "metadata": {},
   "source": [
    "This tutorial explains how to use the accompanying program for webscraping. It may be mentioned that the program addresses the specific use-case of the customer, but with little modification it may be used universally. Any assistance and support required for other use cases can be provided. "
   ]
  },
  {
   "cell_type": "markdown",
   "id": "67e9c6ac",
   "metadata": {},
   "source": [
    "## Technology\n",
    "Most webscraping strategies involve using some webscraping library or module available in different programming languages. In Python Beautiful Soup and Scrappy are the popular and favored libraries. However, this specific use case presents a problem which cannot be resolved by ordinary means as the website to be scrapped is managed by \"Google Tag Manager\" and hence the html is not visible.\n",
    "We have used \"Selenium\" in order to take control of the browser to reveal the htmal elements and retreive necessary information.\n",
    "Selenium is a very powerful tool as it can fully control and drive the browser. However, it has some specific limitations and intermittance issues which make working with it quite difficult. One of the issues is that it has to wait for the page to be fully loaded before acquiring the complete information, and this can be a particular problem if internet speeds are slow. That is why it takes somewhat longer to scrape with Selenium but on the other hand it can penetrate the sites sitting behind login and passwords and tag management systems thus giving it a unique power.\n",
    "We have used Selenium's Python bindings to address this specific use case."
   ]
  },
  {
   "cell_type": "markdown",
   "id": "fca4bac5",
   "metadata": {},
   "source": [
    "## Installation\n",
    "A number of Python libraries are required to be installed prior to using this software. We have made the program available in a Jupyter notebook which is one of the most popular methods of executing Python code and provides the flexibility to immediately see the results of running the Python code. It is an intermediate solution between a code editor and a full-fledged web application.\n",
    "\n",
    "Selenium controls the browser through its web driver which communicates with a browser driverwhich is required to be installed on the system. We are using a chrome browser. Following steps explain how to install crome's latest version and chrome driver.\n",
    "\n"
   ]
  },
  {
   "cell_type": "code",
   "execution_count": 1,
   "id": "e2becd4d",
   "metadata": {},
   "outputs": [],
   "source": [
    "import numpy as np\n",
    "import pandas as pd\n",
    "\n",
    "def unique_urls(urls_list):\n",
    "    \"\"\"\n",
    "    Removes repeated entries of urls in a list which might occur due to use of regex or multiple occurences on a page\n",
    "    Args:\n",
    "        urls_list: list containing urls which might be repetitive entries\n",
    "    Returns: list containing unique urls\n",
    "    \"\"\"\n",
    "    # convert to set\n",
    "    urls_set = set(urls_list)\n",
    "    # convert back to list\n",
    "    unique_urls_list = list(urls_set)\n",
    "    \n",
    "    return unique_urls_list\n"
   ]
  },
  {
   "cell_type": "code",
   "execution_count": 13,
   "id": "140bbe33",
   "metadata": {},
   "outputs": [],
   "source": [
    "all_hrefs_df = pd.read_csv(\"all_hrefs.csv\")"
   ]
  },
  {
   "cell_type": "code",
   "execution_count": 14,
   "id": "b876c91d",
   "metadata": {},
   "outputs": [
    {
     "name": "stdout",
     "output_type": "stream",
     "text": [
      "<class 'pandas.core.frame.DataFrame'>\n",
      "RangeIndex: 104806 entries, 0 to 104805\n",
      "Data columns (total 1 columns):\n",
      " #   Column  Non-Null Count  Dtype \n",
      "---  ------  --------------  ----- \n",
      " 0   0       98770 non-null  object\n",
      "dtypes: object(1)\n",
      "memory usage: 818.9+ KB\n"
     ]
    }
   ],
   "source": [
    "all_hrefs_df.info()"
   ]
  },
  {
   "cell_type": "code",
   "execution_count": 26,
   "id": "569dc6ff",
   "metadata": {},
   "outputs": [
    {
     "name": "stdout",
     "output_type": "stream",
     "text": [
      "104806\n",
      "['https://wirmarket.wir.ch/de/', 'https://wirmarket.wir.ch/de/', nan, 'https://www.wir.ch/fileadmin/user_upload/Dokumente/Flyer/wirmarket-werbemoeglichkeiten-bank-wir-de.pdf', 'https://www.wir.ch/fileadmin/user_upload/Dokumente/Flyer/wirmarket-bedienungsanleitung-bank-wir-de.pdf']\n"
     ]
    }
   ],
   "source": [
    "all_hrefs = all_hrefs_df.values.tolist()\n",
    "all_hrefs = [element for sublist in all_hrefs for element in sublist]\n",
    "print(len(all_hrefs))\n",
    "print(all_hrefs[:5])"
   ]
  },
  {
   "cell_type": "code",
   "execution_count": 36,
   "id": "8272bd51",
   "metadata": {},
   "outputs": [
    {
     "data": {
      "text/plain": [
       "104806"
      ]
     },
     "execution_count": 36,
     "metadata": {},
     "output_type": "execute_result"
    }
   ],
   "source": [
    "all_hrefs_df.duplicated()"
   ]
  },
  {
   "cell_type": "code",
   "execution_count": 38,
   "id": "b0a671bb",
   "metadata": {
    "scrolled": true
   },
   "outputs": [
    {
     "data": {
      "text/plain": [
       "0    29123\n",
       "dtype: int64"
      ]
     },
     "execution_count": 38,
     "metadata": {},
     "output_type": "execute_result"
    }
   ],
   "source": [
    "all_hrefs_df.drop_duplicates().count()"
   ]
  },
  {
   "cell_type": "code",
   "execution_count": 40,
   "id": "786a6210",
   "metadata": {},
   "outputs": [
    {
     "name": "stdout",
     "output_type": "stream",
     "text": [
      "<class 'pandas.core.frame.DataFrame'>\n",
      "Int64Index: 29124 entries, 0 to 104763\n",
      "Data columns (total 1 columns):\n",
      " #   Column  Non-Null Count  Dtype \n",
      "---  ------  --------------  ----- \n",
      " 0   0       29123 non-null  object\n",
      "dtypes: object(1)\n",
      "memory usage: 455.1+ KB\n"
     ]
    }
   ],
   "source": [
    "all_hrefs_df.info()"
   ]
  },
  {
   "cell_type": "code",
   "execution_count": 22,
   "id": "1a7a710e",
   "metadata": {},
   "outputs": [],
   "source": [
    "def regex_pattern_urls(pattern, hrefs_list): \n",
    "    \"\"\"\n",
    "    Uses a regex pattern to extract urls of interest out of a list of urls\n",
    "    pattern: regex pattern used for extracting urls from a list of urls\n",
    "    hrefs_list: list of hrefs required to be filtered according to the regex pattern\n",
    "    returns:urls_of_interest a list of urls filtered according to regex pattern provided\n",
    "        \n",
    "    \"\"\"\n",
    "    # Filter the list 'all_hrefs' to keep only the company profile page urls\n",
    "\n",
    "    #import regex library\n",
    "    import re\n",
    "    # regex pattern for company profile pages\n",
    "    # Do not uncomment following line of code\n",
    "#     pattern = r'https:\\/\\/\\w+\\.wir\\.ch\\/de\\/companyProfile\\/profile\\/[0-9A-F]{32}\\/info\\/\\?promo=false$'\n",
    "\n",
    "    urls_of_interest = []\n",
    "\n",
    "    # loop over all_hrefs list extracted above with Selenium to extract company profile urls\n",
    "    for href in hrefs_list:\n",
    "        match = re.search(pattern, str(href))\n",
    "        if match:\n",
    "            url = (match.group())\n",
    "            urls_of_interest.append(url)\n",
    "    return urls_of_interest        "
   ]
  },
  {
   "cell_type": "code",
   "execution_count": 29,
   "id": "2195451e",
   "metadata": {},
   "outputs": [
    {
     "name": "stdout",
     "output_type": "stream",
     "text": [
      "104806\n",
      "67083\n"
     ]
    }
   ],
   "source": [
    "pattern = r'https:\\/\\/\\w+\\.wir\\.ch\\/de\\/companyProfile\\/profile\\/[0-9A-F]{32}\\/info\\/\\?promo=false$'\n",
    "\n",
    "\n",
    "company_profile_urls = regex_pattern_urls(pattern = pattern, hrefs_list = all_hrefs)\n",
    "print(len(all_hrefs))\n",
    "print(len(company_profile_urls))\n"
   ]
  },
  {
   "cell_type": "code",
   "execution_count": 32,
   "id": "1bbe7c12",
   "metadata": {
    "scrolled": true
   },
   "outputs": [
    {
     "name": "stdout",
     "output_type": "stream",
     "text": [
      "['https://wirmarket.wir.ch/de/companyProfile/profile/3E429FAF47432A65E0540010E0244DC9/info/?promo=false', 'https://wirmarket.wir.ch/de/companyProfile/profile/3E429FAF47432A65E0540010E0244DC9/info/?promo=false', 'https://wirmarket.wir.ch/de/companyProfile/profile/3E429FAF47432A65E0540010E0244DC9/info/?promo=false', 'https://wirmarket.wir.ch/de/companyProfile/profile/3E429FAF56142A65E0540010E0244DC9/info/?promo=false', 'https://wirmarket.wir.ch/de/companyProfile/profile/3E429FAF56142A65E0540010E0244DC9/info/?promo=false', 'https://wirmarket.wir.ch/de/companyProfile/profile/3E429FAF56142A65E0540010E0244DC9/info/?promo=false', 'https://wirmarket.wir.ch/de/companyProfile/profile/4F0E0429C42D6459E054A0369F14B95F/info/?promo=false', 'https://wirmarket.wir.ch/de/companyProfile/profile/4F0E0429C42D6459E054A0369F14B95F/info/?promo=false', 'https://wirmarket.wir.ch/de/companyProfile/profile/4F0E0429C42D6459E054A0369F14B95F/info/?promo=false', 'https://wirmarket.wir.ch/de/companyProfile/profile/3E429FAF3E582A65E0540010E0244DC9/info/?promo=false']\n"
     ]
    }
   ],
   "source": [
    "print (company_profile_urls[:10])"
   ]
  },
  {
   "cell_type": "code",
   "execution_count": 33,
   "id": "aba13f71",
   "metadata": {},
   "outputs": [],
   "source": [
    "unique_company_profile_urls = unique_urls(company_profile_urls)"
   ]
  },
  {
   "cell_type": "code",
   "execution_count": 34,
   "id": "d952e9c0",
   "metadata": {},
   "outputs": [
    {
     "name": "stdout",
     "output_type": "stream",
     "text": [
      "14227\n"
     ]
    }
   ],
   "source": [
    "print(len(unique_company_profile_urls))"
   ]
  },
  {
   "cell_type": "code",
   "execution_count": null,
   "id": "bbceca3b",
   "metadata": {},
   "outputs": [],
   "source": []
  }
 ],
 "metadata": {
  "kernelspec": {
   "display_name": "Python 3 (ipykernel)",
   "language": "python",
   "name": "python3"
  },
  "language_info": {
   "codemirror_mode": {
    "name": "ipython",
    "version": 3
   },
   "file_extension": ".py",
   "mimetype": "text/x-python",
   "name": "python",
   "nbconvert_exporter": "python",
   "pygments_lexer": "ipython3",
   "version": "3.10.9"
  }
 },
 "nbformat": 4,
 "nbformat_minor": 5
}
