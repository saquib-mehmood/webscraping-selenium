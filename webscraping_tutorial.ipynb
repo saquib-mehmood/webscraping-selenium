{
 "cells": [
  {
   "cell_type": "markdown",
   "id": "0506d5c6",
   "metadata": {},
   "source": [
    "# Webscraping Tutorial"
   ]
  },
  {
   "cell_type": "markdown",
   "id": "fe0892f0",
   "metadata": {},
   "source": [
    "This tutorial explains how to use the accompanying program for webscraping. It may be mentioned that the program addresses the specific use-case of the customer, but with little modification it may be used universally. Any assistance and support required for other use cases can be provided. "
   ]
  },
  {
   "cell_type": "markdown",
   "id": "67e9c6ac",
   "metadata": {},
   "source": [
    "## Technology\n",
    "Most webscraping strategies involve using some webscraping library or module available in different programming languages. In Python Beautiful Soup and Scrappy are the popular and favored libraries. However, this specific use case presents a problem which cannot be resolved by ordinary means as the website to be scrapped is managed by \"Google Tag Manager\" and hence the html is not visible.\n",
    "We have used \"Selenium\" in order to take control of the browser to reveal the htmal elements and retreive necessary information.\n",
    "Selenium is a very powerful tool as it can fully control and drive the browser. However, it has some specific limitations and intermittance issues which make working with it quite difficult. One of the issues is that it has to wait for the page to be fully loaded before acquiring the desired information, and this can be a particular problem if internet speeds are slow. That is why it takes somewhat longer to scrape with Selenium but on the other hand it can penetrate the sites sitting behind login and passwords and tag management systems thus giving it a unique power.\n",
    "We have used Selenium's Python bindings to address this specific use case."
   ]
  },
  {
   "cell_type": "markdown",
   "id": "fca4bac5",
   "metadata": {},
   "source": [
    "## Installation\n",
    "A number of Python libraries are required to be installed prior to using this software. We have made the program available in a Jupyter notebook which is one of the most popular methods of executing Python code and provides the flexibility to immediately see the results of running the Python code. It is an intermediate solution between a code editor and a full-fledged web application.\n",
    "\n",
    "Selenium controls the browser through its web driver which communicates with a browser driverwhich is required to be installed on the system. We are using a chrome browser. Following steps explain how to install crome's latest version and chrome driver.\n",
    "\n"
   ]
  }
 ],
 "metadata": {
  "kernelspec": {
   "display_name": "Python 3 (ipykernel)",
   "language": "python",
   "name": "python3"
  },
  "language_info": {
   "codemirror_mode": {
    "name": "ipython",
    "version": 3
   },
   "file_extension": ".py",
   "mimetype": "text/x-python",
   "name": "python",
   "nbconvert_exporter": "python",
   "pygments_lexer": "ipython3",
   "version": "3.10.9"
  }
 },
 "nbformat": 4,
 "nbformat_minor": 5
}
