{
 "cells": [
  {
   "cell_type": "markdown",
   "id": "508f8853",
   "metadata": {},
   "source": [
    "# Part-1 CODE-BLOCK\n",
    "- Do not make any changes in the 'CODE-BLOCK'\n",
    "- Execute all cells in sequence\n",
    "- Test-Blocks are disabled but for safety do not try to execute any cell marked as Test-Block"
   ]
  },
  {
   "cell_type": "code",
   "execution_count": 1,
   "id": "f42a824b",
   "metadata": {},
   "outputs": [],
   "source": [
    "# import necessary libraries\n",
    "import time\n",
    "import requests\n",
    "import re\n",
    "import numpy as np\n",
    "import pandas as pd\n",
    "from contextlib import suppress\n",
    "from selenium import webdriver\n",
    "from selenium.webdriver.chrome.service import Service as ChromeService\n",
    "from webdriver_manager.chrome import ChromeDriverManager\n",
    "from selenium.webdriver.support.wait import WebDriverWait \n",
    "from selenium.webdriver.chrome.options import Options\n",
    "from selenium.webdriver.support import expected_conditions as EC\n",
    "from selenium.webdriver.common.by import By\n",
    "\n",
    "# Install webdriver manager to automatically detect driver location\n",
    "service = ChromeService(executable_path=ChromeDriverManager().install())\n",
    "\n",
    "# Set up ChromeDriver options\n",
    "chrome_options = Options()\n",
    "chrome_options.add_argument('--headless') # Run in headless mode to avoid opening a new browser window\n"
   ]
  },
  {
   "cell_type": "code",
   "execution_count": 2,
   "id": "6dfe6572",
   "metadata": {},
   "outputs": [],
   "source": [
    "def extract_hrefs(n=2, sleep = 15):\n",
    "    \"\"\"\n",
    "    Extracts all hrefs from a paginated web url as a list of lists\n",
    "    Args:\n",
    "        n = number of paginated web urls from which hrefs are to be extracted, default = 5\n",
    "        sleep = time in seconds to sleep before quitting the driver, default = 15 sec\n",
    "        url = paginated url from which data is to be extracted\n",
    "    Returns:\n",
    "        (list of lists) where each list contains the hrefs of each page \n",
    "    \n",
    "    \"\"\"\n",
    "    \n",
    "        # Initialize empty list to store results\n",
    "    all_hrefs = []\n",
    "\n",
    "    \n",
    "    # Loop over n list pages\n",
    "    for i in range(1, n+1):\n",
    "        # Build URL for current list pages having links to company profiles\n",
    "        # Don't uncomment following line of code\n",
    "        url = f\"https://wirmarket.wir.ch/de/members/list/?page={i}&resultAmount=100\"\n",
    "        \n",
    "\n",
    "        # Launch ChromeDriver and load websites\n",
    "        # In order to disable browser windows opening for websites amend the code of the following line:\n",
    "        # driver = webdriver.Chrome(service=service, options = chrome_options)\n",
    "        driver = webdriver.Chrome(service=service)\n",
    "\n",
    "        # Don't uncomment the code on the following line, it is for testing\n",
    "        #   driver.implicitly_wait(20) # seconds\n",
    "        driver.get(url)\n",
    "\n",
    "        # Wait for all anchor elements to be present\n",
    "        # WebDriverWait(driver, 180).until(EC.visiblity_of_all_elements_located((By.CSS_SELECTOR, \"a\")))\n",
    "        # Due to intermittent functionality of WebDriverWait, we introduce sleep() function to get all anchors\n",
    "        # This value is presently set at 15 secs but you may change it depending upon internet speed\n",
    "        time.sleep(sleep)\n",
    "        # Extract hrefs from all anchor elements on current website\n",
    "        hrefs = [a.get_attribute('href') for a in driver.find_elements(By.CSS_SELECTOR, \"a\")]\n",
    "\n",
    "        # Add hrefs to the list of all hrefs\n",
    "        all_hrefs.extend(hrefs) # extend flattens the list so that it is no longer a list of lists\n",
    "\n",
    "        # Close the current browser window\n",
    "        driver.quit()\n",
    "    return all_hrefs\n"
   ]
  },
  {
   "cell_type": "code",
   "execution_count": null,
   "id": "afd515ac",
   "metadata": {},
   "outputs": [],
   "source": [
    "### Test Block ! DO NOT EXECUTE\n",
    "# url = f\"https://wirmarket.wir.ch/de/members/list/?page={i}&resultAmount=100\"\n",
    "# all_hrefs_list = extract_hrefs(n=2, sleep = 15, \n",
    "#                          url = url)\n",
    "                          \n",
    "# # Check the length of all_hrefs list\n",
    "# # Each list link contains between 400-500 hrefs\n",
    "# print(len(all_hrefs_list))\n",
    "# # Check for duplicates\n",
    "# print(len(set(all_hrefs_list)))\n",
    "\n",
    "# # Test for function extract_hrefs passed"
   ]
  },
  {
   "cell_type": "code",
   "execution_count": 3,
   "id": "9956773f",
   "metadata": {},
   "outputs": [],
   "source": [
    "def unique_urls(urls_list):\n",
    "    \"\"\"\n",
    "    Removes repeated entries of urls in a list which might occur due to use of regex or multiple occurences on a page\n",
    "    Args:\n",
    "        urls_list: list containing urls which might be repetitive entries\n",
    "    Returns: list containing unique urls\n",
    "    \"\"\"\n",
    "    # convert to set\n",
    "    urls_set = set(urls_list)\n",
    "    # convert back to list\n",
    "    unique_urls_list = list(urls_set)\n",
    "    \n",
    "    return unique_urls_list\n"
   ]
  },
  {
   "cell_type": "code",
   "execution_count": null,
   "id": "d1d716de",
   "metadata": {},
   "outputs": [],
   "source": [
    "# ## Test-Block !DO NOT EXECUTE\n",
    "# unique_hrefs = unique_urls(all_hrefs_list)\n",
    "# print(len(unique_hrefs))\n",
    "\n",
    "# # Test for function unique_urls passed"
   ]
  },
  {
   "cell_type": "code",
   "execution_count": 4,
   "id": "7ccca824",
   "metadata": {},
   "outputs": [],
   "source": [
    "def regex_pattern_urls(pattern, hrefs_list): \n",
    "    \"\"\"\n",
    "    Uses a regex pattern to extract urls of interest out of a list of urls\n",
    "    pattern: regex pattern used for extracting urls from a list of urls\n",
    "    hrefs_list: list of hrefs required to be filtered according to the regex pattern\n",
    "    returns:urls_of_interest a list of urls filtered according to regex pattern provided\n",
    "        \n",
    "    \"\"\"\n",
    "    # Filter the list 'all_hrefs' to keep only the company profile page urls\n",
    "\n",
    "    #import regex library\n",
    "    import re\n",
    "    # regex pattern for company profile pages\n",
    "    # Do not uncomment following line of code\n",
    "#     pattern = r'https:\\/\\/\\w+\\.wir\\.ch\\/de\\/companyProfile\\/profile\\/[0-9A-F]{32}\\/info\\/\\?promo=false$'\n",
    "\n",
    "    urls_of_interest = []\n",
    "\n",
    "    # loop over all_hrefs list extracted above with Selenium to extract company profile urls\n",
    "    for href in hrefs_list:\n",
    "        match = re.search(pattern, str(href))\n",
    "        if match:\n",
    "            url = (match.group())\n",
    "            urls_of_interest.append(url)\n",
    "    return urls_of_interest        "
   ]
  },
  {
   "cell_type": "code",
   "execution_count": null,
   "id": "970ddf9e",
   "metadata": {},
   "outputs": [],
   "source": [
    "# ## Test-Block !DO NOT EXECUTE\n",
    "\n",
    "# pattern = r'https:\\/\\/\\w+\\.wir\\.ch\\/de\\/companyProfile\\/profile\\/[0-9A-F]{32}\\/info\\/\\?promo=false$'\n",
    "# company_profile_urls =  regex_pattern_urls(pattern, unique_hrefs)\n",
    "# print(len(company_profile_urls))\n",
    "# unique_company_profile_urls = unique_urls(company_profile_urls)\n",
    "# print(len(unique_company_profile_urls)) # should be 200 (slight variation of up to 5% is acceptable due to variation in internet speed)\n",
    "# print(unique_company_profile_urls[:10]) #must contain the string \"info\" in them\n",
    "\n",
    "# # Test for regex_pattern_urls passed"
   ]
  },
  {
   "cell_type": "code",
   "execution_count": 5,
   "id": "9d76f4bd",
   "metadata": {},
   "outputs": [],
   "source": [
    "def extract_info_of_interest(url_list, batch_size = 1000, batch_start_index = 0, sleep=10):\n",
    "    \"\"\"\n",
    "    Extracts all the relevant information from the given unique pages using selenium web driver finders and locators\n",
    "    Args:\n",
    "    url_list: list of the pages from where info is to be extracted\n",
    "    batch_size (int): Number of pages to be processed at a time. It is recommended to process large number of pages in batches of 1000\n",
    "    batch_start_index(int): index of the url_list from where parsing should start\n",
    "    sleep(int): seconds to wait for page to load before info can be parsed. It overrides WebDriverWait() function\n",
    "    Returns:\n",
    "    list of list of extracted data where each list contains data from a single page\n",
    "    \"\"\"\n",
    "    # Dont't uncomment following line of code, it is for troubleshooting\n",
    "#   from contextlib import suppress\n",
    "\n",
    "    # prepare the urls batch to be processed\n",
    "    batch = url_list[batch_start_index:batch_start_index+batch_size+1]\n",
    "\n",
    "    company_data = [] # initialize a list to contain lists of all companies' info\n",
    "\n",
    "\n",
    "\n",
    "\n",
    "    for url in batch:\n",
    "        company_info = [] # initialize a list to contain one company's info\n",
    "\n",
    "\n",
    "        # driver control block\n",
    "        driver = webdriver.Chrome(service=service)\n",
    "        driver.get(url)\n",
    "        time.sleep(sleep) # We are using sleep to avoid errors of WebDriverWait though it is timewise costly\n",
    "\n",
    "\n",
    "    # Using suppress context to ignore known exceptions\n",
    "    # Do not uncomment following line of code as it may lead to execution errors it is for testing\n",
    "    #     with suppress(Exception): \n",
    "\n",
    "        # Get company names\n",
    "\n",
    "        try:\n",
    "    #         WebDriverWait(driver, 10).until(EC.presence_of_element_located((By.ID, \"71-lnk\")))\n",
    "\n",
    "            h3_headings = driver.find_elements(By.CLASS_NAME, \"inline-block\") # find all elements with class = \"inline-block\"\n",
    "            h3_list = []\n",
    "            for heading in h3_headings: #loop through the list obtained\n",
    "                h3_list.append(heading.text) # get text of all h3 headings\n",
    "            company_name = h3_list[0] # company name is the first item in the list\n",
    "            company_info.append(company_name)   \n",
    "        except:\n",
    "            company_info.append('NA')\n",
    "        finally:\n",
    "                pass\n",
    "\n",
    "\n",
    "        # Get company industry\n",
    "\n",
    "        try:\n",
    "\n",
    "            uls = driver.find_elements(By.CLASS_NAME, \"default\")\n",
    "            list_items = driver.find_elements(By.TAG_NAME,\"li\")   \n",
    "            li_list = []\n",
    "            for li in list_items:\n",
    "                li_list.append(li.text)\n",
    "            industry_name = li_list[20] # industry name is the twenty first item in the list\n",
    "            company_info.append(industry_name)   \n",
    "        except:\n",
    "            company_info.append('NA')\n",
    "        finally:\n",
    "                pass\n",
    "\n",
    "        # Get company website if present         \n",
    "        try:\n",
    "    #       WebDriverWait(driver, 10).until(EC.presence_of_element_located((By.ID, \"68-lnk\")))\n",
    "            anchor = driver.find_element(By.ID, \"68-lnk\")\n",
    "            website = anchor.get_attribute('href')\n",
    "            company_info.append(website)\n",
    "        except:\n",
    "                company_info.append('NA')\n",
    "        finally:\n",
    "                pass\n",
    "\n",
    "        # Get company telephoone if available\n",
    "        try:\n",
    "    #         WebDriverWait(driver, 10).until(EC.presence_of_element_located((By.ID, \"66-lnk\")))\n",
    "            anchor = driver.find_element(By.ID, \"66-lnk\")\n",
    "            company_telephone = anchor.get_attribute('href')\n",
    "            company_info.append(company_telephone)\n",
    "        except:\n",
    "            company_info.append('NA')\n",
    "        finally:\n",
    "                pass\n",
    "        # Get company fax if available\n",
    "        try:\n",
    "    #         WebDriverWait(driver, 10).until(EC.presence_of_element_located((By.ID, \"fax-lnk\")))\n",
    "            anchor = driver.find_element(By.ID, \"fax-lnk\")\n",
    "            company_fax_no = anchor.get_attribute('href')\n",
    "            company_info.append(company_fax_no)\n",
    "        except:\n",
    "            company_info.append('NA')\n",
    "        finally: \n",
    "                pass\n",
    "\n",
    "       # Get company address and address google map link\n",
    "        try:\n",
    "    #       WebDriverWait(driver, 10).until(EC.presence_of_element_located((By.ID, \"6-lnk\")))\n",
    "            anchor = driver.find_element(By.ID, \"6-lnk\")\n",
    "            address = anchor.text\n",
    "            address_map_link = anchor.get_attribute('href')\n",
    "            company_info.append(address)\n",
    "            company_info.append(address_map_link)\n",
    "\n",
    "        except:\n",
    "                company_info.append('NA')\n",
    "        finally:\n",
    "                pass\n",
    "\n",
    "\n",
    "        company_data.append(company_info)\n",
    "        company_info = [] # reinitialize company_info\n",
    "\n",
    "        driver.quit()\n",
    "    return company_data\n"
   ]
  },
  {
   "cell_type": "code",
   "execution_count": null,
   "id": "a8b743f8",
   "metadata": {},
   "outputs": [],
   "source": [
    "# ## Test-Block !DO NOT Execute\n",
    "# company_data_lists = extract_info_of_interest(url_list = unique_company_profile_urls, batch_size = 200, batch_start_index = 0, sleep=10)"
   ]
  },
  {
   "cell_type": "code",
   "execution_count": null,
   "id": "84f699e2",
   "metadata": {},
   "outputs": [],
   "source": [
    "# # Test-Block !Do Not Execute\n",
    "# print(len(company_data_lists)) # should be equal to batch size i.e. 200\n",
    "# # test for extract_info_of_interest passed"
   ]
  },
  {
   "cell_type": "code",
   "execution_count": null,
   "id": "d0360962",
   "metadata": {},
   "outputs": [],
   "source": [
    "# # Test-Block !DO NOT ExECUTE\n",
    "# print(len(company_data_lists[-1]))\n",
    "# print(company_data_lists[:5]) \n",
    "# # Should be a list of lists\n",
    "# # Each list should have seven items\n",
    "# # First item in each list should be 'company name', second: 'industry', third: website, \n",
    "# # fourth: 'tel', fifth 'fax', sixth: 'address', seventh: 'address maplink'\n",
    "# # data not available should be represented by appropriate remarks\n",
    "\n",
    "# # test for extract_info_of_interest_passed"
   ]
  },
  {
   "cell_type": "code",
   "execution_count": 6,
   "id": "9613e545",
   "metadata": {},
   "outputs": [],
   "source": [
    "# Extract emails from websites\n",
    "\n",
    "def extract_emails_from_websites(info_list, pattern = r'\\b[A-Za-z0-9._%+-]+@[A-Za-z0-9.-]+\\.[A-Z|a-z]{2,}\\b', index=2):\n",
    "    \"\"\"Extracts emails from a list of lists containing a referred website address using a regex pattern\n",
    "        Args:\n",
    "        info_list: list of lists containing extracted info including website address\n",
    "        pattern: regex pattern to cover all possible formats of email addresses\n",
    "        index(int): index number in the lists where website address is located, default=2\n",
    "        Returns: info_list_with_emails a list with email addresses appended to info_list\n",
    "    \"\"\"\n",
    "    \n",
    "    import requests\n",
    "    import re\n",
    "#     pattern = r'\\b[A-Za-z0-9._%+-]+@[A-Za-z0-9.-]+\\.[A-Z|a-z]{2,}\\b'\n",
    "\n",
    "    info_list_with_emails = info_list.copy() # make a copy to avoid overwriting original list\n",
    "    for page in info_list_with_emails:\n",
    "        try:\n",
    "            response = requests.get(str(page[index]))\n",
    "\n",
    "            if response.status_code == 200:\n",
    "                emails = re.findall(pattern, response.text)\n",
    "                if emails:\n",
    "                    unique_emails = set(emails)\n",
    "                    unique_emails_list = list(unique_emails)\n",
    "                    page.append(unique_emails_list[0])\n",
    "                else:\n",
    "                    page.append('email not found on website')\n",
    "            else:\n",
    "                page.append('bad/broken link to website')\n",
    "        except:\n",
    "                page.append('website does not exist')\n",
    "    return info_list_with_emails\n",
    "\n"
   ]
  },
  {
   "cell_type": "code",
   "execution_count": null,
   "id": "1f7d05cc",
   "metadata": {},
   "outputs": [],
   "source": [
    "# ## Test_Bloack !DO NOT EXECUTE\n",
    "# company_data_lists_with_emails = extract_emails_from_websites(company_data_lists)"
   ]
  },
  {
   "cell_type": "code",
   "execution_count": null,
   "id": "a24d3e14",
   "metadata": {},
   "outputs": [],
   "source": [
    "# ## Test_Block !DO NOT EXECUTE\n",
    "# print(len(company_data_lists_with_emails)) # should be same as company_data_lists i.e. 200\n",
    "# print(len(company_data_lists_with_emails[-1])) # should be 8\n",
    "# print(company_data_lists_with_emails[-5:]) #should have 8 items in each list with emails or remarks added\n",
    "\n",
    "# # Test for extract_emails_from_websites passed"
   ]
  },
  {
   "cell_type": "code",
   "execution_count": null,
   "id": "dd6e725d",
   "metadata": {},
   "outputs": [],
   "source": [
    "# ## Test-Block !DO NOT EXECUTE\n",
    "# # Convert to Dataframe first 100 items\n",
    "# columns=['company_name', 'industry', 'website', 'telephone', 'fax', 'address', 'address_maplink', 'email']\n",
    "\n",
    "# df1 = pd.DataFrame(company_data_lists_with_emails[:100], columns=columns)\n",
    " "
   ]
  },
  {
   "cell_type": "code",
   "execution_count": null,
   "id": "c1ec8126",
   "metadata": {},
   "outputs": [],
   "source": [
    "# ## Test-Block !DO NOT EXECUTE\n",
    "# df1.info()"
   ]
  },
  {
   "cell_type": "code",
   "execution_count": null,
   "id": "a4591f26",
   "metadata": {},
   "outputs": [],
   "source": [
    "# ## Test_Block !DO NOT EXECUTE\n",
    "# df1.head()"
   ]
  },
  {
   "cell_type": "code",
   "execution_count": null,
   "id": "d48b0f28",
   "metadata": {},
   "outputs": [],
   "source": [
    "# ## Test-Block !DO NOT EXECUTE\n",
    "# # Convert to DataFrame next 100 items\n",
    "# columns=['company_name', 'industry', 'website', 'telephone', 'fax', 'address', 'address_maplink', 'email']\n",
    "\n",
    "# df2 = pd.DataFrame(company_data_lists_with_emails[101:200], columns=columns)\n"
   ]
  },
  {
   "cell_type": "code",
   "execution_count": null,
   "id": "5e92d51e",
   "metadata": {},
   "outputs": [],
   "source": [
    "# ## Test-Block !DO NOT EXECUTE\n",
    "# df2.info()"
   ]
  },
  {
   "cell_type": "code",
   "execution_count": null,
   "id": "989dc46d",
   "metadata": {
    "scrolled": true
   },
   "outputs": [],
   "source": [
    "# ## Test_Block !DO NOT EXECUTE\n",
    "# df2.head()"
   ]
  },
  {
   "cell_type": "code",
   "execution_count": null,
   "id": "87eecb29",
   "metadata": {},
   "outputs": [],
   "source": [
    "# ## Test_Block !DO NOT EXECUTE\n",
    "# df2.tail()"
   ]
  },
  {
   "cell_type": "code",
   "execution_count": null,
   "id": "9d835917",
   "metadata": {},
   "outputs": [],
   "source": [
    "# # Test-Block !DO nOT EXECUTE\n",
    "# # Join both Dataframes\n",
    "# df = pd.concat([df1, df2])"
   ]
  },
  {
   "cell_type": "code",
   "execution_count": null,
   "id": "63b05885",
   "metadata": {},
   "outputs": [],
   "source": [
    "## Test-Block DO NOT EXECUTE\n",
    "# df.info()"
   ]
  },
  {
   "cell_type": "code",
   "execution_count": null,
   "id": "b176084c",
   "metadata": {},
   "outputs": [],
   "source": [
    "# ## Test_Block !DO NOT EXECUTE\n",
    "# df.head()==df1.head() # should be same as df1.head()\n",
    "# # test passed"
   ]
  },
  {
   "cell_type": "code",
   "execution_count": null,
   "id": "67dad03f",
   "metadata": {},
   "outputs": [],
   "source": [
    "# ## Test_Block !DO NOT EXECUTE\n",
    "# df.tail()==df2.tail() # should be same as df2.tail()\n",
    "# # test passed"
   ]
  },
  {
   "cell_type": "markdown",
   "id": "9209261e",
   "metadata": {},
   "source": [
    "### xxxxxxxxxxxxxxxxxxxxxx END OF CODE BLOCKXXXXXXXXXXXXXXXXXXXXXXXX"
   ]
  },
  {
   "cell_type": "markdown",
   "id": "dd50e5e2",
   "metadata": {},
   "source": [
    "## XXXXXXXXXXXXX START OF EXECUTION BLOCXXXXXXXXXXXXXX"
   ]
  },
  {
   "cell_type": "markdown",
   "id": "b2291625",
   "metadata": {},
   "source": [
    "### Part-I Extract links to all company profile pages"
   ]
  },
  {
   "cell_type": "code",
   "execution_count": 7,
   "id": "5dff63f1",
   "metadata": {},
   "outputs": [
    {
     "name": "stdout",
     "output_type": "stream",
     "text": [
      "execution_time:  7432.664510250092\n"
     ]
    }
   ],
   "source": [
    "# extract all_hrefs from 224 list pages on the site \n",
    "start_time = time.time()\n",
    "# url = f\"https://wirmarket.wir.ch/de/members/list/?page={i}&resultAmount=25\"\n",
    "all_hrefs = extract_hrefs( n=224, sleep = 17)\n",
    "\n",
    "end_time = time.time()\n",
    "execution_time = end_time - start_time\n",
    "print(\"execution_time: \", execution_time)\n"
   ]
  },
  {
   "cell_type": "code",
   "execution_count": 8,
   "id": "b7a31a28",
   "metadata": {},
   "outputs": [
    {
     "name": "stdout",
     "output_type": "stream",
     "text": [
      "104806\n"
     ]
    }
   ],
   "source": [
    "print(len(all_hrefs))"
   ]
  },
  {
   "cell_type": "code",
   "execution_count": 9,
   "id": "85ea6024",
   "metadata": {},
   "outputs": [],
   "source": [
    "# Remove duplicate or repeated entries from the all_hrefs\n",
    "all_hrefs_unique = unique_urls(all_hrefs) "
   ]
  },
  {
   "cell_type": "code",
   "execution_count": 10,
   "id": "8e09615e",
   "metadata": {},
   "outputs": [
    {
     "name": "stdout",
     "output_type": "stream",
     "text": [
      "29124\n"
     ]
    }
   ],
   "source": [
    "print(len(all_hrefs_unique))"
   ]
  },
  {
   "cell_type": "code",
   "execution_count": 11,
   "id": "90cf8bd8",
   "metadata": {},
   "outputs": [],
   "source": [
    "# Extract company profile page urls from all unique hrefs\n",
    "pattern = pattern = r'https:\\/\\/\\w+\\.wir\\.ch\\/de\\/companyProfile\\/profile\\/[0-9A-F]{32}\\/info\\/\\?promo=false$'\n",
    "company_profile_urls = regex_pattern_urls(pattern = pattern, hrefs_list = all_hrefs_unique)"
   ]
  },
  {
   "cell_type": "code",
   "execution_count": 12,
   "id": "d31e83a3",
   "metadata": {},
   "outputs": [
    {
     "name": "stdout",
     "output_type": "stream",
     "text": [
      "14227\n"
     ]
    }
   ],
   "source": [
    "print(len(company_profile_urls))"
   ]
  },
  {
   "cell_type": "code",
   "execution_count": 13,
   "id": "d36bfaa5",
   "metadata": {},
   "outputs": [],
   "source": [
    "# Remove duplicate or repeated entries from company_profile_urls\n",
    "unique_company_profile_urls = unique_urls(company_profile_urls)"
   ]
  },
  {
   "cell_type": "markdown",
   "id": "c44409ab",
   "metadata": {},
   "source": [
    "#### Checkpoint-1"
   ]
  },
  {
   "cell_type": "code",
   "execution_count": 14,
   "id": "064d40e8",
   "metadata": {
    "scrolled": true
   },
   "outputs": [
    {
     "name": "stdout",
     "output_type": "stream",
     "text": [
      "14227\n",
      "['https://wirmarket.wir.ch/de/companyProfile/profile/3E429FAF14ED2A65E0540010E0244DC9/info/?promo=false', 'https://wirmarket.wir.ch/de/companyProfile/profile/3E429FAF4B042A65E0540010E0244DC9/info/?promo=false', 'https://wirmarket.wir.ch/de/companyProfile/profile/3E429FAF240E2A65E0540010E0244DC9/info/?promo=false', 'https://wirmarket.wir.ch/de/companyProfile/profile/3E429FAF3B6B2A65E0540010E0244DC9/info/?promo=false', 'https://wirmarket.wir.ch/de/companyProfile/profile/3E429FAF41082A65E0540010E0244DC9/info/?promo=false', 'https://wirmarket.wir.ch/de/companyProfile/profile/3E429FAF12A92A65E0540010E0244DC9/info/?promo=false', 'https://wirmarket.wir.ch/de/companyProfile/profile/3E429FAF1B3B2A65E0540010E0244DC9/info/?promo=false', 'https://wirmarket.wir.ch/de/companyProfile/profile/3E429FAF54932A65E0540010E0244DC9/info/?promo=false', 'https://wirmarket.wir.ch/de/companyProfile/profile/3E429FAF31EB2A65E0540010E0244DC9/info/?promo=false', 'https://wirmarket.wir.ch/de/companyProfile/profile/3E429FAF219D2A65E0540010E0244DC9/info/?promo=false']\n",
      "['https://wirmarket.wir.ch/de/companyProfile/profile/3E429FAF60092A65E0540010E0244DC9/info/?promo=false', 'https://wirmarket.wir.ch/de/companyProfile/profile/3E429FAF1CA52A65E0540010E0244DC9/info/?promo=false', 'https://wirmarket.wir.ch/de/companyProfile/profile/3E429FAF36632A65E0540010E0244DC9/info/?promo=false', 'https://wirmarket.wir.ch/de/companyProfile/profile/4F36409C88EC4E65E054A0369F14B95F/info/?promo=false', 'https://wirmarket.wir.ch/de/companyProfile/profile/D5BF12ED73B95F86E05400144FF976C6/info/?promo=false', 'https://wirmarket.wir.ch/de/companyProfile/profile/3E429FAF26282A65E0540010E0244DC9/info/?promo=false', 'https://wirmarket.wir.ch/de/companyProfile/profile/3E429FAF3C152A65E0540010E0244DC9/info/?promo=false', 'https://wirmarket.wir.ch/de/companyProfile/profile/58B85543DFA09858E05400144FF95A47/info/?promo=false', 'https://wirmarket.wir.ch/de/companyProfile/profile/3E429FAF27E62A65E0540010E0244DC9/info/?promo=false', 'https://wirmarket.wir.ch/de/companyProfile/profile/3E429FAF55272A65E0540010E0244DC9/info/?promo=false']\n"
     ]
    }
   ],
   "source": [
    "print(len(unique_company_profile_urls)) # should be 200 (slight variation of up to 5% is acceptable due to variation in internet speed)\n",
    "print(unique_company_profile_urls[:10])\n",
    "print(unique_company_profile_urls[-10:])"
   ]
  },
  {
   "cell_type": "code",
   "execution_count": 16,
   "id": "6afee03a",
   "metadata": {},
   "outputs": [],
   "source": [
    "# Save as csv\n",
    "company_profile_url_df = pd.DataFrame([unique_company_profile_urls])\n",
    "company_profile_url_df.to_csv('profile_urls.csv', index = False)"
   ]
  },
  {
   "cell_type": "markdown",
   "id": "099820ca",
   "metadata": {},
   "source": [
    "### xxxxxxxxxxxxxxxxxxx END OF PART-1 xxxxxxxxxxxxxxxxxxxxxxxxxxx"
   ]
  },
  {
   "cell_type": "markdown",
   "id": "d9a9d064",
   "metadata": {},
   "source": [
    "## Part-2 Batch Processing"
   ]
  },
  {
   "cell_type": "markdown",
   "id": "b05662e3",
   "metadata": {},
   "source": [
    "### Batch-1, batch_size = 1000, batch_start_index = 0"
   ]
  },
  {
   "cell_type": "code",
   "execution_count": 17,
   "id": "7d5d4e3f",
   "metadata": {},
   "outputs": [
    {
     "name": "stdout",
     "output_type": "stream",
     "text": [
      "execution time:  18019.821753025055\n"
     ]
    }
   ],
   "source": [
    "# Extract info of interst\n",
    "start_time = time.time()\n",
    "batch1_initial = extract_info_of_interest(unique_company_profile_urls, batch_size = 1000, batch_start_index = 0, sleep=10)\n",
    "end_time = time.time()\n",
    "execution_time = end_time - start_time\n",
    "print('execution time: ', execution_time)"
   ]
  },
  {
   "cell_type": "markdown",
   "id": "11ae5ade",
   "metadata": {},
   "source": [
    "### checkpoint-1"
   ]
  },
  {
   "cell_type": "code",
   "execution_count": 20,
   "id": "8dbadfa9",
   "metadata": {},
   "outputs": [
    {
     "name": "stdout",
     "output_type": "stream",
     "text": [
      "1001\n",
      "7\n"
     ]
    }
   ],
   "source": [
    "print(len(batch1_initial)) # Should be equal to batch_size + 1\n",
    "print(len(batch1_initial[-1])) # Should be equal to 7"
   ]
  },
  {
   "cell_type": "code",
   "execution_count": 21,
   "id": "b0ded14e",
   "metadata": {},
   "outputs": [
    {
     "name": "stdout",
     "output_type": "stream",
     "text": [
      "[['Ringler + Strahm Storenbau AG', 'Sonstige Bauinstallation', 'http://www.ringler-strahm.ch/', 'tel:033 345 22 55', 'fax:033 345 55 19', 'Uetendorfstrasse 20\\n3634 Thierachern', 'https://www.google.com/maps/place/Uetendorfstrasse%2020+3634+Thierachern'], ['Grob & Partner Architektur AG', 'Architekturbüros', 'http://www.grobarchitektur.ch/', 'tel:081 720 02 00', 'fax:081 720 02 05', 'Bahnhofstrasse 3\\n7320 Sargans', 'https://www.google.com/maps/place/Bahnhofstrasse%20%203+7320+Sargans'], ['Lauclair AG', 'Schreinerarbeiten im Innenausbau', 'http://www.lauclair.ch/', 'tel:031 879 01 69', 'fax:031 879 20 69', 'Lyssstrasse 27\\n3054 Schüpfen', 'https://www.google.com/maps/place/Lyssstrasse%2027+3054+Sch%C3%BCpfen']]\n"
     ]
    }
   ],
   "source": [
    "print(batch1_initial[:3])"
   ]
  },
  {
   "cell_type": "markdown",
   "id": "3b4ec23e",
   "metadata": {},
   "source": [
    "### End of checkpoint-1"
   ]
  },
  {
   "cell_type": "code",
   "execution_count": 22,
   "id": "fad49f5c",
   "metadata": {},
   "outputs": [
    {
     "name": "stdout",
     "output_type": "stream",
     "text": [
      "execution time:  953.6410942077637\n"
     ]
    }
   ],
   "source": [
    "# Extract emails\n",
    "start_time = time.time()\n",
    "pattern = r'\\b[A-Za-z0-9._%+-]+@[A-Za-z0-9.-]+\\.[A-Z|a-z]{2,}\\b'\n",
    "batch1 = extract_emails_from_websites(batch1_initial, pattern = pattern , index=2)\n",
    "end_time = time.time()\n",
    "execution_time = end_time - start_time\n",
    "print('execution time: ', execution_time)"
   ]
  },
  {
   "cell_type": "markdown",
   "id": "62cd0465",
   "metadata": {},
   "source": [
    "### checkpoint-2"
   ]
  },
  {
   "cell_type": "code",
   "execution_count": 23,
   "id": "4b6dcf05",
   "metadata": {},
   "outputs": [
    {
     "name": "stdout",
     "output_type": "stream",
     "text": [
      "1001\n",
      "8\n",
      "[['STB Holzbau GmbH', 'Einbau von Fenster, Türen und Innenausbau, Einbauküchen, Einbaumöbel', 'NA', 'tel:055 444 31 68', 'fax:055 444 31 68', 'Haslenstrasse 28b\\n8862 Schübelbach', 'https://www.google.com/maps/place/Haslenstrasse%2028b+8862+Sch%C3%BCbelbach', 'website does not exist'], ['Beauty Solar Sonnenland GmbH', 'Saunas, Solarien', 'NA', 'tel:041 280 15 15', 'fax:041 631 08 07', 'Schulhausstrasse 4\\n6052 Hergiswil NW', 'https://www.google.com/maps/place/Schulhausstrasse%204+6052+Hergiswil%20NW', 'website does not exist'], ['Elektro-Brizzi AG', 'Elektroinstallation', 'NA', 'tel:052 386 22 22', 'fax:052 386 22 93', 'Heinrich Gujer-Strasse 5\\n8494 Bauma', 'https://www.google.com/maps/place/Heinrich%20Gujer-Strasse%205+8494+Bauma', 'website does not exist'], ['Keller Wärme & Wasser AG', 'Sanitär- und Heizungsinstallation', 'NA', 'tel:032 373 51 53', 'fax:032 373 27 71', 'Erlenstrasse 15\\n2555 Brügg BE', 'https://www.google.com/maps/place/Erlenstrasse%2015+2555+Br%C3%BCgg%20BE', 'website does not exist'], ['Trend Werbeartikel GmbH', 'Detailhandel mit Geschenkartikeln und Souvenirs', 'http://www.trend-werbeartikel.ch/', 'tel:031 952 61 21', 'fax:031 952 61 32', 'Webergutstrasse 4\\n3052 Zollikofen', 'https://www.google.com/maps/place/Webergutstrasse%204+3052+Zollikofen', 'bad/broken link to website']]\n"
     ]
    }
   ],
   "source": [
    "print(len(batch1)) # should be same as batch_size i.e. 1001\n",
    "print(len(batch1[-1])) # should be 8\n",
    "print(batch1[-5:]) #should have 8 items in each list with emails or remarks added\n"
   ]
  },
  {
   "cell_type": "markdown",
   "id": "ac6cf333",
   "metadata": {},
   "source": [
    "### End of checkpoint-2"
   ]
  },
  {
   "cell_type": "code",
   "execution_count": 24,
   "id": "9d77aeb4",
   "metadata": {},
   "outputs": [],
   "source": [
    "# Columns to be used for all batches\n",
    "columns=['company_name', 'industry', 'website', 'telephone', 'fax', 'address', 'address_maplink', 'email']\n"
   ]
  },
  {
   "cell_type": "code",
   "execution_count": 25,
   "id": "c8c895eb",
   "metadata": {},
   "outputs": [],
   "source": [
    "# # Convert to Dataframe batch1\n",
    "df1 = pd.DataFrame(batch1, columns=columns)\n"
   ]
  },
  {
   "cell_type": "markdown",
   "id": "682b14a9",
   "metadata": {},
   "source": [
    "### Checkpoint-3"
   ]
  },
  {
   "cell_type": "code",
   "execution_count": 26,
   "id": "763ebab0",
   "metadata": {},
   "outputs": [
    {
     "name": "stdout",
     "output_type": "stream",
     "text": [
      "<class 'pandas.core.frame.DataFrame'>\n",
      "RangeIndex: 1001 entries, 0 to 1000\n",
      "Data columns (total 8 columns):\n",
      " #   Column           Non-Null Count  Dtype \n",
      "---  ------           --------------  ----- \n",
      " 0   company_name     1001 non-null   object\n",
      " 1   industry         1001 non-null   object\n",
      " 2   website          1001 non-null   object\n",
      " 3   telephone        1001 non-null   object\n",
      " 4   fax              1001 non-null   object\n",
      " 5   address          1001 non-null   object\n",
      " 6   address_maplink  1001 non-null   object\n",
      " 7   email            1001 non-null   object\n",
      "dtypes: object(8)\n",
      "memory usage: 62.7+ KB\n"
     ]
    }
   ],
   "source": [
    "df1.info()"
   ]
  },
  {
   "cell_type": "code",
   "execution_count": 27,
   "id": "b2311dda",
   "metadata": {},
   "outputs": [
    {
     "data": {
      "text/html": [
       "<div>\n",
       "<style scoped>\n",
       "    .dataframe tbody tr th:only-of-type {\n",
       "        vertical-align: middle;\n",
       "    }\n",
       "\n",
       "    .dataframe tbody tr th {\n",
       "        vertical-align: top;\n",
       "    }\n",
       "\n",
       "    .dataframe thead th {\n",
       "        text-align: right;\n",
       "    }\n",
       "</style>\n",
       "<table border=\"1\" class=\"dataframe\">\n",
       "  <thead>\n",
       "    <tr style=\"text-align: right;\">\n",
       "      <th></th>\n",
       "      <th>company_name</th>\n",
       "      <th>industry</th>\n",
       "      <th>website</th>\n",
       "      <th>telephone</th>\n",
       "      <th>fax</th>\n",
       "      <th>address</th>\n",
       "      <th>address_maplink</th>\n",
       "      <th>email</th>\n",
       "    </tr>\n",
       "  </thead>\n",
       "  <tbody>\n",
       "    <tr>\n",
       "      <th>0</th>\n",
       "      <td>Ringler + Strahm Storenbau AG</td>\n",
       "      <td>Sonstige Bauinstallation</td>\n",
       "      <td>http://www.ringler-strahm.ch/</td>\n",
       "      <td>tel:033 345 22 55</td>\n",
       "      <td>fax:033 345 55 19</td>\n",
       "      <td>Uetendorfstrasse 20\\n3634 Thierachern</td>\n",
       "      <td>https://www.google.com/maps/place/Uetendorfstr...</td>\n",
       "      <td>info@ringler-strahm.ch</td>\n",
       "    </tr>\n",
       "    <tr>\n",
       "      <th>1</th>\n",
       "      <td>Grob &amp; Partner Architektur AG</td>\n",
       "      <td>Architekturbüros</td>\n",
       "      <td>http://www.grobarchitektur.ch/</td>\n",
       "      <td>tel:081 720 02 00</td>\n",
       "      <td>fax:081 720 02 05</td>\n",
       "      <td>Bahnhofstrasse 3\\n7320 Sargans</td>\n",
       "      <td>https://www.google.com/maps/place/Bahnhofstras...</td>\n",
       "      <td>605a7baede844d278b89dc95ae0a9123@sentry-next.w...</td>\n",
       "    </tr>\n",
       "    <tr>\n",
       "      <th>2</th>\n",
       "      <td>Lauclair AG</td>\n",
       "      <td>Schreinerarbeiten im Innenausbau</td>\n",
       "      <td>http://www.lauclair.ch/</td>\n",
       "      <td>tel:031 879 01 69</td>\n",
       "      <td>fax:031 879 20 69</td>\n",
       "      <td>Lyssstrasse 27\\n3054 Schüpfen</td>\n",
       "      <td>https://www.google.com/maps/place/Lyssstrasse%...</td>\n",
       "      <td>a95fca1f1eb9fe8g2c9ead0cd9931e2a@2x.jpg</td>\n",
       "    </tr>\n",
       "    <tr>\n",
       "      <th>3</th>\n",
       "      <td>Club Goldwand</td>\n",
       "      <td>Kauf und Verkauf von eigenen Grundstücken, Geb...</td>\n",
       "      <td>http://www.clubgoldwand.ch/</td>\n",
       "      <td>tel:056 282 30 50</td>\n",
       "      <td>NA</td>\n",
       "      <td>Landstrasse 6\\n5415 Nussbaumen AG</td>\n",
       "      <td>https://www.google.com/maps/place/Landstrasse%...</td>\n",
       "      <td>info@clubgoldwand.ch</td>\n",
       "    </tr>\n",
       "    <tr>\n",
       "      <th>4</th>\n",
       "      <td>NICOLE DIEM Horgen</td>\n",
       "      <td>Detailhandel mit Brillen und anderen Sehhilfen</td>\n",
       "      <td>http://www.nicolediem.ch/</td>\n",
       "      <td>tel:044 770 10 40</td>\n",
       "      <td>NA</td>\n",
       "      <td>Dorfplatz 3\\n8810 Horgen</td>\n",
       "      <td>https://www.google.com/maps/place/Dorfplatz%20...</td>\n",
       "      <td>johndoe@domain.com</td>\n",
       "    </tr>\n",
       "  </tbody>\n",
       "</table>\n",
       "</div>"
      ],
      "text/plain": [
       "                    company_name  \\\n",
       "0  Ringler + Strahm Storenbau AG   \n",
       "1  Grob & Partner Architektur AG   \n",
       "2                    Lauclair AG   \n",
       "3                  Club Goldwand   \n",
       "4             NICOLE DIEM Horgen   \n",
       "\n",
       "                                            industry  \\\n",
       "0                           Sonstige Bauinstallation   \n",
       "1                                   Architekturbüros   \n",
       "2                   Schreinerarbeiten im Innenausbau   \n",
       "3  Kauf und Verkauf von eigenen Grundstücken, Geb...   \n",
       "4     Detailhandel mit Brillen und anderen Sehhilfen   \n",
       "\n",
       "                          website          telephone                fax  \\\n",
       "0   http://www.ringler-strahm.ch/  tel:033 345 22 55  fax:033 345 55 19   \n",
       "1  http://www.grobarchitektur.ch/  tel:081 720 02 00  fax:081 720 02 05   \n",
       "2         http://www.lauclair.ch/  tel:031 879 01 69  fax:031 879 20 69   \n",
       "3     http://www.clubgoldwand.ch/  tel:056 282 30 50                 NA   \n",
       "4       http://www.nicolediem.ch/  tel:044 770 10 40                 NA   \n",
       "\n",
       "                                 address  \\\n",
       "0  Uetendorfstrasse 20\\n3634 Thierachern   \n",
       "1         Bahnhofstrasse 3\\n7320 Sargans   \n",
       "2          Lyssstrasse 27\\n3054 Schüpfen   \n",
       "3      Landstrasse 6\\n5415 Nussbaumen AG   \n",
       "4               Dorfplatz 3\\n8810 Horgen   \n",
       "\n",
       "                                     address_maplink  \\\n",
       "0  https://www.google.com/maps/place/Uetendorfstr...   \n",
       "1  https://www.google.com/maps/place/Bahnhofstras...   \n",
       "2  https://www.google.com/maps/place/Lyssstrasse%...   \n",
       "3  https://www.google.com/maps/place/Landstrasse%...   \n",
       "4  https://www.google.com/maps/place/Dorfplatz%20...   \n",
       "\n",
       "                                               email  \n",
       "0                             info@ringler-strahm.ch  \n",
       "1  605a7baede844d278b89dc95ae0a9123@sentry-next.w...  \n",
       "2            a95fca1f1eb9fe8g2c9ead0cd9931e2a@2x.jpg  \n",
       "3                               info@clubgoldwand.ch  \n",
       "4                                 johndoe@domain.com  "
      ]
     },
     "execution_count": 27,
     "metadata": {},
     "output_type": "execute_result"
    }
   ],
   "source": [
    "df1.head()"
   ]
  },
  {
   "cell_type": "code",
   "execution_count": 19,
   "id": "0a664d30",
   "metadata": {},
   "outputs": [],
   "source": [
    "### End of Checkpoint-3"
   ]
  },
  {
   "cell_type": "code",
   "execution_count": 28,
   "id": "cbe0536b",
   "metadata": {},
   "outputs": [],
   "source": [
    "# Save as csv file\n",
    "df1.to_csv('batch1.csv', index = False)"
   ]
  },
  {
   "cell_type": "markdown",
   "id": "5ef595d8",
   "metadata": {},
   "source": [
    "### xxxxxxxxxxxxxxx Push to Github xxxxxxxxxxxxxxxxxxxxxxxxx"
   ]
  },
  {
   "cell_type": "markdown",
   "id": "05ea2e1d",
   "metadata": {},
   "source": [
    "### Batch-2, batch_size = 3000, batch_start_index = 1001"
   ]
  },
  {
   "cell_type": "code",
   "execution_count": null,
   "id": "f2cfb1e2",
   "metadata": {},
   "outputs": [],
   "source": [
    "# Extract info of interst\n",
    "start_time = time.time()\n",
    "batch2_initial = extract_info_of_interest(unique_company_profile_urls, batch_size = 3000, batch_start_index = 0, sleep=10)\n",
    "end_time = time.time()\n",
    "execution_time = end_time - start_time\n",
    "print('execution time: ', execution_time)"
   ]
  },
  {
   "cell_type": "markdown",
   "id": "f9576f8a",
   "metadata": {},
   "source": [
    "### checkpoint-1"
   ]
  },
  {
   "cell_type": "code",
   "execution_count": null,
   "id": "f051f1f2",
   "metadata": {},
   "outputs": [],
   "source": [
    "print(len(batch2_initial))\n",
    "print(len(batch2_initial[-1]))"
   ]
  },
  {
   "cell_type": "code",
   "execution_count": null,
   "id": "181048f0",
   "metadata": {},
   "outputs": [],
   "source": [
    "print(batch2_initial[:3])"
   ]
  },
  {
   "cell_type": "markdown",
   "id": "5d3adf21",
   "metadata": {},
   "source": [
    "### End of Checkpoint-1"
   ]
  },
  {
   "cell_type": "code",
   "execution_count": null,
   "id": "ef3323f3",
   "metadata": {},
   "outputs": [],
   "source": [
    "# Extract emails\n",
    "start_time = time.time()\n",
    "pattern = r'\\b[A-Za-z0-9._%+-]+@[A-Za-z0-9.-]+\\.[A-Z|a-z]{2,}\\b'\n",
    "batch2 = extract_emails_from_websites(batch2_initial, pattern = pattern , index=2)\n",
    "end_time = time.time()\n",
    "execution_time = end_time - start_time\n",
    "print('execution time: ', execution_time)"
   ]
  },
  {
   "cell_type": "markdown",
   "id": "dca3d029",
   "metadata": {},
   "source": [
    "### Checkpoint-2"
   ]
  },
  {
   "cell_type": "code",
   "execution_count": null,
   "id": "a1627cf6",
   "metadata": {},
   "outputs": [],
   "source": [
    "print(len(batch2)) # should be same as batch_size i.e. 3000\n",
    "print(len(batch2[-1])) # should be 8\n",
    "print(batch2[-5:]) #should have 8 items in each list with emails or remarks added"
   ]
  },
  {
   "cell_type": "markdown",
   "id": "35420a21",
   "metadata": {},
   "source": [
    "### End of Checkpoint-2"
   ]
  },
  {
   "cell_type": "code",
   "execution_count": null,
   "id": "eb978e51",
   "metadata": {},
   "outputs": [],
   "source": [
    "# # Convert to Dataframe batch1\n",
    "df2 = pd.DataFrame(batch2, columns=columns)\n"
   ]
  },
  {
   "cell_type": "code",
   "execution_count": null,
   "id": "fb841687",
   "metadata": {},
   "outputs": [],
   "source": [
    "df2.info()"
   ]
  },
  {
   "cell_type": "code",
   "execution_count": null,
   "id": "c9e2b5ad",
   "metadata": {},
   "outputs": [],
   "source": [
    "df2.head()"
   ]
  },
  {
   "cell_type": "markdown",
   "id": "46d231c9",
   "metadata": {},
   "source": [
    "### End of Checkpoint-3"
   ]
  },
  {
   "cell_type": "code",
   "execution_count": null,
   "id": "2aab7424",
   "metadata": {},
   "outputs": [],
   "source": [
    "# save as csv\n",
    "pd.to_csv('batch2', index = False)"
   ]
  },
  {
   "cell_type": "code",
   "execution_count": null,
   "id": "ecd2df6c",
   "metadata": {},
   "outputs": [],
   "source": [
    "# Merge the two dataframes\n",
    "df = pd.concat([df1, df2])"
   ]
  },
  {
   "cell_type": "markdown",
   "id": "257ce949",
   "metadata": {},
   "source": [
    "### Checkpoint-4"
   ]
  },
  {
   "cell_type": "code",
   "execution_count": null,
   "id": "4bf9722f",
   "metadata": {},
   "outputs": [],
   "source": [
    "df.info()"
   ]
  },
  {
   "cell_type": "code",
   "execution_count": null,
   "id": "91c692b3",
   "metadata": {},
   "outputs": [],
   "source": [
    "df.head()"
   ]
  },
  {
   "cell_type": "code",
   "execution_count": null,
   "id": "c66d30fb",
   "metadata": {},
   "outputs": [],
   "source": [
    "df.tail()"
   ]
  },
  {
   "cell_type": "code",
   "execution_count": null,
   "id": "486128e9",
   "metadata": {},
   "outputs": [],
   "source": [
    "df.head() == df1.head()"
   ]
  },
  {
   "cell_type": "code",
   "execution_count": null,
   "id": "8e183d26",
   "metadata": {},
   "outputs": [],
   "source": [
    "df.tail() == df2.tail()"
   ]
  },
  {
   "cell_type": "markdown",
   "id": "f7c46182",
   "metadata": {},
   "source": [
    "### End of Checkpoint-4"
   ]
  },
  {
   "cell_type": "markdown",
   "id": "0e50812f",
   "metadata": {},
   "source": [
    "### xxxxxxxxxxxx Push to Github xxxxxxxxxxxxxx"
   ]
  },
  {
   "cell_type": "markdown",
   "id": "7da6833c",
   "metadata": {},
   "source": [
    "### Batch-3, batch_size = 3000, batch_start_index = 4001\n"
   ]
  },
  {
   "cell_type": "code",
   "execution_count": null,
   "id": "6537af29",
   "metadata": {},
   "outputs": [],
   "source": []
  }
 ],
 "metadata": {
  "kernelspec": {
   "display_name": "Python 3 (ipykernel)",
   "language": "python",
   "name": "python3"
  },
  "language_info": {
   "codemirror_mode": {
    "name": "ipython",
    "version": 3
   },
   "file_extension": ".py",
   "mimetype": "text/x-python",
   "name": "python",
   "nbconvert_exporter": "python",
   "pygments_lexer": "ipython3",
   "version": "3.10.9"
  }
 },
 "nbformat": 4,
 "nbformat_minor": 5
}
