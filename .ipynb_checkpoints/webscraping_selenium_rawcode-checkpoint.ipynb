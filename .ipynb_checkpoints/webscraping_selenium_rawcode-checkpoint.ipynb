{
 "cells": [
  {
   "cell_type": "markdown",
   "id": "4f6a32a8",
   "metadata": {},
   "source": [
    "## XXXXXXXXXXXXXXX DEV CODE XXXXXXXXXXXXXXXXXXXXXXX"
   ]
  },
  {
   "cell_type": "markdown",
   "id": "8ac6ad07",
   "metadata": {},
   "source": [
    "- This note book contains raw code used during development\n",
    "- It has been developed on two profile pages containing 25 entries each\n",
    "- Feel free to modify, experiment and amend it"
   ]
  },
  {
   "cell_type": "markdown",
   "id": "4582dd0f",
   "metadata": {},
   "source": [
    "### Page-1 (25 entries)"
   ]
  },
  {
   "cell_type": "code",
   "execution_count": 1,
   "id": "79c42a1a",
   "metadata": {},
   "outputs": [],
   "source": [
    "#####################This program uses Selenium which has known issues of intermittance#############\n",
    "############################Execute all cells in sequence#########################################\n",
    "################Don't start executing next cell till execution of one is finished##################\n",
    "################Don't give \"Restart and Run All\" command from Kernel above#########################\n",
    "\n",
    "# import necessary libraries\n",
    "import time\n",
    "from selenium import webdriver\n",
    "from selenium.webdriver.chrome.service import Service as ChromeService\n",
    "from webdriver_manager.chrome import ChromeDriverManager\n",
    "from selenium.webdriver.support.wait import WebDriverWait \n",
    "from selenium.webdriver.chrome.options import Options\n",
    "from selenium.webdriver.support import expected_conditions as EC\n",
    "from selenium.webdriver.common.by import By\n",
    "\n",
    "# Install webdriver manager to automatically detect driver location\n",
    "service = ChromeService(executable_path=ChromeDriverManager().install())\n",
    "\n",
    "# Set up ChromeDriver options\n",
    "chrome_options = Options()\n",
    "chrome_options.add_argument('--headless') # Run in headless mode to avoid opening a new browser window\n",
    "\n",
    "# Initialize empty list to store results\n",
    "all_hrefs = []\n",
    "\n",
    "n = 2 #Number of list pages to be looped over\n",
    "\n",
    "# Loop over 2 list pages\n",
    "for i in range(1,n+1):\n",
    "    # Build URL for current list pages having links to company profiles\n",
    "    url = f\"https://wirmarket.wir.ch/de/members/list/?page={i}&resultAmount=25\"\n",
    "\n",
    "    # Launch ChromeDriver and load websites\n",
    "    # In order to disable browser windows opening for websites amend the code of the following line:\n",
    "    # driver = webdriver.Chrome(service=service, options = chrome_options)\n",
    "    driver = webdriver.Chrome(service=service)\n",
    "    \n",
    "    # Don't uncomment the code on the following line, it is for testing\n",
    "    #   driver.implicitly_wait(20) # seconds\n",
    "    driver.get(url)\n",
    "\n",
    "    # Wait for all anchor elements to be present\n",
    "    # WebDriverWait(driver, 180).until(EC.visiblity_of_all_elements_located((By.CSS_SELECTOR, \"a\")))\n",
    "    # Due to intermittent functionality of WebDriverWait, we introduce sleep() function to get all anchors\n",
    "    # This value is presently set at 15 secs but you may change it depending upon internet speed\n",
    "    time.sleep(25)\n",
    "    # Extract hrefs from all anchor elements on current website\n",
    "    hrefs = [a.get_attribute('href') for a in driver.find_elements(By.CSS_SELECTOR, \"a\")]\n",
    "\n",
    "    # Add hrefs to the list of all hrefs\n",
    "    all_hrefs.extend(hrefs)\n",
    "\n",
    "    # Close the current browser window\n",
    "    driver.quit()\n",
    "\n",
    "# Print all hrefs\n",
    "# print(all_hrefs)\n"
   ]
  },
  {
   "cell_type": "code",
   "execution_count": 2,
   "id": "1885c727",
   "metadata": {},
   "outputs": [
    {
     "name": "stdout",
     "output_type": "stream",
     "text": [
      "327\n",
      "132\n"
     ]
    }
   ],
   "source": [
    "# Check the length of all_hrefs list\n",
    "# Each list link contains between 400-500 hrefs\n",
    "print(len(all_hrefs))\n",
    "# Check for duplicates\n",
    "print(len(set(all_hrefs)))"
   ]
  },
  {
   "cell_type": "code",
   "execution_count": 3,
   "id": "97185258",
   "metadata": {},
   "outputs": [
    {
     "name": "stdout",
     "output_type": "stream",
     "text": [
      "132\n"
     ]
    }
   ],
   "source": [
    "# Keep only the unique hrefs find on the list page\n",
    "all_hrefs_set = set(all_hrefs) # convert to set\n",
    "all_hrefs = list(all_hrefs_set) # convert back to list\n",
    "print(len(all_hrefs))"
   ]
  },
  {
   "cell_type": "code",
   "execution_count": 4,
   "id": "95ea871f",
   "metadata": {},
   "outputs": [],
   "source": [
    "# Filter the list 'all_hrefs' to keep only the company profile page urls\n",
    "\n",
    "#import regex library\n",
    "import re\n",
    "# regex pattern for company profile pages\n",
    "pattern = r'https:\\/\\/\\w+\\.wir\\.ch\\/de\\/companyProfile\\/profile\\/[0-9A-F]{32}\\/info\\/\\?promo=false$'\n",
    "\n",
    "company_profile_urls = []\n",
    "\n",
    "# loop over all_hrefs list extracted above with Selenium to extract company profile urls\n",
    "for href in all_hrefs:\n",
    "    match = re.search(pattern, str(href))\n",
    "    if match:\n",
    "        url = (match.group())\n",
    "        company_profile_urls.append(url)"
   ]
  },
  {
   "cell_type": "code",
   "execution_count": 5,
   "id": "ee8e87fe",
   "metadata": {},
   "outputs": [
    {
     "name": "stdout",
     "output_type": "stream",
     "text": [
      "49\n",
      "49\n",
      "49\n",
      "['https://wirmarket.wir.ch/de/companyProfile/profile/3E429FAF2B3E2A65E0540010E0244DC9/info/?promo=false', 'https://wirmarket.wir.ch/de/companyProfile/profile/4436C96084564825E054A0369F14B95F/info/?promo=false', 'https://wirmarket.wir.ch/de/companyProfile/profile/49DF2B18CF6A13CFE054A0369F14B95F/info/?promo=false', 'https://wirmarket.wir.ch/de/companyProfile/profile/3E429FAF327C2A65E0540010E0244DC9/info/?promo=false', 'https://wirmarket.wir.ch/de/companyProfile/profile/3E429FAF1E3E2A65E0540010E0244DC9/info/?promo=false', 'https://wirmarket.wir.ch/de/companyProfile/profile/3E429FAF2A312A65E0540010E0244DC9/info/?promo=false', 'https://wirmarket.wir.ch/de/companyProfile/profile/444AE90BC72B4817E054A0369F14B95F/info/?promo=false', 'https://wirmarket.wir.ch/de/companyProfile/profile/3E429FAF2B8E2A65E0540010E0244DC9/info/?promo=false', 'https://wirmarket.wir.ch/de/companyProfile/profile/43D232F7ACD1485AE054A0369F14B95F/info/?promo=false', 'https://wirmarket.wir.ch/de/companyProfile/profile/99F1E73327011886E05400144FFAFA27/info/?promo=false']\n"
     ]
    }
   ],
   "source": [
    "# check the length of the list \"coompany_profiles_urls\"\n",
    "print(len(company_profile_urls))\n",
    "# extract unique urls\n",
    "company_profile_set = set(company_profile_urls)\n",
    "print(len(set(company_profile_urls))) \n",
    "# change back to list\n",
    "company_profile_urls = list(company_profile_set)\n",
    "print(len(company_profile_urls))\n",
    "print(company_profile_urls[:10]) # Must contain the string \"info\" in them"
   ]
  },
  {
   "cell_type": "code",
   "execution_count": 6,
   "id": "089a497b",
   "metadata": {},
   "outputs": [
    {
     "name": "stdout",
     "output_type": "stream",
     "text": [
      "execution_time:  426.3411793708801\n"
     ]
    }
   ],
   "source": [
    "start_time = time.time()\n",
    "\n",
    "from contextlib import suppress\n",
    "\n",
    "company_data1 = [] # initialize a list to contain lists of all companies' info\n",
    "\n",
    "            \n",
    "    \n",
    "# We divide the extracted company_profile_urls into two batches\n",
    "for url in company_profile_urls[:24]:\n",
    "    company_info = [] # initialize a list to contain one company's info\n",
    "    \n",
    "    \n",
    "    # driver control block\n",
    "    driver = webdriver.Chrome(service=service)\n",
    "    driver.get(url)\n",
    "    time.sleep(10) # We are using sleep to avoid errors of WebDriverWait though it is timewise costly\n",
    "\n",
    "    \n",
    "# Using suppress context to ignore known exceptions\n",
    "# Do not uncomment following line of code as it may lead to execution errors it is for testing\n",
    "#     with suppress(Exception): \n",
    "        \n",
    "    # Get company names\n",
    "\n",
    "    try:\n",
    "#         WebDriverWait(driver, 10).until(EC.presence_of_element_located((By.ID, \"71-lnk\")))\n",
    "\n",
    "        h3_headings = driver.find_elements(By.CLASS_NAME, \"inline-block\") # find all elements with class = \"inline-block\"\n",
    "        h3_list = []\n",
    "        for heading in h3_headings: #loop through the list obtained\n",
    "            h3_list.append(heading.text) # get text of all h3 headings\n",
    "        company_name = h3_list[0] # company name is the first item in the list\n",
    "        company_info.append(company_name)   \n",
    "    except:\n",
    "        company_info.append('NA')\n",
    "    finally:\n",
    "            pass\n",
    "\n",
    "\n",
    "    # Get company industry\n",
    "\n",
    "    try:\n",
    "\n",
    "        uls = driver.find_elements(By.CLASS_NAME, \"default\")\n",
    "        list_items = driver.find_elements(By.TAG_NAME,\"li\")   \n",
    "        li_list = []\n",
    "        for li in list_items:\n",
    "            li_list.append(li.text)\n",
    "        industry_name = li_list[20] # industry name is the twenty first item in the list\n",
    "        company_info.append(industry_name)   \n",
    "    except:\n",
    "        company_info.append('NA')\n",
    "    finally:\n",
    "            pass\n",
    "\n",
    "    # Get company website if present         \n",
    "    try:\n",
    "#       WebDriverWait(driver, 10).until(EC.presence_of_element_located((By.ID, \"68-lnk\")))\n",
    "        anchor = driver.find_element(By.ID, \"68-lnk\")\n",
    "        website = anchor.get_attribute('href')\n",
    "        company_info.append(website)\n",
    "    except:\n",
    "            company_info.append('NA')\n",
    "    finally:\n",
    "            pass\n",
    "\n",
    "    # Get company telephoone if available\n",
    "    try:\n",
    "#         WebDriverWait(driver, 10).until(EC.presence_of_element_located((By.ID, \"66-lnk\")))\n",
    "        anchor = driver.find_element(By.ID, \"66-lnk\")\n",
    "        company_telephone = anchor.get_attribute('href')\n",
    "        company_info.append(company_telephone)\n",
    "    except:\n",
    "        company_info.append('NA')\n",
    "    finally:\n",
    "            pass\n",
    "    # Get company fax if available\n",
    "    try:\n",
    "#         WebDriverWait(driver, 10).until(EC.presence_of_element_located((By.ID, \"fax-lnk\")))\n",
    "        anchor = driver.find_element(By.ID, \"fax-lnk\")\n",
    "        company_fax_no = anchor.get_attribute('href')\n",
    "        company_info.append(company_fax_no)\n",
    "    except:\n",
    "        company_info.append('NA')\n",
    "    finally: \n",
    "            pass\n",
    "        \n",
    "   # Get company address and address google map link\n",
    "    try:\n",
    "#       WebDriverWait(driver, 10).until(EC.presence_of_element_located((By.ID, \"6-lnk\")))\n",
    "        anchor = driver.find_element(By.ID, \"6-lnk\")\n",
    "        address = anchor.text\n",
    "        address_map_link = anchor.get_attribute('href')\n",
    "        company_info.append(address)\n",
    "        company_info.append(address_map_link)\n",
    "    \n",
    "    except:\n",
    "            company_info.append('NA')\n",
    "    finally:\n",
    "            pass\n",
    "    \n",
    "\n",
    "    company_data1.append(company_info)\n",
    "    company_info = [] # reinitialize company_info\n",
    "\n",
    "    driver.quit()\n",
    "end_time = time.time()\n",
    "execution_time = end_time - start_time\n",
    "print(\"execution_time: \", execution_time)\n"
   ]
  },
  {
   "cell_type": "code",
   "execution_count": 7,
   "id": "e89d491a",
   "metadata": {},
   "outputs": [
    {
     "name": "stdout",
     "output_type": "stream",
     "text": [
      "0\n",
      "24\n"
     ]
    }
   ],
   "source": [
    "# Check Results-1\n",
    "print(len(company_info)) # should be 0\n",
    "print(len(company_data1)) # should be 24"
   ]
  },
  {
   "cell_type": "code",
   "execution_count": 8,
   "id": "875590a0",
   "metadata": {},
   "outputs": [
    {
     "name": "stdout",
     "output_type": "stream",
     "text": [
      "[['Expo-Carrelages SA', 'Grosshandel mit Baustoffen', 'http://www.expo-carrelages.ch/', 'tel:027 723 22 52', 'fax:027 723 28 37', \"Rte de l'Ancienne Pointe 16\\n1920 Martigny 1\", \"https://www.google.com/maps/place/Rte%20de%20l'Ancienne%20Pointe%2016+1920+Martigny%201\"], ['Codemco GmbH', 'Grosshandel mit Baustoffen', 'NA', 'tel:041 790 72 57', 'fax:041 790 72 58', 'Bösch 81\\n6331 Hünenberg', 'https://www.google.com/maps/place/B%C3%B6sch%2081+6331+H%C3%BCnenberg'], ['Lanz AG Möhlin', 'Garten- und Landschaftsbau sowie Erbringung von sonstigen gärtnerischen Dienstleistungen', 'http://www.lanz-gartenbau.ch/', 'tel:061 851 36 72', 'fax:061 841 26 20', 'Werkhofstrasse 7\\n4313 Möhlin', 'https://www.google.com/maps/place/Werkhofstrasse%207+4313+M%C3%B6hlin']]\n"
     ]
    }
   ],
   "source": [
    "# Check Results-II\n",
    "print(company_data1[:3]) \n",
    "# Should be a list of lists\n",
    "# Each list should have five items\n",
    "# First item in each list should be 'company name', second: 'industry', third: website, \n",
    "# fourth: 'tel', fifth 'fax', sixth: 'company address', seventh: 'company address map link'\n",
    "# data not available should be represented by suitable remarks"
   ]
  },
  {
   "cell_type": "code",
   "execution_count": 9,
   "id": "3c0870c1",
   "metadata": {},
   "outputs": [
    {
     "name": "stdout",
     "output_type": "stream",
     "text": [
      "execution_time:  21.931153535842896\n"
     ]
    }
   ],
   "source": [
    "# Extract emails from websites\n",
    "start_time = time.time()\n",
    "import requests\n",
    "import re\n",
    "pattern = r'\\b[A-Za-z0-9._%+-]+@[A-Za-z0-9.-]+\\.[A-Z|a-z]{2,}\\b'\n",
    "\n",
    "companies1 = company_data1.copy()\n",
    "for company in companies1:\n",
    "    try:\n",
    "        response = requests.get(str(company[2]))\n",
    "        \n",
    "        if response.status_code == 200:\n",
    "            emails = re.findall(pattern, response.text)\n",
    "            if emails:\n",
    "                unique_emails = set(emails)\n",
    "                unique_emails_list = list(unique_emails)\n",
    "                company.append(unique_emails_list[0])\n",
    "            else:\n",
    "                company.append('email not found on website')\n",
    "        else:\n",
    "            company.append('bad/broken link to website')\n",
    "    except:\n",
    "            company.append('website does not exist')\n",
    "end_time = time.time()\n",
    "execution_time = end_time - start_time\n",
    "print(\"execution_time: \", execution_time)\n"
   ]
  },
  {
   "cell_type": "code",
   "execution_count": 10,
   "id": "61504f3b",
   "metadata": {},
   "outputs": [
    {
     "name": "stdout",
     "output_type": "stream",
     "text": [
      "[['Arbogast Isolierungen AG', 'Dämmung gegen Kälte, Wärme, Schall und Erschütterung', 'http://www.arbogast-ag.ch/', 'tel:061 603 30 80', 'fax:061 603 30 81', 'Im Speckler 16\\n4126 Bettingen', 'https://www.google.com/maps/place/Im%20Speckler%2016+4126+Bettingen', 'website does not exist'], ['Zili AG', 'Architekturbüros', 'http://www.zili.ch/', 'tel:071 911 68 22', 'fax:071 911 02 26', 'Hauptstrasse 43\\n9552 Bronschhofen', 'https://www.google.com/maps/place/Hauptstrasse%2043+9552+Bronschhofen', 'info@zili.ch'], ['Marmobisa AG', 'Inserate', 'http://www.marmobisa.ch/', 'tel:062 748 70 53', 'NA', 'Gewerbehaus Mühle\\n6245 Ebersecken', 'https://www.google.com/maps/place/Gewerbehaus%20M%C3%BChle+6245+Ebersecken', 'email not found on website']]\n"
     ]
    }
   ],
   "source": [
    "print(companies1[-3:])"
   ]
  },
  {
   "cell_type": "code",
   "execution_count": 11,
   "id": "fea61579",
   "metadata": {},
   "outputs": [],
   "source": [
    "import numpy as np\n",
    "import pandas as pd\n",
    "\n",
    "companies_dataframe1 = pd.DataFrame(companies1, columns=['company_name', 'industry', 'website', \n",
    "                                                       'telephone', 'fax', 'address', 'address_maplink', 'email'])\n",
    "\n"
   ]
  },
  {
   "cell_type": "code",
   "execution_count": 12,
   "id": "3f2fc994",
   "metadata": {},
   "outputs": [
    {
     "name": "stdout",
     "output_type": "stream",
     "text": [
      "<class 'pandas.core.frame.DataFrame'>\n",
      "RangeIndex: 24 entries, 0 to 23\n",
      "Data columns (total 8 columns):\n",
      " #   Column           Non-Null Count  Dtype \n",
      "---  ------           --------------  ----- \n",
      " 0   company_name     24 non-null     object\n",
      " 1   industry         24 non-null     object\n",
      " 2   website          24 non-null     object\n",
      " 3   telephone        24 non-null     object\n",
      " 4   fax              24 non-null     object\n",
      " 5   address          24 non-null     object\n",
      " 6   address_maplink  24 non-null     object\n",
      " 7   email            24 non-null     object\n",
      "dtypes: object(8)\n",
      "memory usage: 1.6+ KB\n"
     ]
    }
   ],
   "source": [
    "companies_dataframe1.info()"
   ]
  },
  {
   "cell_type": "code",
   "execution_count": 13,
   "id": "22356572",
   "metadata": {},
   "outputs": [
    {
     "data": {
      "text/html": [
       "<div>\n",
       "<style scoped>\n",
       "    .dataframe tbody tr th:only-of-type {\n",
       "        vertical-align: middle;\n",
       "    }\n",
       "\n",
       "    .dataframe tbody tr th {\n",
       "        vertical-align: top;\n",
       "    }\n",
       "\n",
       "    .dataframe thead th {\n",
       "        text-align: right;\n",
       "    }\n",
       "</style>\n",
       "<table border=\"1\" class=\"dataframe\">\n",
       "  <thead>\n",
       "    <tr style=\"text-align: right;\">\n",
       "      <th></th>\n",
       "      <th>company_name</th>\n",
       "      <th>industry</th>\n",
       "      <th>website</th>\n",
       "      <th>telephone</th>\n",
       "      <th>fax</th>\n",
       "      <th>address</th>\n",
       "      <th>address_maplink</th>\n",
       "      <th>email</th>\n",
       "    </tr>\n",
       "  </thead>\n",
       "  <tbody>\n",
       "    <tr>\n",
       "      <th>0</th>\n",
       "      <td>Expo-Carrelages SA</td>\n",
       "      <td>Grosshandel mit Baustoffen</td>\n",
       "      <td>http://www.expo-carrelages.ch/</td>\n",
       "      <td>tel:027 723 22 52</td>\n",
       "      <td>fax:027 723 28 37</td>\n",
       "      <td>Rte de l'Ancienne Pointe 16\\n1920 Martigny 1</td>\n",
       "      <td>https://www.google.com/maps/place/Rte%20de%20l...</td>\n",
       "      <td>website does not exist</td>\n",
       "    </tr>\n",
       "    <tr>\n",
       "      <th>1</th>\n",
       "      <td>Codemco GmbH</td>\n",
       "      <td>Grosshandel mit Baustoffen</td>\n",
       "      <td>NA</td>\n",
       "      <td>tel:041 790 72 57</td>\n",
       "      <td>fax:041 790 72 58</td>\n",
       "      <td>Bösch 81\\n6331 Hünenberg</td>\n",
       "      <td>https://www.google.com/maps/place/B%C3%B6sch%2...</td>\n",
       "      <td>website does not exist</td>\n",
       "    </tr>\n",
       "    <tr>\n",
       "      <th>2</th>\n",
       "      <td>Lanz AG Möhlin</td>\n",
       "      <td>Garten- und Landschaftsbau sowie Erbringung vo...</td>\n",
       "      <td>http://www.lanz-gartenbau.ch/</td>\n",
       "      <td>tel:061 851 36 72</td>\n",
       "      <td>fax:061 841 26 20</td>\n",
       "      <td>Werkhofstrasse 7\\n4313 Möhlin</td>\n",
       "      <td>https://www.google.com/maps/place/Werkhofstras...</td>\n",
       "      <td>info@lanz-gartenbau.ch</td>\n",
       "    </tr>\n",
       "    <tr>\n",
       "      <th>3</th>\n",
       "      <td>Max-René Hadorn</td>\n",
       "      <td>Vermietung und Verpachtung von eigenen oder ge...</td>\n",
       "      <td>NA</td>\n",
       "      <td>tel:031 301 51 11</td>\n",
       "      <td>fax:031 301 51 13</td>\n",
       "      <td>Kalchackerstrasse 33\\n3047 Bremgarten b. Bern</td>\n",
       "      <td>https://www.google.com/maps/place/Kalchackerst...</td>\n",
       "      <td>website does not exist</td>\n",
       "    </tr>\n",
       "    <tr>\n",
       "      <th>4</th>\n",
       "      <td>Fleury Opticiens SA</td>\n",
       "      <td>Detailhandel mit Brillen und anderen Sehhilfen</td>\n",
       "      <td>http://www.fleury.ch/</td>\n",
       "      <td>tel:026 919 68 00</td>\n",
       "      <td>NA</td>\n",
       "      <td>Grand-Rue 12\\n1630 Bulle</td>\n",
       "      <td>https://www.google.com/maps/place/Grand-Rue%20...</td>\n",
       "      <td>email not found on website</td>\n",
       "    </tr>\n",
       "  </tbody>\n",
       "</table>\n",
       "</div>"
      ],
      "text/plain": [
       "          company_name                                           industry  \\\n",
       "0   Expo-Carrelages SA                         Grosshandel mit Baustoffen   \n",
       "1         Codemco GmbH                         Grosshandel mit Baustoffen   \n",
       "2       Lanz AG Möhlin  Garten- und Landschaftsbau sowie Erbringung vo...   \n",
       "3      Max-René Hadorn  Vermietung und Verpachtung von eigenen oder ge...   \n",
       "4  Fleury Opticiens SA     Detailhandel mit Brillen und anderen Sehhilfen   \n",
       "\n",
       "                          website          telephone                fax  \\\n",
       "0  http://www.expo-carrelages.ch/  tel:027 723 22 52  fax:027 723 28 37   \n",
       "1                              NA  tel:041 790 72 57  fax:041 790 72 58   \n",
       "2   http://www.lanz-gartenbau.ch/  tel:061 851 36 72  fax:061 841 26 20   \n",
       "3                              NA  tel:031 301 51 11  fax:031 301 51 13   \n",
       "4           http://www.fleury.ch/  tel:026 919 68 00                 NA   \n",
       "\n",
       "                                         address  \\\n",
       "0   Rte de l'Ancienne Pointe 16\\n1920 Martigny 1   \n",
       "1                       Bösch 81\\n6331 Hünenberg   \n",
       "2                  Werkhofstrasse 7\\n4313 Möhlin   \n",
       "3  Kalchackerstrasse 33\\n3047 Bremgarten b. Bern   \n",
       "4                       Grand-Rue 12\\n1630 Bulle   \n",
       "\n",
       "                                     address_maplink  \\\n",
       "0  https://www.google.com/maps/place/Rte%20de%20l...   \n",
       "1  https://www.google.com/maps/place/B%C3%B6sch%2...   \n",
       "2  https://www.google.com/maps/place/Werkhofstras...   \n",
       "3  https://www.google.com/maps/place/Kalchackerst...   \n",
       "4  https://www.google.com/maps/place/Grand-Rue%20...   \n",
       "\n",
       "                        email  \n",
       "0      website does not exist  \n",
       "1      website does not exist  \n",
       "2      info@lanz-gartenbau.ch  \n",
       "3      website does not exist  \n",
       "4  email not found on website  "
      ]
     },
     "execution_count": 13,
     "metadata": {},
     "output_type": "execute_result"
    }
   ],
   "source": [
    "companies_dataframe1.head()"
   ]
  },
  {
   "cell_type": "markdown",
   "id": "1b64e967",
   "metadata": {},
   "source": [
    "### Page-2 (25 entries)"
   ]
  },
  {
   "cell_type": "code",
   "execution_count": 14,
   "id": "a95044b2",
   "metadata": {},
   "outputs": [
    {
     "name": "stdout",
     "output_type": "stream",
     "text": [
      "execution_time:  430.19400930404663\n"
     ]
    }
   ],
   "source": [
    "start_time = time.time()\n",
    "\n",
    "from contextlib import suppress\n",
    "\n",
    "company_data2 = [] # initialize a list to contain lists of all companies' info\n",
    "\n",
    "            \n",
    "    \n",
    "# We divide the extracted company_profile_urls into two batches\n",
    "for url in company_profile_urls[25:50]:\n",
    "    company_info = [] # initialize a list to contain one company's info\n",
    "    \n",
    "    \n",
    "    # driver control block\n",
    "    driver = webdriver.Chrome(service=service)\n",
    "    driver.get(url)\n",
    "    time.sleep(10) # We are using sleep to avoid errors of WebDriverWait though it is timewise costly\n",
    "\n",
    "    \n",
    "# Using suppress context to ignore known exceptions\n",
    "# Do not uncomment following line of code as it may lead to execution errors it is for testing\n",
    "#     with suppress(Exception): \n",
    "        \n",
    "    # Get company names\n",
    "\n",
    "    try:\n",
    "#         WebDriverWait(driver, 10).until(EC.presence_of_element_located((By.ID, \"71-lnk\")))\n",
    "\n",
    "        h3_headings = driver.find_elements(By.CLASS_NAME, \"inline-block\") # find all elements with class = \"inline-block\"\n",
    "        h3_list = []\n",
    "        for heading in h3_headings: #loop through the list obtained\n",
    "            h3_list.append(heading.text) # get text of all h3 headings\n",
    "        company_name = h3_list[0] # company name is the first item in the list\n",
    "        company_info.append(company_name)   \n",
    "    except:\n",
    "        company_info.append('NA')\n",
    "    finally:\n",
    "            pass\n",
    "\n",
    "\n",
    "    # Get company industry\n",
    "\n",
    "    try:\n",
    "\n",
    "        uls = driver.find_elements(By.CLASS_NAME, \"default\")\n",
    "        list_items = driver.find_elements(By.TAG_NAME,\"li\")   \n",
    "        li_list = []\n",
    "        for li in list_items:\n",
    "            li_list.append(li.text)\n",
    "        industry_name = li_list[20] # industry name is the twenty first item in the list\n",
    "        company_info.append(industry_name)   \n",
    "    except:\n",
    "        company_info.append('NA')\n",
    "    finally:\n",
    "            pass\n",
    "\n",
    "    # Get company website if present         \n",
    "    try:\n",
    "#       WebDriverWait(driver, 10).until(EC.presence_of_element_located((By.ID, \"68-lnk\")))\n",
    "        anchor = driver.find_element(By.ID, \"68-lnk\")\n",
    "        website = anchor.get_attribute('href')\n",
    "        company_info.append(website)\n",
    "    except:\n",
    "            company_info.append('NA')\n",
    "    finally:\n",
    "            pass\n",
    "\n",
    "    # Get company telephoone if available\n",
    "    try:\n",
    "#         WebDriverWait(driver, 10).until(EC.presence_of_element_located((By.ID, \"66-lnk\")))\n",
    "        anchor = driver.find_element(By.ID, \"66-lnk\")\n",
    "        company_telephone = anchor.get_attribute('href')\n",
    "        company_info.append(company_telephone)\n",
    "    except:\n",
    "        company_info.append('NA')\n",
    "    finally:\n",
    "            pass\n",
    "    # Get company fax if available\n",
    "    try:\n",
    "#         WebDriverWait(driver, 10).until(EC.presence_of_element_located((By.ID, \"fax-lnk\")))\n",
    "        anchor = driver.find_element(By.ID, \"fax-lnk\")\n",
    "        company_fax_no = anchor.get_attribute('href')\n",
    "        company_info.append(company_fax_no)\n",
    "    except:\n",
    "        company_info.append('NA')\n",
    "    finally: \n",
    "            pass\n",
    "        \n",
    "   # Get company address and address google map link\n",
    "    try:\n",
    "#       WebDriverWait(driver, 10).until(EC.presence_of_element_located((By.ID, \"6-lnk\")))\n",
    "        anchor = driver.find_element(By.ID, \"6-lnk\")\n",
    "        address = anchor.text\n",
    "        address_map_link = anchor.get_attribute('href')\n",
    "        company_info.append(address)\n",
    "        company_info.append(address_map_link)\n",
    "    \n",
    "    except:\n",
    "            company_info.append('NA')\n",
    "    finally:\n",
    "            pass\n",
    "    \n",
    "\n",
    "    company_data2.append(company_info)\n",
    "    company_info = [] # reinitialize company_info\n",
    "\n",
    "    driver.quit()\n",
    "end_time = time.time()\n",
    "execution_time = end_time - start_time\n",
    "print(\"execution_time: \", execution_time)\n"
   ]
  },
  {
   "cell_type": "code",
   "execution_count": 15,
   "id": "22661ed0",
   "metadata": {},
   "outputs": [
    {
     "name": "stdout",
     "output_type": "stream",
     "text": [
      "0\n",
      "24\n"
     ]
    }
   ],
   "source": [
    "# Check Results-1\n",
    "print(len(company_info)) # should be 0\n",
    "print(len(company_data2)) # should be 25"
   ]
  },
  {
   "cell_type": "code",
   "execution_count": 16,
   "id": "71fe47ee",
   "metadata": {},
   "outputs": [
    {
     "name": "stdout",
     "output_type": "stream",
     "text": [
      "[['POWER STUDIO MICHELLEBAUMGARTNER.CH', 'Gymnastik- und Fitnesszentren', 'http://www.michellebaumgartner.ch/', 'NA', 'NA', 'Zürcherstrasse 102\\n8852 Altendorf', 'https://www.google.com/maps/place/Z%C3%BCrcherstrasse%20102+8852+Altendorf'], ['Hup Architekten + Planer', 'Architekturbüros', 'NA', 'tel:056 621 89 81', 'fax:056 621 89 82', 'Bahnhofweg 17\\n5610 Wohlen AG', 'https://www.google.com/maps/place/Bahnhofweg%2017+5610+Wohlen%20AG'], ['Popaj Bau GmbH', 'Allgemeiner Hochbau', 'http://www.popaj-bau.ch/', 'tel:079 647 09 16', 'NA', 'Oberdorfstrasse 12\\n8153 Rümlang', 'https://www.google.com/maps/place/Oberdorfstrasse%2012+8153+R%C3%BCmlang']]\n"
     ]
    }
   ],
   "source": [
    "# Check Results-II\n",
    "print(company_data2[:3]) \n",
    "# Should be a list of lists\n",
    "# Each list should have five items\n",
    "# First item in each list should be 'company name', second: 'industry', third: website, \n",
    "# fourth: 'tel', fifth 'fax', sixth: 'company address', seventh: 'company address map link'\n",
    "# data not available should be represented by suitable remarks"
   ]
  },
  {
   "cell_type": "code",
   "execution_count": 17,
   "id": "821298f8",
   "metadata": {},
   "outputs": [
    {
     "name": "stdout",
     "output_type": "stream",
     "text": [
      "execution_time:  14.561206579208374\n"
     ]
    }
   ],
   "source": [
    "start_time = time.time()\n",
    "import requests\n",
    "import re\n",
    "pattern = r'\\b[A-Za-z0-9._%+-]+@[A-Za-z0-9.-]+\\.[A-Z|a-z]{2,}\\b'\n",
    "\n",
    "companies2 = company_data2.copy()\n",
    "for company in companies2:\n",
    "    try:\n",
    "        response = requests.get(str(company[2]))\n",
    "        \n",
    "        if response.status_code == 200:\n",
    "            emails = re.findall(pattern, response.text)\n",
    "            if emails:\n",
    "                unique_emails = set(emails)\n",
    "                unique_emails_list = list(unique_emails)\n",
    "                company.append(unique_emails_list[0])\n",
    "            else:\n",
    "                company.append('email not found on website')\n",
    "        else:\n",
    "            company.append('bad/broken link to website')\n",
    "    except:\n",
    "            company.append('website does not exist')\n",
    "end_time = time.time()\n",
    "execution_time = end_time - start_time\n",
    "print(\"execution_time: \", execution_time)\n"
   ]
  },
  {
   "cell_type": "code",
   "execution_count": 18,
   "id": "c044b544",
   "metadata": {},
   "outputs": [
    {
     "name": "stdout",
     "output_type": "stream",
     "text": [
      "[['Karl Geiges AG Tiefbauuntern.', 'Bau von Strassen', 'http://www.geiges-ag.ch/', 'tel:052 720 31 18', 'fax:052 720 36 18', 'Erlenstrasse 16\\n8500 Frauenfeld', 'https://www.google.com/maps/place/Erlenstrasse%2016+8500+Frauenfeld', 'info@geiges-ag.ch'], ['Ritz Crossmedia AG', 'Offsetdruck', 'https://www.ritz.ch/', 'tel:031 992 93 94', 'fax:031 992 99 88', 'Morgenstrasse 131\\n3018 Bern', 'https://www.google.com/maps/place/Morgenstrasse%20131+3018+Bern', 'email not found on website'], ['Viglezio Pneumatici SA', 'Detailhandel mit Automobilteilen und -zubehör', 'http://www.viglezio.ch/', 'tel:091 960 52 52', 'fax:091 994 84 14', 'via Paradiso 20\\n6924 Sorengo', 'https://www.google.com/maps/place/via%20Paradiso%2020+6924+Sorengo', 'info@viglezio.ch']]\n"
     ]
    }
   ],
   "source": [
    "print(companies2[-3:])"
   ]
  },
  {
   "cell_type": "code",
   "execution_count": 19,
   "id": "cb458d0e",
   "metadata": {},
   "outputs": [],
   "source": [
    "import numpy as np\n",
    "import pandas as pd\n",
    "\n",
    "companies_dataframe2 = pd.DataFrame(companies2, columns=['company_name', 'industry', 'website', \n",
    "                                                       'telephone', 'fax', 'address', 'address_maplink', 'email'])\n",
    "\n"
   ]
  },
  {
   "cell_type": "code",
   "execution_count": 20,
   "id": "a0af77a6",
   "metadata": {},
   "outputs": [
    {
     "name": "stdout",
     "output_type": "stream",
     "text": [
      "<class 'pandas.core.frame.DataFrame'>\n",
      "RangeIndex: 24 entries, 0 to 23\n",
      "Data columns (total 8 columns):\n",
      " #   Column           Non-Null Count  Dtype \n",
      "---  ------           --------------  ----- \n",
      " 0   company_name     24 non-null     object\n",
      " 1   industry         24 non-null     object\n",
      " 2   website          24 non-null     object\n",
      " 3   telephone        24 non-null     object\n",
      " 4   fax              24 non-null     object\n",
      " 5   address          24 non-null     object\n",
      " 6   address_maplink  24 non-null     object\n",
      " 7   email            24 non-null     object\n",
      "dtypes: object(8)\n",
      "memory usage: 1.6+ KB\n"
     ]
    }
   ],
   "source": [
    "companies_dataframe2.info()"
   ]
  },
  {
   "cell_type": "code",
   "execution_count": 21,
   "id": "5808b82d",
   "metadata": {
    "collapsed": true
   },
   "outputs": [
    {
     "data": {
      "text/html": [
       "<div>\n",
       "<style scoped>\n",
       "    .dataframe tbody tr th:only-of-type {\n",
       "        vertical-align: middle;\n",
       "    }\n",
       "\n",
       "    .dataframe tbody tr th {\n",
       "        vertical-align: top;\n",
       "    }\n",
       "\n",
       "    .dataframe thead th {\n",
       "        text-align: right;\n",
       "    }\n",
       "</style>\n",
       "<table border=\"1\" class=\"dataframe\">\n",
       "  <thead>\n",
       "    <tr style=\"text-align: right;\">\n",
       "      <th></th>\n",
       "      <th>company_name</th>\n",
       "      <th>industry</th>\n",
       "      <th>website</th>\n",
       "      <th>telephone</th>\n",
       "      <th>fax</th>\n",
       "      <th>address</th>\n",
       "      <th>address_maplink</th>\n",
       "      <th>email</th>\n",
       "    </tr>\n",
       "  </thead>\n",
       "  <tbody>\n",
       "    <tr>\n",
       "      <th>0</th>\n",
       "      <td>POWER STUDIO MICHELLEBAUMGARTNER.CH</td>\n",
       "      <td>Gymnastik- und Fitnesszentren</td>\n",
       "      <td>http://www.michellebaumgartner.ch/</td>\n",
       "      <td>NA</td>\n",
       "      <td>NA</td>\n",
       "      <td>Zürcherstrasse 102\\n8852 Altendorf</td>\n",
       "      <td>https://www.google.com/maps/place/Z%C3%BCrcher...</td>\n",
       "      <td>email not found on website</td>\n",
       "    </tr>\n",
       "    <tr>\n",
       "      <th>1</th>\n",
       "      <td>Hup Architekten + Planer</td>\n",
       "      <td>Architekturbüros</td>\n",
       "      <td>NA</td>\n",
       "      <td>tel:056 621 89 81</td>\n",
       "      <td>fax:056 621 89 82</td>\n",
       "      <td>Bahnhofweg 17\\n5610 Wohlen AG</td>\n",
       "      <td>https://www.google.com/maps/place/Bahnhofweg%2...</td>\n",
       "      <td>website does not exist</td>\n",
       "    </tr>\n",
       "    <tr>\n",
       "      <th>2</th>\n",
       "      <td>Popaj Bau GmbH</td>\n",
       "      <td>Allgemeiner Hochbau</td>\n",
       "      <td>http://www.popaj-bau.ch/</td>\n",
       "      <td>tel:079 647 09 16</td>\n",
       "      <td>NA</td>\n",
       "      <td>Oberdorfstrasse 12\\n8153 Rümlang</td>\n",
       "      <td>https://www.google.com/maps/place/Oberdorfstra...</td>\n",
       "      <td>info@popaj-bau.ch</td>\n",
       "    </tr>\n",
       "    <tr>\n",
       "      <th>3</th>\n",
       "      <td>Josef Brun</td>\n",
       "      <td>Verwaltung von Grundstücken, Gebäuden und Wohn...</td>\n",
       "      <td>NA</td>\n",
       "      <td>tel:056 634 35 35</td>\n",
       "      <td>fax:056 634 35 36</td>\n",
       "      <td>Breitenrain 37\\n8917 Oberlunkhofen</td>\n",
       "      <td>https://www.google.com/maps/place/Breitenrain%...</td>\n",
       "      <td>website does not exist</td>\n",
       "    </tr>\n",
       "    <tr>\n",
       "      <th>4</th>\n",
       "      <td>Siegrist &amp; Tschuor AG</td>\n",
       "      <td>Malerei und Gipserei ohne ausgeprägten Schwerp...</td>\n",
       "      <td>http://www.siegrist-tschuor.ch/</td>\n",
       "      <td>tel:062 791 35 65</td>\n",
       "      <td>fax:062 791 56 80</td>\n",
       "      <td>Bifangstrasse 47a\\n4663 Aarburg</td>\n",
       "      <td>https://www.google.com/maps/place/Bifangstrass...</td>\n",
       "      <td>info@siegrist-tschuor.ch</td>\n",
       "    </tr>\n",
       "  </tbody>\n",
       "</table>\n",
       "</div>"
      ],
      "text/plain": [
       "                          company_name  \\\n",
       "0  POWER STUDIO MICHELLEBAUMGARTNER.CH   \n",
       "1             Hup Architekten + Planer   \n",
       "2                       Popaj Bau GmbH   \n",
       "3                           Josef Brun   \n",
       "4                Siegrist & Tschuor AG   \n",
       "\n",
       "                                            industry  \\\n",
       "0                      Gymnastik- und Fitnesszentren   \n",
       "1                                   Architekturbüros   \n",
       "2                                Allgemeiner Hochbau   \n",
       "3  Verwaltung von Grundstücken, Gebäuden und Wohn...   \n",
       "4  Malerei und Gipserei ohne ausgeprägten Schwerp...   \n",
       "\n",
       "                              website          telephone                fax  \\\n",
       "0  http://www.michellebaumgartner.ch/                 NA                 NA   \n",
       "1                                  NA  tel:056 621 89 81  fax:056 621 89 82   \n",
       "2            http://www.popaj-bau.ch/  tel:079 647 09 16                 NA   \n",
       "3                                  NA  tel:056 634 35 35  fax:056 634 35 36   \n",
       "4     http://www.siegrist-tschuor.ch/  tel:062 791 35 65  fax:062 791 56 80   \n",
       "\n",
       "                              address  \\\n",
       "0  Zürcherstrasse 102\\n8852 Altendorf   \n",
       "1       Bahnhofweg 17\\n5610 Wohlen AG   \n",
       "2    Oberdorfstrasse 12\\n8153 Rümlang   \n",
       "3  Breitenrain 37\\n8917 Oberlunkhofen   \n",
       "4     Bifangstrasse 47a\\n4663 Aarburg   \n",
       "\n",
       "                                     address_maplink  \\\n",
       "0  https://www.google.com/maps/place/Z%C3%BCrcher...   \n",
       "1  https://www.google.com/maps/place/Bahnhofweg%2...   \n",
       "2  https://www.google.com/maps/place/Oberdorfstra...   \n",
       "3  https://www.google.com/maps/place/Breitenrain%...   \n",
       "4  https://www.google.com/maps/place/Bifangstrass...   \n",
       "\n",
       "                        email  \n",
       "0  email not found on website  \n",
       "1      website does not exist  \n",
       "2           info@popaj-bau.ch  \n",
       "3      website does not exist  \n",
       "4    info@siegrist-tschuor.ch  "
      ]
     },
     "execution_count": 21,
     "metadata": {},
     "output_type": "execute_result"
    }
   ],
   "source": [
    "companies_dataframe2.head()"
   ]
  },
  {
   "cell_type": "code",
   "execution_count": 23,
   "id": "844b0713",
   "metadata": {},
   "outputs": [],
   "source": [
    "companies_dataframe = pd.concat([companies_dataframe1, companies_dataframe2])"
   ]
  },
  {
   "cell_type": "code",
   "execution_count": 24,
   "id": "132616e0",
   "metadata": {},
   "outputs": [
    {
     "name": "stdout",
     "output_type": "stream",
     "text": [
      "<class 'pandas.core.frame.DataFrame'>\n",
      "Int64Index: 48 entries, 0 to 23\n",
      "Data columns (total 8 columns):\n",
      " #   Column           Non-Null Count  Dtype \n",
      "---  ------           --------------  ----- \n",
      " 0   company_name     48 non-null     object\n",
      " 1   industry         48 non-null     object\n",
      " 2   website          48 non-null     object\n",
      " 3   telephone        48 non-null     object\n",
      " 4   fax              48 non-null     object\n",
      " 5   address          48 non-null     object\n",
      " 6   address_maplink  48 non-null     object\n",
      " 7   email            48 non-null     object\n",
      "dtypes: object(8)\n",
      "memory usage: 3.4+ KB\n"
     ]
    }
   ],
   "source": [
    "companies_dataframe.info()"
   ]
  },
  {
   "cell_type": "code",
   "execution_count": 26,
   "id": "dd281ea8",
   "metadata": {},
   "outputs": [
    {
     "data": {
      "text/html": [
       "<div>\n",
       "<style scoped>\n",
       "    .dataframe tbody tr th:only-of-type {\n",
       "        vertical-align: middle;\n",
       "    }\n",
       "\n",
       "    .dataframe tbody tr th {\n",
       "        vertical-align: top;\n",
       "    }\n",
       "\n",
       "    .dataframe thead th {\n",
       "        text-align: right;\n",
       "    }\n",
       "</style>\n",
       "<table border=\"1\" class=\"dataframe\">\n",
       "  <thead>\n",
       "    <tr style=\"text-align: right;\">\n",
       "      <th></th>\n",
       "      <th>company_name</th>\n",
       "      <th>industry</th>\n",
       "      <th>website</th>\n",
       "      <th>telephone</th>\n",
       "      <th>fax</th>\n",
       "      <th>address</th>\n",
       "      <th>address_maplink</th>\n",
       "      <th>email</th>\n",
       "    </tr>\n",
       "  </thead>\n",
       "  <tbody>\n",
       "    <tr>\n",
       "      <th>0</th>\n",
       "      <td>Expo-Carrelages SA</td>\n",
       "      <td>Grosshandel mit Baustoffen</td>\n",
       "      <td>http://www.expo-carrelages.ch/</td>\n",
       "      <td>tel:027 723 22 52</td>\n",
       "      <td>fax:027 723 28 37</td>\n",
       "      <td>Rte de l'Ancienne Pointe 16\\n1920 Martigny 1</td>\n",
       "      <td>https://www.google.com/maps/place/Rte%20de%20l...</td>\n",
       "      <td>website does not exist</td>\n",
       "    </tr>\n",
       "    <tr>\n",
       "      <th>1</th>\n",
       "      <td>Codemco GmbH</td>\n",
       "      <td>Grosshandel mit Baustoffen</td>\n",
       "      <td>NA</td>\n",
       "      <td>tel:041 790 72 57</td>\n",
       "      <td>fax:041 790 72 58</td>\n",
       "      <td>Bösch 81\\n6331 Hünenberg</td>\n",
       "      <td>https://www.google.com/maps/place/B%C3%B6sch%2...</td>\n",
       "      <td>website does not exist</td>\n",
       "    </tr>\n",
       "    <tr>\n",
       "      <th>2</th>\n",
       "      <td>Lanz AG Möhlin</td>\n",
       "      <td>Garten- und Landschaftsbau sowie Erbringung vo...</td>\n",
       "      <td>http://www.lanz-gartenbau.ch/</td>\n",
       "      <td>tel:061 851 36 72</td>\n",
       "      <td>fax:061 841 26 20</td>\n",
       "      <td>Werkhofstrasse 7\\n4313 Möhlin</td>\n",
       "      <td>https://www.google.com/maps/place/Werkhofstras...</td>\n",
       "      <td>info@lanz-gartenbau.ch</td>\n",
       "    </tr>\n",
       "    <tr>\n",
       "      <th>3</th>\n",
       "      <td>Max-René Hadorn</td>\n",
       "      <td>Vermietung und Verpachtung von eigenen oder ge...</td>\n",
       "      <td>NA</td>\n",
       "      <td>tel:031 301 51 11</td>\n",
       "      <td>fax:031 301 51 13</td>\n",
       "      <td>Kalchackerstrasse 33\\n3047 Bremgarten b. Bern</td>\n",
       "      <td>https://www.google.com/maps/place/Kalchackerst...</td>\n",
       "      <td>website does not exist</td>\n",
       "    </tr>\n",
       "    <tr>\n",
       "      <th>4</th>\n",
       "      <td>Fleury Opticiens SA</td>\n",
       "      <td>Detailhandel mit Brillen und anderen Sehhilfen</td>\n",
       "      <td>http://www.fleury.ch/</td>\n",
       "      <td>tel:026 919 68 00</td>\n",
       "      <td>NA</td>\n",
       "      <td>Grand-Rue 12\\n1630 Bulle</td>\n",
       "      <td>https://www.google.com/maps/place/Grand-Rue%20...</td>\n",
       "      <td>email not found on website</td>\n",
       "    </tr>\n",
       "  </tbody>\n",
       "</table>\n",
       "</div>"
      ],
      "text/plain": [
       "          company_name                                           industry  \\\n",
       "0   Expo-Carrelages SA                         Grosshandel mit Baustoffen   \n",
       "1         Codemco GmbH                         Grosshandel mit Baustoffen   \n",
       "2       Lanz AG Möhlin  Garten- und Landschaftsbau sowie Erbringung vo...   \n",
       "3      Max-René Hadorn  Vermietung und Verpachtung von eigenen oder ge...   \n",
       "4  Fleury Opticiens SA     Detailhandel mit Brillen und anderen Sehhilfen   \n",
       "\n",
       "                          website          telephone                fax  \\\n",
       "0  http://www.expo-carrelages.ch/  tel:027 723 22 52  fax:027 723 28 37   \n",
       "1                              NA  tel:041 790 72 57  fax:041 790 72 58   \n",
       "2   http://www.lanz-gartenbau.ch/  tel:061 851 36 72  fax:061 841 26 20   \n",
       "3                              NA  tel:031 301 51 11  fax:031 301 51 13   \n",
       "4           http://www.fleury.ch/  tel:026 919 68 00                 NA   \n",
       "\n",
       "                                         address  \\\n",
       "0   Rte de l'Ancienne Pointe 16\\n1920 Martigny 1   \n",
       "1                       Bösch 81\\n6331 Hünenberg   \n",
       "2                  Werkhofstrasse 7\\n4313 Möhlin   \n",
       "3  Kalchackerstrasse 33\\n3047 Bremgarten b. Bern   \n",
       "4                       Grand-Rue 12\\n1630 Bulle   \n",
       "\n",
       "                                     address_maplink  \\\n",
       "0  https://www.google.com/maps/place/Rte%20de%20l...   \n",
       "1  https://www.google.com/maps/place/B%C3%B6sch%2...   \n",
       "2  https://www.google.com/maps/place/Werkhofstras...   \n",
       "3  https://www.google.com/maps/place/Kalchackerst...   \n",
       "4  https://www.google.com/maps/place/Grand-Rue%20...   \n",
       "\n",
       "                        email  \n",
       "0      website does not exist  \n",
       "1      website does not exist  \n",
       "2      info@lanz-gartenbau.ch  \n",
       "3      website does not exist  \n",
       "4  email not found on website  "
      ]
     },
     "execution_count": 26,
     "metadata": {},
     "output_type": "execute_result"
    }
   ],
   "source": [
    "companies_dataframe.head()"
   ]
  },
  {
   "cell_type": "code",
   "execution_count": 27,
   "id": "9bf1cf02",
   "metadata": {},
   "outputs": [],
   "source": [
    "companies_dataframe.to_csv('raw.csv', index = False)"
   ]
  },
  {
   "cell_type": "code",
   "execution_count": null,
   "id": "5f31b03e",
   "metadata": {},
   "outputs": [],
   "source": []
  }
 ],
 "metadata": {
  "kernelspec": {
   "display_name": "Python 3 (ipykernel)",
   "language": "python",
   "name": "python3"
  },
  "language_info": {
   "codemirror_mode": {
    "name": "ipython",
    "version": 3
   },
   "file_extension": ".py",
   "mimetype": "text/x-python",
   "name": "python",
   "nbconvert_exporter": "python",
   "pygments_lexer": "ipython3",
   "version": "3.10.9"
  }
 },
 "nbformat": 4,
 "nbformat_minor": 5
}
